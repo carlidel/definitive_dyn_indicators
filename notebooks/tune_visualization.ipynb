{
 "cells": [
  {
   "cell_type": "code",
   "execution_count": 94,
   "metadata": {},
   "outputs": [],
   "source": [
    "import numpy as np\n",
    "import pandas as pd\n",
    "import matplotlib.pyplot as plt\n",
    "import pickle\n",
    "import pathlib\n",
    "import os\n",
    "\n",
    "import plotly.graph_objects as go\n",
    "import ipywidgets as widgets"
   ]
  },
  {
   "cell_type": "code",
   "execution_count": 95,
   "metadata": {},
   "outputs": [],
   "source": [
    "DATA_PATH = \"../data\""
   ]
  },
  {
   "cell_type": "code",
   "execution_count": 96,
   "metadata": {},
   "outputs": [],
   "source": [
    "files = os.listdir(DATA_PATH)\n",
    "files = list(filter(lambda x: x.endswith(\".pkl\"), files))\n",
    "files = list(filter(lambda x: x.startswith(\"henon_tunes\"), files))\n",
    "\n",
    "# get numbers from files\n",
    "numbers = list(map(lambda x: float((x.split(\"_\")[-1])[:-4]), files))\n",
    "\n",
    "# make a dictionary\n",
    "d = dict(zip(numbers, [os.path.join(DATA_PATH, f) for f in files]))"
   ]
  },
  {
   "cell_type": "code",
   "execution_count": 97,
   "metadata": {},
   "outputs": [],
   "source": [
    "files = os.listdir(DATA_PATH)\n",
    "files = list(filter(lambda x: x.endswith(\".pkl\"), files))\n",
    "files = list(filter(lambda x: x.startswith(\"henon_long_tracking\"), files))\n",
    "\n",
    "# get numbers from files\n",
    "numbers = list(map(lambda x: float((x.split(\"_\")[-1])[:-4]), files))\n",
    "\n",
    "# make a dictionary\n",
    "d_track = dict(zip(numbers, [os.path.join(DATA_PATH, f) for f in files]))"
   ]
  },
  {
   "cell_type": "code",
   "execution_count": null,
   "metadata": {},
   "outputs": [],
   "source": [
    "epsilon = 16.0"
   ]
  },
  {
   "cell_type": "code",
   "execution_count": null,
   "metadata": {},
   "outputs": [],
   "source": [
    "with open(d[epsilon], \"rb\") as f:\n",
    "    data = pickle.load(f)\n",
    "with open(d_track[epsilon], \"rb\") as f:\n",
    "    data_track = pickle.load(f)"
   ]
  },
  {
   "cell_type": "code",
   "execution_count": 118,
   "metadata": {},
   "outputs": [],
   "source": [
    "def format_track_data(data, log10=True, clean=True):\n",
    "    track = data[\"steps\"].reshape(\n",
    "        data[\"config\"][\"samples\"], data[\"config\"][\"samples\"])\n",
    "    if log10:\n",
    "        track = np.log10(track)\n",
    "    if clean:\n",
    "        track[np.isnan(track)] = np.nanmax(track)\n",
    "        track[np.isinf(track)] = np.nanmax(track)\n",
    "    return track\n",
    "    \n",
    "\n",
    "def format_data(data, power, element, log10=True, clean=True):\n",
    "    settings = data[\"settings\"]\n",
    "    samples = settings[\"samples\"]\n",
    "    if element == \"birkhoff\":\n",
    "        dataframe = data[\"birkhoff_tunes\"]\n",
    "    elif element == \"fft\":\n",
    "        dataframe = data[\"fft_tunes\"]\n",
    "    else:\n",
    "        raise ValueError(\"element must be either 'birkhoff' or 'fft'\")\n",
    "\n",
    "    power_middle = 2**power\n",
    "    power_to = 2**(power+1)\n",
    "\n",
    "    dataframe_middle_x = dataframe[(dataframe[\"from\"] == 0) & (dataframe[\"to\"] == power_middle)][\"tune_x\"].array[0].reshape(samples, samples)\n",
    "    dataframe_middle_y = dataframe[(dataframe[\"from\"] == 0) & (dataframe[\"to\"] == power_middle)][\"tune_y\"].array[0].reshape(samples, samples)\n",
    "\n",
    "    dataframe_to_x = dataframe[(dataframe[\"from\"] == power_middle) & (dataframe[\"to\"] == power_to)][\"tune_x\"].array[0].reshape(samples, samples)\n",
    "    dataframe_to_y = dataframe[(dataframe[\"from\"] == power_middle) & (dataframe[\"to\"] == power_to)][\"tune_y\"].array[0].reshape(samples, samples)\n",
    "\n",
    "    diff_x = dataframe_to_x - dataframe_middle_x\n",
    "    diff_y = dataframe_to_y - dataframe_middle_y\n",
    "\n",
    "    diff = np.sqrt(diff_x**2 + diff_y**2)\n",
    "    \n",
    "    if log10:\n",
    "        diff = np.log10(diff)\n",
    "    \n",
    "    if clean:\n",
    "        diff = np.asarray(diff, dtype=object)\n",
    "        diff[np.isnan(diff.astype(np.float_))] = None\n",
    "        diff[np.isinf(diff.astype(np.float_))] = None\n",
    "\n",
    "    return diff\n"
   ]
  },
  {
   "cell_type": "code",
   "execution_count": 140,
   "metadata": {},
   "outputs": [
    {
     "name": "stderr",
     "output_type": "stream",
     "text": [
      "/tmp/ipykernel_124973/2896831784.py:37: RuntimeWarning:\n",
      "\n",
      "divide by zero encountered in log10\n",
      "\n"
     ]
    }
   ],
   "source": [
    "power_of_two = widgets.IntSlider(\n",
    "    value=7,\n",
    "    min=data[\"settings\"][\"min_power_of_two\"],\n",
    "    max=data[\"settings\"][\"max_power_of_two\"],\n",
    "    step=1,\n",
    "    description=\"Power of 2:\",\n",
    "    continuous_update=False,\n",
    ")\n",
    "\n",
    "text_power_of_two = widgets.Label(\n",
    "    value=\"N turns = {}\".format(2 ** power_of_two.value),\n",
    ")\n",
    "\n",
    "d_keys = list(sorted(d.keys()))\n",
    "\n",
    "epsilon_dropdown = widgets.Dropdown(\n",
    "    options=d_keys,\n",
    "    value=epsilon,\n",
    "    description=\"Epsilon:\",\n",
    "    disabled=False,\n",
    ")\n",
    "\n",
    "# create stability heatmap\n",
    "stab_plot = go.FigureWidget(\n",
    "    data=go.Heatmap(z=np.log10(\n",
    "        data_track[\"steps\"].reshape(data_track[\"config\"][\"samples\"], data_track[\"config\"][\"samples\"])), colorscale=\"Viridis\")\n",
    ")\n",
    "stab_plot.update_layout(\n",
    "    title_text=\"Stability plot [log10], epsilon = {}\".format(epsilon_dropdown.value),\n",
    "    xaxis_title=\"x\", yaxis_title=\"y\"\n",
    ")\n",
    "\n",
    "\n",
    "# create heatmap with plotly\n",
    "w1 = go.FigureWidget(data=go.Heatmap(\n",
    "    z=format_data(data, power_of_two.value, \"fft\"), colorscale=\"Viridis\"),\n",
    ")\n",
    "w1.update_layout(\n",
    "    title_text=\"FFT tune [log10], epsilon = {}\".format(epsilon_dropdown.value),\n",
    "    xaxis_title=\"x\", yaxis_title=\"y\"\n",
    ")\n",
    "w2 = go.FigureWidget(data=go.Heatmap(\n",
    "    z=format_data(data, power_of_two.value, \"birkhoff\"), colorscale=\"Viridis\"),\n",
    ")\n",
    "w2.update_layout(\n",
    "    title_text=\"Birkhoff tune [log10], epsilon = {}\".format(\n",
    "        epsilon_dropdown.value),\n",
    "    xaxis_title=\"x\", yaxis_title=\"y\"\n",
    ")\n",
    "img_container = widgets.VBox([\n",
    "    widgets.HBox([power_of_two, text_power_of_two, epsilon_dropdown], width='auto'),\n",
    "    widgets.HBox([w1, w2], width='auto'),\n",
    "    widgets.HBox([stab_plot], width='auto')\n",
    "])\n"
   ]
  },
  {
   "cell_type": "code",
   "execution_count": 141,
   "metadata": {},
   "outputs": [],
   "source": [
    "def response(change):\n",
    "    epsilon = epsilon_dropdown.value\n",
    "    power = power_of_two.value\n",
    "    text_power_of_two.value = \"N turns = {}\".format(2 ** power_of_two.value)\n",
    "    with open(d[epsilon], \"rb\") as f:\n",
    "        data = pickle.load(f)\n",
    "    with open(d_track[epsilon], \"rb\") as f:\n",
    "        data_track = pickle.load(f)\n",
    "    stab_plot.data[0].z = z = np.log10(\n",
    "        data_track[\"steps\"].reshape(data_track[\"config\"][\"samples\"], data_track[\"config\"][\"samples\"]))\n",
    "    stab_plot.update_layout(\n",
    "        title_text=\"Stability plot [log10], epsilon = {}\".format(epsilon_dropdown.value))\n",
    "    w1.data[0].z = format_data(data, power, \"fft\")\n",
    "    w2.data[0].z = format_data(data, power, \"birkhoff\")\n",
    "    w2.update_layout(\n",
    "        title_text=\"FFT Tunes [log10], epsilon = {}\".format(epsilon))\n",
    "    w1.update_layout(\n",
    "        title_text=\"Birkhoff Tunes [log10], epsilon = {}\".format(epsilon))\n",
    "\n",
    "power_of_two.observe(response, names=\"value\")\n",
    "epsilon_dropdown.observe(response, names=\"value\")\n"
   ]
  },
  {
   "cell_type": "code",
   "execution_count": 142,
   "metadata": {},
   "outputs": [
    {
     "data": {
      "application/vnd.jupyter.widget-view+json": {
       "model_id": "bcd0182c24ee4d9bb345a54416a9d370",
       "version_major": 2,
       "version_minor": 0
      },
      "text/plain": [
       "VBox(children=(HBox(children=(IntSlider(value=7, continuous_update=False, description='Power of 2:', max=14, m…"
      ]
     },
     "metadata": {},
     "output_type": "display_data"
    }
   ],
   "source": [
    "img_container"
   ]
  },
  {
   "cell_type": "code",
   "execution_count": 112,
   "metadata": {},
   "outputs": [],
   "source": [
    "epsilon = 16.0"
   ]
  },
  {
   "cell_type": "code",
   "execution_count": 113,
   "metadata": {},
   "outputs": [],
   "source": [
    "with open(d[epsilon], \"rb\") as f:\n",
    "    data = pickle.load(f)\n",
    "with open(d_track[epsilon], \"rb\") as f:\n",
    "    data_track = pickle.load(f)\n"
   ]
  },
  {
   "cell_type": "code",
   "execution_count": null,
   "metadata": {},
   "outputs": [],
   "source": [
    "format_data(data, power_of_two.value, \"fft\")"
   ]
  }
 ],
 "metadata": {
  "interpreter": {
   "hash": "871aeb43e99df445217f8150e40694afb64d0600c0573b6bac502dee120165de"
  },
  "kernelspec": {
   "display_name": "Python 3.8.12 64-bit ('base': conda)",
   "language": "python",
   "name": "python3"
  },
  "language_info": {
   "codemirror_mode": {
    "name": "ipython",
    "version": 3
   },
   "file_extension": ".py",
   "mimetype": "text/x-python",
   "name": "python",
   "nbconvert_exporter": "python",
   "pygments_lexer": "ipython3",
   "version": "3.8.12"
  },
  "orig_nbformat": 4
 },
 "nbformat": 4,
 "nbformat_minor": 2
}
