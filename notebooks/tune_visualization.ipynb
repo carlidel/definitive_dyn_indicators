{
 "cells": [
  {
   "cell_type": "code",
   "execution_count": 1,
   "metadata": {},
   "outputs": [],
   "source": [
    "import numpy as np\n",
    "import pandas as pd\n",
    "import matplotlib.pyplot as plt\n",
    "import pickle\n",
    "import pathlib\n",
    "import os\n",
    "\n",
    "import plotly.graph_objects as go\n",
    "import ipywidgets as widgets"
   ]
  },
  {
   "cell_type": "code",
   "execution_count": 2,
   "metadata": {},
   "outputs": [],
   "source": [
    "DATA_PATH = \"../data\""
   ]
  },
  {
   "cell_type": "code",
   "execution_count": 3,
   "metadata": {},
   "outputs": [],
   "source": [
    "files = os.listdir(DATA_PATH)\n",
    "files = list(filter(lambda x: x.endswith(\".pkl\"), files))\n",
    "files = list(filter(lambda x: x.startswith(\"henon_tunes\"), files))\n",
    "\n",
    "# get numbers from files\n",
    "numbers = list(map(lambda x: float((x.split(\"_\")[-1])[:-4]), files))\n",
    "\n",
    "# make a dictionary\n",
    "d = dict(zip(numbers, [os.path.join(DATA_PATH, f) for f in files]))"
   ]
  },
  {
   "cell_type": "code",
   "execution_count": 4,
   "metadata": {},
   "outputs": [],
   "source": [
    "epsilon = 0.0"
   ]
  },
  {
   "cell_type": "code",
   "execution_count": 5,
   "metadata": {},
   "outputs": [],
   "source": [
    "with open(d[epsilon], \"rb\") as f:\n",
    "    data = pickle.load(f)"
   ]
  },
  {
   "cell_type": "code",
   "execution_count": 6,
   "metadata": {},
   "outputs": [
    {
     "data": {
      "text/plain": [
       "{'settings': {'min_power_of_two': 5,\n",
       "  'max_power_of_two': 14,\n",
       "  'samples': 500,\n",
       "  'x_extents': [0.0, 1.0],\n",
       "  'y_extents': [0.0, 1.0],\n",
       "  'omega_x': 0.168,\n",
       "  'omega_y': 0.201,\n",
       "  'x_flat': array([0.        , 0.00200401, 0.00400802, ..., 0.99599198, 0.99799599,\n",
       "         1.        ]),\n",
       "  'y_flat': array([0., 0., 0., ..., 1., 1., 1.])},\n",
       " 'birkhoff_tunes':      from     to                                             tune_x  \\\n",
       " 0       0     32  [1.0, 0.16799904805791022, 0.16799767750313643...   \n",
       " 1      32     64  [1.0, 0.16800189492532636, 0.16800337727547188...   \n",
       " 2       0     64  [1.0, 0.16800196322004435, 0.16800349672996584...   \n",
       " 3      64    128  [1.0, 0.16799429596350912, 0.1679881847099518,...   \n",
       " 4       0    128  [1.0, 0.16799954640766124, 0.1679986807783559,...   \n",
       " 5     128    256  [1.0, 0.16800001115540597, 0.16799961652023132...   \n",
       " 6       0    256  [1.0, 0.1680009849037054, 0.1680015581030544, ...   \n",
       " 7     256    512  [1.0, 0.16800101820181434, 0.16800162369513505...   \n",
       " 8       0    512  [1.0, 0.16800038733286848, 0.16800036424307174...   \n",
       " 9     512   1024  [1.0, 0.16800041973870838, 0.1680004281334141,...   \n",
       " 10      0   1024  [1.0, 0.1680000916667077, 0.1679997735039327, ...   \n",
       " 11   1024   2048  [1.0, 0.16800012119994767, 0.16799983199856205...   \n",
       " 12      0   2048  [1.0, 0.16799994502416382, 0.16799948053154845...   \n",
       " 13   2048   4096  [1.0, 0.16799996024331076, 0.16799951220124676...   \n",
       " 14      0   4096  [1.0, 0.16799986836605363, 0.16799932802112916...   \n",
       " 15   4096   8192  [1.0, 0.16799983551677244, 0.16799926686152267...   \n",
       " 16      0   8192  [1.0, 0.16799981100397743, 0.16799921521519934...   \n",
       " 17   8192  16384  [1.0, 0.16799979589381986, 0.16799918266223446...   \n",
       " 18      0  16384  [1.0, 0.16799979311100555, 0.16799917707767464...   \n",
       " 19  16384  32768  [1.0, 0.16799979656081354, 0.16799918521477875...   \n",
       " 20      0  32768  [1.0, 0.16799980429695527, 0.16799919942164454...   \n",
       " \n",
       "                                                tune_y  \n",
       " 0   [1.0, 1.0, 1.0, 1.0, 1.0, 1.0, 1.0, 1.0, 1.0, ...  \n",
       " 1   [1.0, 1.0, 1.0, 1.0, 1.0, 1.0, 1.0, 1.0, 1.0, ...  \n",
       " 2   [1.0, 1.0, 1.0, 1.0, 1.0, 1.0, 1.0, 1.0, 1.0, ...  \n",
       " 3   [1.0, 1.0, 1.0, 1.0, 1.0, 1.0, 1.0, 1.0, 1.0, ...  \n",
       " 4   [1.0, 1.0, 1.0, 1.0, 1.0, 1.0, 1.0, 1.0, 1.0, ...  \n",
       " 5   [1.0, 1.0, 1.0, 1.0, 1.0, 1.0, 1.0, 1.0, 1.0, ...  \n",
       " 6   [1.0, 1.0, 1.0, 1.0, 1.0, 1.0, 1.0, 1.0, 1.0, ...  \n",
       " 7   [1.0, 1.0, 1.0, 1.0, 1.0, 1.0, 1.0, 1.0, 1.0, ...  \n",
       " 8   [1.0, 1.0, 1.0, 1.0, 1.0, 1.0, 1.0, 1.0, 1.0, ...  \n",
       " 9   [1.0, 1.0, 1.0, 1.0, 1.0, 1.0, 1.0, 1.0, 1.0, ...  \n",
       " 10  [1.0, 1.0, 1.0, 1.0, 1.0, 1.0, 1.0, 1.0, 1.0, ...  \n",
       " 11  [1.0, 1.0, 1.0, 1.0, 1.0, 1.0, 1.0, 1.0, 1.0, ...  \n",
       " 12  [1.0, 1.0, 1.0, 1.0, 1.0, 1.0, 1.0, 1.0, 1.0, ...  \n",
       " 13  [1.0, 1.0, 1.0, 1.0, 1.0, 1.0, 1.0, 1.0, 1.0, ...  \n",
       " 14  [1.0, 1.0, 1.0, 1.0, 1.0, 1.0, 1.0, 1.0, 1.0, ...  \n",
       " 15  [1.0, 1.0, 1.0, 1.0, 1.0, 1.0, 1.0, 1.0, 1.0, ...  \n",
       " 16  [1.0, 1.0, 1.0, 1.0, 1.0, 1.0, 1.0, 1.0, 1.0, ...  \n",
       " 17  [1.0, 1.0, 1.0, 1.0, 1.0, 1.0, 1.0, 1.0, 1.0, ...  \n",
       " 18  [1.0, 1.0, 1.0, 1.0, 1.0, 1.0, 1.0, 1.0, 1.0, ...  \n",
       " 19  [1.0, 1.0, 1.0, 1.0, 1.0, 1.0, 1.0, 1.0, 1.0, ...  \n",
       " 20  [1.0, 1.0, 1.0, 1.0, 1.0, 1.0, 1.0, 1.0, 1.0, ...  ,\n",
       " 'fft_tunes':      from     to                                             tune_x  \\\n",
       " 0       0     32  [0.0, 0.08999383045138742, 0.09000630833213297...   \n",
       " 1      32     64  [0.0, 0.0899912732762278, 0.09000119412345797,...   \n",
       " 2       0     64  [0.0, 0.1412533077180409, 0.14124156045061131,...   \n",
       " 3      64    128  [0.0, 0.14125327352068717, 0.14124149220539162...   \n",
       " 4       0    128  [0.0, 0.11997057535751388, 0.11995864739480078...   \n",
       " 5     128    256  [0.0, 0.11997057755687468, 0.11995865180701237...   \n",
       " 6       0    256  [0.0, 0.10811798099825198, 0.10810595405011525...   \n",
       " 7     256    512  [0.0, 0.10811798098817194, 0.10810595403027323...   \n",
       " 8       0    512  [0.0, 0.13823778929543107, 0.13822571580475296...   \n",
       " 9     512   1024  [0.0, 0.138237789294264, 0.1382257158024498, 0...   \n",
       " 10      0   1024  [0.0, 0.15338186463151748, 0.15336976772691424...   \n",
       " 11   1024   2048  [0.0, 0.15338186463139913, 0.1533697677266792,...   \n",
       " 12      0   2048  [0.0, 0.16097478040154767, 0.16096267177687307...   \n",
       " 13   2048   4096  [0.0, 0.16097478040154145, 0.16096267177685997...   \n",
       " 14      0   4096  [0.0, 0.16477643706194345, 0.16476432256278994...   \n",
       " 15   4096   8192  [0.0, 0.16477643706194522, 0.16476432256279316...   \n",
       " 16      0   8192  [0.0, 0.16667856288434735, 0.16666644541893028...   \n",
       " 17   8192  16384  [0.0, 0.1666785628843479, 0.1666664454189315, ...   \n",
       " 18      0  16384  [0.0, 0.16762995070502673, 0.16761783169907307...   \n",
       " 19  16384  32768  [0.0, 0.16762995070502673, 0.16761783169907307...   \n",
       " 20      0  32768  [0.0, 0.16753390597856144, 0.16752178619303215...   \n",
       " \n",
       "                                                tune_y  \n",
       " 0   [0.0, 0.0, 0.0, 0.0, 0.0, 0.0, 0.0, 0.0, 0.0, ...  \n",
       " 1   [0.0, 0.0, 0.0, 0.0, 0.0, 0.0, 0.0, 0.0, 0.0, ...  \n",
       " 2   [0.0, 0.0, 0.0, 0.0, 0.0, 0.0, 0.0, 0.0, 0.0, ...  \n",
       " 3   [0.0, 0.0, 0.0, 0.0, 0.0, 0.0, 0.0, 0.0, 0.0, ...  \n",
       " 4   [0.0, 0.0, 0.0, 0.0, 0.0, 0.0, 0.0, 0.0, 0.0, ...  \n",
       " 5   [0.0, 0.0, 0.0, 0.0, 0.0, 0.0, 0.0, 0.0, 0.0, ...  \n",
       " 6   [0.0, 0.0, 0.0, 0.0, 0.0, 0.0, 0.0, 0.0, 0.0, ...  \n",
       " 7   [0.0, 0.0, 0.0, 0.0, 0.0, 0.0, 0.0, 0.0, 0.0, ...  \n",
       " 8   [0.0, 0.0, 0.0, 0.0, 0.0, 0.0, 0.0, 0.0, 0.0, ...  \n",
       " 9   [0.0, 0.0, 0.0, 0.0, 0.0, 0.0, 0.0, 0.0, 0.0, ...  \n",
       " 10  [0.0, 0.0, 0.0, 0.0, 0.0, 0.0, 0.0, 0.0, 0.0, ...  \n",
       " 11  [0.0, 0.0, 0.0, 0.0, 0.0, 0.0, 0.0, 0.0, 0.0, ...  \n",
       " 12  [0.0, 0.0, 0.0, 0.0, 0.0, 0.0, 0.0, 0.0, 0.0, ...  \n",
       " 13  [0.0, 0.0, 0.0, 0.0, 0.0, 0.0, 0.0, 0.0, 0.0, ...  \n",
       " 14  [0.0, 0.0, 0.0, 0.0, 0.0, 0.0, 0.0, 0.0, 0.0, ...  \n",
       " 15  [0.0, 0.0, 0.0, 0.0, 0.0, 0.0, 0.0, 0.0, 0.0, ...  \n",
       " 16  [0.0, 0.0, 0.0, 0.0, 0.0, 0.0, 0.0, 0.0, 0.0, ...  \n",
       " 17  [0.0, 0.0, 0.0, 0.0, 0.0, 0.0, 0.0, 0.0, 0.0, ...  \n",
       " 18  [0.0, 0.0, 0.0, 0.0, 0.0, 0.0, 0.0, 0.0, 0.0, ...  \n",
       " 19  [0.0, 0.0, 0.0, 0.0, 0.0, 0.0, 0.0, 0.0, 0.0, ...  \n",
       " 20  [0.0, 0.0, 0.0, 0.0, 0.0, 0.0, 0.0, 0.0, 0.0, ...  }"
      ]
     },
     "execution_count": 6,
     "metadata": {},
     "output_type": "execute_result"
    }
   ],
   "source": [
    "data"
   ]
  },
  {
   "cell_type": "code",
   "execution_count": 60,
   "metadata": {},
   "outputs": [],
   "source": [
    "def format_data(data, power, element):\n",
    "    settings = data[\"settings\"]\n",
    "    samples = settings[\"samples\"]\n",
    "    if element == \"birkhoff\":\n",
    "        dataframe = data[\"birkhoff_tunes\"]\n",
    "    elif element == \"fft\":\n",
    "        dataframe = data[\"fft_tunes\"]\n",
    "    else:\n",
    "        raise ValueError(\"element must be either 'birkhoff' or 'fft'\")\n",
    "\n",
    "    power_middle = 2**power\n",
    "    power_to = 2**(power+1)\n",
    "\n",
    "    dataframe_middle_x = dataframe[(dataframe[\"from\"] == 0) & (dataframe[\"to\"] == power_middle)][\"tune_x\"].array[0].reshape(samples, samples)\n",
    "    dataframe_middle_y = dataframe[(dataframe[\"from\"] == 0) & (dataframe[\"to\"] == power_middle)][\"tune_y\"].array[0].reshape(samples, samples)\n",
    "\n",
    "    dataframe_to_x = dataframe[(dataframe[\"from\"] == power_middle) & (dataframe[\"to\"] == power_to)][\"tune_x\"].array[0].reshape(samples, samples)\n",
    "    dataframe_to_y = dataframe[(dataframe[\"from\"] == power_middle) & (dataframe[\"to\"] == power_to)][\"tune_y\"].array[0].reshape(samples, samples)\n",
    "\n",
    "    diff_x = dataframe_to_x - dataframe_middle_x\n",
    "    diff_y = dataframe_to_y - dataframe_middle_y\n",
    "\n",
    "    diff = np.sqrt(diff_x**2 + diff_y**2)\n",
    "    \n",
    "    diff = np.log10(diff)\n",
    "    diff[np.isnan(diff)] = np.nanmax(diff)\n",
    "    diff[np.isinf(diff)] = np.nanmax(diff)\n",
    "    #diff[np.isnan(diff)] = -1.0\n",
    "    return diff"
   ]
  },
  {
   "cell_type": "code",
   "execution_count": 61,
   "metadata": {},
   "outputs": [
    {
     "name": "stderr",
     "output_type": "stream",
     "text": [
      "/tmp/ipykernel_124973/3474184364.py:25: RuntimeWarning:\n",
      "\n",
      "divide by zero encountered in log10\n",
      "\n"
     ]
    },
    {
     "data": {
      "text/plain": [
       "array([[-0.62444423, -5.11536001, -4.81496751, ..., -0.62444423,\n",
       "        -0.62444423, -0.62444423],\n",
       "       [-1.27630489, -4.84509188, -4.51075604, ..., -0.62444423,\n",
       "        -0.62444423, -0.62444423],\n",
       "       [-1.27629344, -4.59624186, -4.54373981, ..., -0.62444423,\n",
       "        -0.62444423, -0.62444423],\n",
       "       ...,\n",
       "       [-0.62444423, -0.62444423, -0.62444423, ..., -0.62444423,\n",
       "        -0.62444423, -0.62444423],\n",
       "       [-0.62444423, -0.62444423, -0.62444423, ..., -0.62444423,\n",
       "        -0.62444423, -0.62444423],\n",
       "       [-0.62444423, -0.62444423, -0.62444423, ..., -0.62444423,\n",
       "        -0.62444423, -0.62444423]])"
      ]
     },
     "execution_count": 61,
     "metadata": {},
     "output_type": "execute_result"
    }
   ],
   "source": [
    "format_data(data, 6, \"birkhoff\")"
   ]
  },
  {
   "cell_type": "code",
   "execution_count": 62,
   "metadata": {},
   "outputs": [],
   "source": [
    "dataframe = data[\"fft_tunes\"]"
   ]
  },
  {
   "cell_type": "code",
   "execution_count": 63,
   "metadata": {},
   "outputs": [
    {
     "data": {
      "text/plain": [
       "numpy.float64"
      ]
     },
     "execution_count": 63,
     "metadata": {},
     "output_type": "execute_result"
    }
   ],
   "source": [
    "type(dataframe[(dataframe[\"from\"] == 0) & (dataframe[\"to\"] == 2**7)][\"tune_x\"].array[0][-1])"
   ]
  },
  {
   "cell_type": "code",
   "execution_count": 64,
   "metadata": {},
   "outputs": [
    {
     "name": "stderr",
     "output_type": "stream",
     "text": [
      "/tmp/ipykernel_124973/3474184364.py:25: RuntimeWarning:\n",
      "\n",
      "divide by zero encountered in log10\n",
      "\n"
     ]
    },
    {
     "data": {
      "text/plain": [
       "array([[-0.68689325, -6.33278271, -6.02884393, ..., -0.68689325,\n",
       "        -0.68689325, -0.68689325],\n",
       "       [-1.73635183, -5.74512688, -5.45255272, ..., -0.68689325,\n",
       "        -0.68689325, -0.68689325],\n",
       "       [-1.73611937, -5.45777867, -5.44647154, ..., -0.68689325,\n",
       "        -0.68689325, -0.68689325],\n",
       "       ...,\n",
       "       [-0.68689325, -0.68689325, -0.68689325, ..., -0.68689325,\n",
       "        -0.68689325, -0.68689325],\n",
       "       [-0.68689325, -0.68689325, -0.68689325, ..., -0.68689325,\n",
       "        -0.68689325, -0.68689325],\n",
       "       [-0.68689325, -0.68689325, -0.68689325, ..., -0.68689325,\n",
       "        -0.68689325, -0.68689325]])"
      ]
     },
     "execution_count": 64,
     "metadata": {},
     "output_type": "execute_result"
    }
   ],
   "source": [
    "format_data(data, 7, \"birkhoff\")"
   ]
  },
  {
   "cell_type": "code",
   "execution_count": 80,
   "metadata": {},
   "outputs": [
    {
     "name": "stderr",
     "output_type": "stream",
     "text": [
      "/tmp/ipykernel_124973/3474184364.py:25: RuntimeWarning:\n",
      "\n",
      "divide by zero encountered in log10\n",
      "\n"
     ]
    }
   ],
   "source": [
    "power_of_two = widgets.IntSlider(\n",
    "    value=7,\n",
    "    min=data[\"settings\"][\"min_power_of_two\"],\n",
    "    max=data[\"settings\"][\"max_power_of_two\"],\n",
    "    step=1,\n",
    "    description=\"Power of 2:\",\n",
    "    continuous_update=False,\n",
    ")\n",
    "\n",
    "text_power_of_two = widgets.IntText(\n",
    "    value= 2 ** power_of_two.value,\n",
    "    description=\"N turns: \"\n",
    ")\n",
    "\n",
    "d_keys = list(sorted(d.keys()))\n",
    "\n",
    "epsilon_dropdown = widgets.Dropdown(\n",
    "    options=d_keys,\n",
    "    value=epsilon,\n",
    "    description=\"Epsilon:\",\n",
    "    disabled=False,\n",
    ")\n",
    "\n",
    "container = widgets.HBox(\n",
    "    [power_of_two, text_power_of_two, epsilon_dropdown],\n",
    ")\n",
    "\n",
    "# create heatmap with plotly\n",
    "w1 = go.FigureWidget(data=go.Heatmap(\n",
    "    z=format_data(data, power_of_two.value, \"fft\"), colorscale=\"Viridis\"),\n",
    "    skip_invalid=True,\n",
    ")\n",
    "w1.update_layout(\n",
    "    title_text=\"FFT tune, epsilon = {}\".format(epsilon_dropdown.value),\n",
    "    xaxis_title=\"x\", yaxis_title=\"y\"\n",
    ")\n",
    "w2 = go.FigureWidget(data=go.Heatmap(\n",
    "    z=format_data(data, power_of_two.value, \"birkhoff\"), colorscale=\"Viridis\"),\n",
    "    skip_invalid=True,\n",
    ")\n",
    "w2.update_layout(\n",
    "    title_text=\"Birkhoff tune, epsilon = {}\".format(epsilon_dropdown.value),\n",
    "    xaxis_title=\"x\", yaxis_title=\"y\"\n",
    ")\n",
    "img_container = widgets.HBox([w1, w2])\n"
   ]
  },
  {
   "cell_type": "code",
   "execution_count": 78,
   "metadata": {},
   "outputs": [],
   "source": [
    "def response(change):\n",
    "    epsilon = epsilon_dropdown.value\n",
    "    power = power_of_two.value\n",
    "    text_power_of_two.value = 2 ** power\n",
    "    with open(d[epsilon], \"rb\") as f:\n",
    "        data = pickle.load(f)\n",
    "    w1.data[0].z = format_data(data, power, \"fft\")\n",
    "    w2.data[0].z = format_data(data, power, \"birkhoff\")\n",
    "    w2.update_layout(title_text=\"FFT Tunes, epsilon = {}\".format(epsilon))\n",
    "    w1.update_layout(title_text=\"Birkhoff Tunes, epsilon = {}\".format(epsilon))\n",
    "\n",
    "power_of_two.observe(response, names=\"value\")\n",
    "epsilon_dropdown.observe(response, names=\"value\")\n"
   ]
  },
  {
   "cell_type": "code",
   "execution_count": 79,
   "metadata": {},
   "outputs": [
    {
     "data": {
      "application/vnd.jupyter.widget-view+json": {
       "model_id": "958403290bc9480f9d14959ec1cdd824",
       "version_major": 2,
       "version_minor": 0
      },
      "text/plain": [
       "VBox(children=(HBox(children=(IntSlider(value=7, continuous_update=False, description='Power of 2:', max=14, m…"
      ]
     },
     "metadata": {},
     "output_type": "display_data"
    }
   ],
   "source": [
    "widgets.VBox([container, img_container])"
   ]
  },
  {
   "cell_type": "code",
   "execution_count": null,
   "metadata": {},
   "outputs": [],
   "source": []
  }
 ],
 "metadata": {
  "interpreter": {
   "hash": "871aeb43e99df445217f8150e40694afb64d0600c0573b6bac502dee120165de"
  },
  "kernelspec": {
   "display_name": "Python 3.8.12 64-bit ('base': conda)",
   "language": "python",
   "name": "python3"
  },
  "language_info": {
   "codemirror_mode": {
    "name": "ipython",
    "version": 3
   },
   "file_extension": ".py",
   "mimetype": "text/x-python",
   "name": "python",
   "nbconvert_exporter": "python",
   "pygments_lexer": "ipython3",
   "version": "3.8.12"
  },
  "orig_nbformat": 4
 },
 "nbformat": 4,
 "nbformat_minor": 2
}
