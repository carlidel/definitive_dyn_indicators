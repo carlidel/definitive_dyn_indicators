{
 "cells": [
  {
   "cell_type": "code",
   "execution_count": null,
   "metadata": {},
   "outputs": [],
   "source": [
    "import numpy as np\n",
    "import pandas as pd\n",
    "import matplotlib.pyplot as plt\n",
    "import scipy\n",
    "import definitive_dyn_indicators.scripts.data_manager as dm\n",
    "import os\n",
    "from tqdm.auto import tqdm\n",
    "from numba import njit\n",
    "import lmfit\n",
    "import joblib\n",
    "from joblib import Parallel, delayed\n",
    "\n",
    "njobs = os.cpu_count()\n",
    "print(f'Number of cores: {njobs}')\n"
   ]
  },
  {
   "cell_type": "code",
   "execution_count": null,
   "metadata": {},
   "outputs": [],
   "source": [
    "@njit\n",
    "def log_fit(x, a, k):\n",
    "    return -k * np.log10(x) + a\n",
    "\n",
    "\n",
    "def residual_log_fit(params, x, y):\n",
    "    a = (params[\"a\"].value)\n",
    "    k = params[\"k\"].value\n",
    "\n",
    "    model = log_fit(x, a, k)\n",
    "    return model - np.log10(y)\n",
    "\n",
    "\n",
    "@njit\n",
    "def fit_3(x, a, k, c):\n",
    "    return a / np.power(x, k) + c\n",
    "\n",
    "\n",
    "def residual_3_fit(params, x, y):\n",
    "    a = params[\"a\"].value\n",
    "    k = params[\"k\"].value\n",
    "    c = params[\"c\"].value\n",
    "\n",
    "    model = fit_3(x, a, k, c)\n",
    "    return (model - y) / y\n"
   ]
  },
  {
   "cell_type": "code",
   "execution_count": null,
   "metadata": {},
   "outputs": [],
   "source": [
    "def clean_data(x, y):\n",
    "    x = x[~np.logical_or(np.logical_or(np.isnan(y), np.isinf(y)), y == 0)]\n",
    "    y = y[~np.logical_or(np.logical_or(np.isnan(y), np.isinf(y)), y == 0)]\n",
    "    return x, y\n",
    "\n",
    "\n",
    "def fit(x, y, s, i, kind=\"scale_law\", extra_log=False):\n",
    "    # print(i)\n",
    "    try:\n",
    "        if extra_log:\n",
    "            y = np.log10(y)\n",
    "        \n",
    "        x, y = clean_data(x, y)\n",
    "        y = np.absolute(y)\n",
    "        \n",
    "        if len(x[x > 100]) < 2:\n",
    "            return \"discarded\"\n",
    "\n",
    "        params = lmfit.Parameters()\n",
    "        if kind == \"log_fit\":\n",
    "            params.add(\"a\", value=0)\n",
    "            params.add(\"k\", value=1)\n",
    "            result = lmfit.minimize(\n",
    "                residual_log_fit, params, args=(x, y), method=\"least_squares\")\n",
    "        elif kind == \"fit_3\":\n",
    "            params.add(\"a\", value=1)\n",
    "            params.add(\"k\", value=1)\n",
    "            params.add(\"c\", value=0)\n",
    "            result = lmfit.minimize(\n",
    "                residual_3_fit, params, args=(x, y), method=\"least_squares\")\n",
    "        elif kind == \"fit_fix_k\":\n",
    "            params.add(\"a\", value=1)\n",
    "            params.add(\"k\", value=1, vary=False)\n",
    "            params.add(\"c\", value=0)\n",
    "            result = lmfit.minimize(\n",
    "                residual_3_fit, params, args=(x, y), method=\"least_squares\")\n",
    "        elif kind == \"fit_fix_a\":\n",
    "            params.add(\"a\", value=1, vary=False)\n",
    "            params.add(\"k\", value=1)\n",
    "            params.add(\"c\", value=0)\n",
    "            result = lmfit.minimize(\n",
    "                residual_3_fit, params, args=(x, y), method=\"least_squares\")\n",
    "        elif kind == \"fit_fix_c\":\n",
    "            params.add(\"a\", value=1)\n",
    "            params.add(\"k\", value=1)\n",
    "            params.add(\"c\", value=0, vary=False)\n",
    "            result = lmfit.minimize(\n",
    "                residual_3_fit, params, args=(x, y), method=\"least_squares\")\n",
    "        else:\n",
    "            raise ValueError(f\"kind {kind} not recognized\")\n",
    "        return result\n",
    "    except ValueError:\n",
    "        # print(e)\n",
    "        return \"error\"\n"
   ]
  },
  {
   "cell_type": "code",
   "execution_count": null,
   "metadata": {},
   "outputs": [],
   "source": [
    "print(\"Initializing data manager...\")\n",
    "data = dm.data_manager(data_dir=\".\")\n",
    "\n",
    "print(\"Setting up configuration...\")\n",
    "data.henon_config[\"samples\"] = 1000\n",
    "\n",
    "data.henon_config[\"t_base_2\"] = np.array([], dtype=int)\n",
    "data.henon_config[\"t_base\"] = np.array([], dtype=int)\n",
    "\n",
    "data.henon_config[\"t_base_10\"] = np.logspace(3, 8, 16, base=10, dtype=int)\n",
    "data.henon_config[\"t_linear\"] = np.linspace(\n",
    "    100000, 100000000, 1999, dtype=int)\n",
    "\n",
    "data.henon_config = dm.refresh_henon_config(dm.henon_config)\n"
   ]
  },
  {
   "cell_type": "code",
   "execution_count": null,
   "metadata": {},
   "outputs": [],
   "source": [
    "config = data.get_config()\n",
    "print(list(config.keys()))\n",
    "extents = config[\"x_extents\"] + config[\"y_extents\"]\n",
    "samples = config[\"samples\"]\n",
    "print(f\"Samples: {samples}\")\n",
    "times = np.asarray(data.get_times())\n"
   ]
  },
  {
   "cell_type": "code",
   "execution_count": null,
   "metadata": {},
   "outputs": [],
   "source": [
    "group = (\n",
    "    0.168,                  # omega_x\n",
    "    0.201,                  # omega_y\n",
    "    \"sps\",                  # modulation_kind\n",
    "    16.0,                   # epsilon\n",
    "    0.01,                   # mu\n",
    "    np.nan,                 # kick amplitude\n",
    "    np.nan,                 # omega_0 \n",
    ")"
   ]
  },
  {
   "cell_type": "code",
   "execution_count": null,
   "metadata": {},
   "outputs": [],
   "source": [
    "lyapunov = data.better_lyapunov(group)"
   ]
  },
  {
   "cell_type": "code",
   "execution_count": null,
   "metadata": {},
   "outputs": [],
   "source": [
    "with data.get_file_from_group(group, \"random\", \"true_displacement\") as f:\n",
    "    stability = f[\"steps\"][:]"
   ]
  },
  {
   "cell_type": "code",
   "execution_count": null,
   "metadata": {},
   "outputs": [],
   "source": [
    "report_list = joblib.Parallel(n_jobs=njobs)(delayed(fit)(\n",
    "    x[1].index.to_numpy(), x[1].to_numpy(), y, i, kind=\"fit_fix_k\"\n",
    ") for i, (x, y) in enumerate(zip(\n",
    "    lyapunov.iterrows(),\n",
    "    stability\n",
    "))\n",
    ")\n",
    "\n",
    "par_lyap_a = np.array([x.params[\"a\"].value if x != \"error\" and x !=\n",
    "                        \"discarded\" else np.nan for x in report_list])\n",
    "par_lyap_c = np.array([x.params[\"c\"].value if x != \"error\" and x !=\n",
    "                        \"discarded\" else np.nan for x in report_list])\n",
    "par_lyap_chi = np.array([x.chisqr if x != \"error\" and x !=\n",
    "                          \"discarded\" else np.nan for x in report_list])\n"
   ]
  },
  {
   "cell_type": "code",
   "execution_count": null,
   "metadata": {},
   "outputs": [],
   "source": [
    "# save the data\n",
    "with data.get_file_from_group(group, \"random\", \"true_displacement\") as f:\n",
    "    a_dataset = f.require_dataset(\n",
    "        \"fit_a\", shape=stability.shape, dtype=float, compression=\"gzip\", shuffle=True)\n",
    "    c_dataset = f.require_dataset(\n",
    "        \"fit_c\", shape=stability.shape, dtype=float, compression=\"gzip\", shuffle=True)\n",
    "    a_dataset[:] = par_lyap_a\n",
    "    c_dataset[:] = par_lyap_c\n"
   ]
  },
  {
   "cell_type": "code",
   "execution_count": null,
   "metadata": {},
   "outputs": [],
   "source": [
    "# load the data\n",
    "with data.get_file_from_group(group, \"random\", \"true_displacement\") as f:\n",
    "    a_dataset = f.require_dataset(\n",
    "        \"fit_a\", shape=stability.shape, dtype=float, compression=\"gzip\", shuffle=True)\n",
    "    c_dataset = f.require_dataset(\n",
    "        \"fit_c\", shape=stability.shape, dtype=float, compression=\"gzip\", shuffle=True)\n",
    "    par_lyap_a = a_dataset[:]\n",
    "    par_lyap_c = c_dataset[:]"
   ]
  },
  {
   "cell_type": "code",
   "execution_count": null,
   "metadata": {},
   "outputs": [],
   "source": [
    "f_par_lyap_c = par_lyap_c.copy()\n",
    "f_par_lyap_c[stability != 100000000] = np.nan"
   ]
  },
  {
   "cell_type": "code",
   "execution_count": null,
   "metadata": {},
   "outputs": [],
   "source": [
    "fig, ax = plt.subplots(1, 1, figsize=(8, 6))\n",
    "\n",
    "ax.hist(np.log10(par_lyap_c), bins=100, density=True,\n",
    "                    label=\"value of all $\\\\log_{{10}}c$\")\n",
    "ax.hist(np.log10(f_par_lyap_c), bins=100, density=True, \n",
    "                    label=\"value of stable $\\\\log_{{10}}c$\")\n",
    "\n",
    "plt.tight_layout()"
   ]
  },
  {
   "cell_type": "code",
   "execution_count": null,
   "metadata": {},
   "outputs": [],
   "source": [
    "threshold_c = np.median(f_par_lyap_c[~np.isnan(f_par_lyap_c)])"
   ]
  },
  {
   "cell_type": "code",
   "execution_count": null,
   "metadata": {},
   "outputs": [],
   "source": [
    "fig, ax = plt.subplots(1, 1, figsize=(8, 6))\n",
    "\n",
    "mask = np.asarray(\n",
    "    stability==100000000, dtype=float\n",
    ")\n",
    "mask[stability <= 10] = np.nan\n",
    "\n",
    "mask[np.logical_and(\n",
    "    par_lyap_c > threshold_c,\n",
    "    stability == 100000000\n",
    ")] = 0.5\n",
    "\n",
    "map = ax.imshow(\n",
    "    (mask).reshape(samples, samples),\n",
    "    cmap=\"viridis\", extent=extents, origin=\"lower\"\n",
    ")\n",
    "ax.set_title(f\"classification (N=100000000)\")\n",
    "\n",
    "plt.tight_layout()"
   ]
  }
 ],
 "metadata": {
  "language_info": {
   "name": "python"
  },
  "orig_nbformat": 4
 },
 "nbformat": 4,
 "nbformat_minor": 2
}
