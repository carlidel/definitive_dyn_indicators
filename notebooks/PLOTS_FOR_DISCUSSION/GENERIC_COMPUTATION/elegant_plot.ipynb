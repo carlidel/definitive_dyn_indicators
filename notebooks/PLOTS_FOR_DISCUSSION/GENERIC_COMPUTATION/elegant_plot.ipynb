{
 "cells": [
  {
   "cell_type": "code",
   "execution_count": 138,
   "metadata": {},
   "outputs": [
    {
     "name": "stdout",
     "output_type": "stream",
     "text": [
      "Number of threads: 20\n"
     ]
    }
   ],
   "source": [
    "import numpy as np\n",
    "import pandas as pd\n",
    "import matplotlib.pyplot as plt\n",
    "import scipy\n",
    "import definitive_dyn_indicators.scripts.data_manager as dm\n",
    "import os\n",
    "from tqdm.auto import tqdm\n",
    "from numba import njit\n",
    "import lmfit\n",
    "import joblib\n",
    "from joblib import Parallel, delayed\n",
    "import pandas as pd\n",
    "\n",
    "from matplotlib.gridspec import GridSpec\n",
    "from mpl_toolkits.axes_grid1 import make_axes_locatable\n",
    "import matplotlib.patches as patches\n",
    "\n",
    "# count number of threads\n",
    "njobs = os.cpu_count()\n",
    "print(f'Number of threads: {njobs}')"
   ]
  },
  {
   "cell_type": "code",
   "execution_count": 101,
   "metadata": {},
   "outputs": [],
   "source": [
    "DATA_DIR = \"./data\"\n",
    "SAMPLES = 100\n",
    "\n",
    "T_GROUND_TRUTH = 100000000\n",
    "T_NORMALIZATION = 1000\n",
    "T_DYN_INDICATORS = 1000000\n",
    "\n",
    "group = (\n",
    "    0.310,                  # omega_x\n",
    "    0.320,                  # omega_y\n",
    "    \"sps\",                  # modulation_kind\n",
    "    0.0,                   # epsilon\n",
    "    0.00,                   # mu\n",
    "    np.nan,                 # kick amplitude\n",
    "    np.nan,                 # omega_0\n",
    ")\n",
    "\n",
    "group_random = tuple(\n",
    "    [group[i] if i != 5 else 1e-10 for i in range(len(group))])\n",
    "\n",
    "X_EXTENTS = [0.0, 0.23]\n",
    "Y_EXTENTS = [0.0, 0.23]\n"
   ]
  },
  {
   "cell_type": "code",
   "execution_count": 102,
   "metadata": {},
   "outputs": [],
   "source": [
    "data = dm.data_manager(data_dir=DATA_DIR)\n",
    "\n",
    "data.henon_config[\"samples\"] = SAMPLES\n",
    "data.henon_config[\"x_extents\"] = X_EXTENTS\n",
    "data.henon_config[\"y_extents\"] = Y_EXTENTS\n",
    "\n",
    "data.henon_config[\"t_base_2\"] = np.array([], dtype=int)\n",
    "data.henon_config[\"t_base\"] = np.array([], dtype=int)\n",
    "data.henon_config[\"t_base_10\"] = np.logspace(\n",
    "    int(np.log10(T_NORMALIZATION)),\n",
    "    int(np.log10(T_GROUND_TRUTH)),\n",
    "    int(np.log10(T_GROUND_TRUTH)) - int(np.log10(T_NORMALIZATION)) + 1,\n",
    "    base=10, dtype=int)\n",
    "data.henon_config[\"t_linear\"] = np.array([], dtype=int)\n",
    "\n",
    "data.henon_config = dm.refresh_henon_config(data.henon_config)\n",
    "\n",
    "config = data.get_config()\n",
    "extents = config[\"x_extents\"] + config[\"y_extents\"]\n",
    "samples = config[\"samples\"]\n",
    "\n",
    "times = np.asarray(data.get_times())\n"
   ]
  },
  {
   "cell_type": "code",
   "execution_count": 103,
   "metadata": {},
   "outputs": [
    {
     "name": "stdout",
     "output_type": "stream",
     "text": [
      "Getting file for group (0.31, 0.32, 'sps', 0.0, 0.0, nan, nan) with displacement none and tracking lyapunov!\n"
     ]
    },
    {
     "name": "stderr",
     "output_type": "stream",
     "text": [
      "100%|██████████| 6/6 [00:00<00:00, 326.83it/s]\n"
     ]
    }
   ],
   "source": [
    "full_lyapunov = data.fast_lyapunov_indicator(group)"
   ]
  },
  {
   "cell_type": "code",
   "execution_count": 104,
   "metadata": {},
   "outputs": [
    {
     "name": "stdout",
     "output_type": "stream",
     "text": [
      "Getting file for group (0.31, 0.32, 'sps', 0.0, 0.0, nan, nan) with displacement none and tracking lyapunov!\n"
     ]
    }
   ],
   "source": [
    "with data.get_file_from_group(group, \"none\", \"lyapunov\") as f:\n",
    "    stability = f[\"steps\"][:]\n",
    "stability = stability[:len(stability)//2]\n",
    "stab_mask = ~np.isnan(full_lyapunov[T_GROUND_TRUTH].to_numpy())\n"
   ]
  },
  {
   "cell_type": "code",
   "execution_count": 105,
   "metadata": {},
   "outputs": [],
   "source": [
    "data_minor = dm.data_manager(\n",
    "    data_dir=os.path.join(DATA_DIR, \"10_6\"))\n",
    "\n",
    "data_minor.henon_config[\"samples\"] = SAMPLES\n",
    "data_minor.henon_config[\"x_extents\"] = X_EXTENTS\n",
    "data_minor.henon_config[\"y_extents\"] = Y_EXTENTS\n",
    "\n",
    "data_minor.henon_config[\"t_base_2\"] = np.array([], dtype=int)\n",
    "data_minor.henon_config[\"t_base\"] = np.arange(\n",
    "    T_NORMALIZATION, T_DYN_INDICATORS + T_NORMALIZATION, T_NORMALIZATION, dtype=int)\n",
    "\n",
    "data_minor.henon_config[\"t_base_10\"] = np.array([], dtype=int)\n",
    "data_minor.henon_config[\"t_linear\"] = np.array([], dtype=int)\n",
    "\n",
    "data_minor.henon_config = dm.refresh_henon_config(data_minor.henon_config)\n"
   ]
  },
  {
   "cell_type": "code",
   "execution_count": 106,
   "metadata": {},
   "outputs": [],
   "source": [
    "times_minor = np.asarray(data_minor.get_times())\n"
   ]
  },
  {
   "cell_type": "code",
   "execution_count": 8,
   "metadata": {},
   "outputs": [
    {
     "name": "stdout",
     "output_type": "stream",
     "text": [
      "Getting file for group (0.31, 0.32, 'sps', 64.0, 0.0, nan, nan) with displacement none and tracking gali!\n"
     ]
    },
    {
     "name": "stderr",
     "output_type": "stream",
     "text": [
      "100%|██████████| 1000/1000 [00:01<00:00, 564.81it/s]\n"
     ]
    }
   ],
   "source": [
    "gali = data_minor.global_alignment_index(group)\n"
   ]
  },
  {
   "cell_type": "code",
   "execution_count": 9,
   "metadata": {},
   "outputs": [
    {
     "name": "stdout",
     "output_type": "stream",
     "text": [
      "Getting file for group (0.31, 0.32, 'sps', 64.0, 0.0, nan, nan) with displacement none and tracking sali!\n"
     ]
    },
    {
     "name": "stderr",
     "output_type": "stream",
     "text": [
      "100%|██████████| 1000/1000 [00:01<00:00, 607.50it/s]\n"
     ]
    }
   ],
   "source": [
    "sali = data_minor.smallest_alignment_index(group)\n"
   ]
  },
  {
   "cell_type": "code",
   "execution_count": 10,
   "metadata": {},
   "outputs": [
    {
     "name": "stdout",
     "output_type": "stream",
     "text": [
      "Getting file for group (0.31, 0.32, 'sps', 64.0, 0.0, nan, nan) with displacement none and tracking lyapunov!\n"
     ]
    },
    {
     "name": "stderr",
     "output_type": "stream",
     "text": [
      "100%|██████████| 1000/1000 [00:03<00:00, 271.56it/s]\n"
     ]
    }
   ],
   "source": [
    "lyapunov = data_minor.fast_lyapunov_indicator(group)\n"
   ]
  },
  {
   "cell_type": "code",
   "execution_count": 11,
   "metadata": {},
   "outputs": [
    {
     "name": "stdout",
     "output_type": "stream",
     "text": [
      "Getting file for group (0.31, 0.32, 'sps', 64.0, 0.0, nan, nan) with displacement none and tracking orthogonal_lyapunov!\n"
     ]
    },
    {
     "name": "stderr",
     "output_type": "stream",
     "text": [
      "100%|██████████| 1000/1000 [00:12<00:00, 82.42it/s]\n"
     ]
    }
   ],
   "source": [
    "ortho_lyap_max, ortho_lyap_avg = data_minor.orthogonal_lyapunov_indicator(group)"
   ]
  },
  {
   "cell_type": "code",
   "execution_count": 107,
   "metadata": {},
   "outputs": [
    {
     "name": "stdout",
     "output_type": "stream",
     "text": [
      "Getting file for group (0.31, 0.32, 'sps', 0.0, 0.0, nan, nan) with displacement none and tracking track_and_reverse!\n"
     ]
    },
    {
     "name": "stderr",
     "output_type": "stream",
     "text": [
      "100%|██████████| 1000/1000 [00:09<00:00, 101.71it/s]\n"
     ]
    }
   ],
   "source": [
    "reverse = data_minor.reversibility_error(group)"
   ]
  },
  {
   "cell_type": "code",
   "execution_count": 109,
   "metadata": {},
   "outputs": [
    {
     "data": {
      "text/plain": [
       "array([0.00000000e+00, 2.81296295e-13, 1.50727787e-12, ...,\n",
       "                  nan,            nan,            nan])"
      ]
     },
     "execution_count": 109,
     "metadata": {},
     "output_type": "execute_result"
    }
   ],
   "source": [
    "reverse[1000000].to_numpy()"
   ]
  },
  {
   "cell_type": "code",
   "execution_count": 113,
   "metadata": {},
   "outputs": [
    {
     "name": "stdout",
     "output_type": "stream",
     "text": [
      "-6.2888457853442095 -inf\n",
      "-0.4168539607444367 -inf\n",
      "-0.32277059348058745 -inf\n",
      "-0.3405244446690755 -inf\n",
      "-0.37695290705554 -inf\n",
      "-0.3490653185155284 -inf\n",
      "-0.3161845380065095 -inf\n"
     ]
    },
    {
     "name": "stderr",
     "output_type": "stream",
     "text": [
      "/tmp/ipykernel_10113/123169531.py:2: RuntimeWarning: divide by zero encountered in log10\n",
      "  print(np.nanmax(np.log10(reverse[n].to_numpy())), np.nanmin(np.log10(reverse[n].to_numpy())))\n"
     ]
    }
   ],
   "source": [
    "for n in [1000, 3000, 10000, 30000, 100000, 300000, 1000000]:\n",
    "    print(np.nanmax(np.log10(reverse[n].to_numpy())), np.nanmin(np.log10(reverse[n].to_numpy())))"
   ]
  },
  {
   "cell_type": "code",
   "execution_count": null,
   "metadata": {},
   "outputs": [],
   "source": [
    "#reverse_kick = data_minor.reversibility_error(group_random)"
   ]
  },
  {
   "cell_type": "code",
   "execution_count": 13,
   "metadata": {},
   "outputs": [],
   "source": [
    "data_tune = dm.data_manager(\n",
    "    data_dir=os.path.join(DATA_DIR, \"10_6\"))\n",
    "\n",
    "data_tune.henon_config[\"samples\"] = SAMPLES\n",
    "data_tune.henon_config[\"x_extents\"] = X_EXTENTS\n",
    "data_tune.henon_config[\"y_extents\"] = Y_EXTENTS\n",
    "\n",
    "# find the closest power of 2 to T_DYN_INDICATORS\n",
    "t_tune_pow = np.ceil(np.log2(T_DYN_INDICATORS)) + 2\n",
    "t_tune_min = 4\n",
    "\n",
    "data_tune.henon_config[\"t_base_2\"] = 2 ** np.arange(t_tune_min, t_tune_pow + 1, dtype=int)\n",
    "data_tune.henon_config[\"t_base\"] = np.array([], dtype=int)\n",
    "data_tune.henon_config[\"t_base_10\"] = np.array([], dtype=int)\n",
    "data_tune.henon_config[\"t_linear\"] = np.array([], dtype=int)\n",
    "\n",
    "data_tune.henon_config = dm.refresh_henon_config(data_tune.henon_config)\n",
    "\n",
    "times_tune = np.asarray(data_tune.get_times())\n"
   ]
  },
  {
   "cell_type": "code",
   "execution_count": 14,
   "metadata": {},
   "outputs": [
    {
     "name": "stdout",
     "output_type": "stream",
     "text": [
      "Getting file for group (0.31, 0.32, 'sps', 64.0, 0.0, nan, nan) with displacement none and tracking birkhoff_tunes!\n"
     ]
    }
   ],
   "source": [
    "tunes = data_tune.birkhoff_tunes(group)"
   ]
  },
  {
   "cell_type": "markdown",
   "metadata": {},
   "source": [
    "# PLOT FULL LYAPUNOV..."
   ]
  },
  {
   "cell_type": "code",
   "execution_count": 51,
   "metadata": {},
   "outputs": [],
   "source": [
    "TIMES = times\n",
    "DATA = full_lyapunov"
   ]
  },
  {
   "cell_type": "code",
   "execution_count": 52,
   "metadata": {},
   "outputs": [],
   "source": [
    "def cover_extreme_outliers(data, m=10):\n",
    "    \"\"\"\n",
    "    Cover extreme outliers in data.\n",
    "    \"\"\"\n",
    "    data_mean = np.nanmean(data)\n",
    "    data_std = np.nanstd(data)\n",
    "    data_min = data_mean - m * data_std\n",
    "    data_max = data_mean + m * data_std\n",
    "    data_mask = np.logical_and(data >= data_min, data <= data_max)\n",
    "    data[~data_mask] = np.nan\n",
    "    return data"
   ]
  },
  {
   "cell_type": "code",
   "execution_count": 53,
   "metadata": {},
   "outputs": [
    {
     "name": "stdout",
     "output_type": "stream",
     "text": [
      "-8.495361365233075 -2.2948946136616994\n"
     ]
    },
    {
     "name": "stderr",
     "output_type": "stream",
     "text": [
      "/tmp/ipykernel_10113/302532080.py:4: RuntimeWarning: invalid value encountered in log10\n",
      "  d = np.log10(DATA[k].to_numpy())[stab_mask]\n"
     ]
    }
   ],
   "source": [
    "val_min = np.nan\n",
    "val_max = np.nan\n",
    "for k in DATA.keys():\n",
    "    d = np.log10(DATA[k].to_numpy())[stab_mask]\n",
    "    d = cover_extreme_outliers(d)\n",
    "    val_min = np.nanmin([val_min, np.nanmin(d)])\n",
    "    val_max = np.nanmax([val_max, np.nanmax(d)])\n",
    "print(val_min, val_max)"
   ]
  },
  {
   "cell_type": "code",
   "execution_count": 54,
   "metadata": {},
   "outputs": [
    {
     "name": "stderr",
     "output_type": "stream",
     "text": [
      "/tmp/ipykernel_10113/3224112554.py:1: RuntimeWarning: invalid value encountered in log10\n",
      "  count, bins = np.histogram(np.log10(DATA[1000000].to_numpy()),\n"
     ]
    }
   ],
   "source": [
    "count, bins = np.histogram(np.log10(DATA[1000000].to_numpy()),\n",
    "             bins=50, range=(val_min, val_max))\n",
    "\n",
    "bin_centers = (bins[:-1] + bins[1:]) / 2"
   ]
  },
  {
   "cell_type": "code",
   "execution_count": 55,
   "metadata": {},
   "outputs": [
    {
     "name": "stderr",
     "output_type": "stream",
     "text": [
      "/tmp/ipykernel_10113/1417517132.py:5: RuntimeWarning: invalid value encountered in log10\n",
      "  d = np.log10(DATA[k].to_numpy())[stab_mask]\n"
     ]
    }
   ],
   "source": [
    "nbins = 50\n",
    "count_map = np.zeros((len(TIMES), nbins))\n",
    "\n",
    "for i, k in enumerate(DATA.keys()):\n",
    "    d = np.log10(DATA[k].to_numpy())[stab_mask]\n",
    "    count, bins = np.histogram(d, bins=50, range=(val_min, val_max), density=True)\n",
    "    bin_centers = (bins[:-1] + bins[1:]) / 2\n",
    "    count_map[i, :] = count\n",
    "\n",
    "count_map[count_map==0] = np.nan"
   ]
  },
  {
   "cell_type": "code",
   "execution_count": 56,
   "metadata": {},
   "outputs": [
    {
     "name": "stderr",
     "output_type": "stream",
     "text": [
      "/tmp/ipykernel_10113/2008986382.py:26: RuntimeWarning: invalid value encountered in log10\n",
      "  axs[\"hist2\"].hist(np.log10(DATA[TIMES[len(TIMES)//2]].to_numpy()), bins=50, range=(val_min, val_max), density=True)\n",
      "/tmp/ipykernel_10113/2008986382.py:27: RuntimeWarning: invalid value encountered in log10\n",
      "  axs[\"hist3\"].hist(np.log10(DATA[TIMES[0]].to_numpy()), bins=50, range=(val_min, val_max), density=True)\n"
     ]
    },
    {
     "data": {
      "image/png": "[encoded data removed]",
      "text/plain": [
       "<Figure size 720x576 with 5 Axes>"
      ]
     },
     "metadata": {
      "needs_background": "light"
     },
     "output_type": "display_data"
    }
   ],
   "source": [
    "fig = plt.figure(figsize=(10, 8))\n",
    "# fig, axs = plt.subplot_mosaic(\n",
    "#     [[\"cbar\",\"cmap\",\"cmap\",\"cmap\",\"cmap\", \"hist1\",\"hist1\",\"hist1\"],\n",
    "#      [\"cbar\",\"cmap\",\"cmap\",\"cmap\",\"cmap\", \"hist2\",\"hist2\",\"hist2\"],\n",
    "#      [\"cbar\", \"cmap\", \"cmap\", \"cmap\",\"cmap\", \"hist3\", \"hist3\", \"hist3\"]],\n",
    "#     figsize=(10, 10))\n",
    "\n",
    "gs = GridSpec(3, 3, figure=fig, width_ratios=[0.2, 1, 1])\n",
    "axs = {}\n",
    "axs[\"cmap\"] = fig.add_subplot(gs[:, 1])\n",
    "axs[\"cbar\"] = fig.add_subplot(gs[:, 0])\n",
    "axs[\"hist1\"] = fig.add_subplot(gs[0, 2])\n",
    "axs[\"hist2\"] = fig.add_subplot(gs[1, 2])\n",
    "axs[\"hist3\"] = fig.add_subplot(gs[2, 2])\n",
    "\n",
    "mappable = axs[\"cmap\"].imshow(np.log10(count_map), aspect=\"auto\", interpolation=\"nearest\", extent=(val_min, val_max, 0, len(TIMES)), origin=\"lower\")\n",
    "\n",
    "\n",
    "axs[\"cmap\"].set_xlabel(\"$\\\\log_{{10}}(FLI)$\")\n",
    "axs[\"cmap\"].set_ylabel(\"$N$ turns\")\n",
    "# set the ticks on the y axis to be the times\n",
    "plt.sca(axs[\"cmap\"])\n",
    "plt.yticks(np.arange(len(TIMES))+0.5, [f\"$10^{int(np.log10(t))}$\" for t in TIMES])\n",
    "\n",
    "axs[\"hist1\"].hist(np.log10(DATA[TIMES[-1]].to_numpy()), bins=50, range=(val_min, val_max), density=True)\n",
    "axs[\"hist2\"].hist(np.log10(DATA[TIMES[len(TIMES)//2]].to_numpy()), bins=50, range=(val_min, val_max), density=True)\n",
    "axs[\"hist3\"].hist(np.log10(DATA[TIMES[0]].to_numpy()), bins=50, range=(val_min, val_max), density=True)\n",
    "\n",
    "axs[\"hist1\"].set_ylabel(\"Frequency\")\n",
    "axs[\"hist2\"].set_ylabel(\"Frequency\")\n",
    "axs[\"hist3\"].set_ylabel(\"Frequency\")\n",
    "# move ylabels to the right\n",
    "axs[\"hist1\"].yaxis.tick_right()\n",
    "axs[\"hist2\"].yaxis.tick_right()\n",
    "axs[\"hist3\"].yaxis.tick_right()\n",
    "# move y title to the right\n",
    "axs[\"hist1\"].yaxis.set_label_position(\"right\")\n",
    "axs[\"hist2\"].yaxis.set_label_position(\"right\")\n",
    "axs[\"hist3\"].yaxis.set_label_position(\"right\")\n",
    "\n",
    "# set titles for the histos\n",
    "axs[\"hist1\"].set_title(f\"$10^{int(np.log10(TIMES[-1]))}$ turns\")\n",
    "axs[\"hist2\"].set_title(f\"$10^{int(np.log10(TIMES[len(TIMES)//2]))}$ turns\")\n",
    "axs[\"hist3\"].set_title(f\"$10^{int(np.log10(TIMES[0]))}$ turns\")\n",
    "\n",
    "d_rect_x = (val_max - val_min) * 0.005\n",
    "d_rect_y = 0.01\n",
    "rect = patches.Rectangle((val_min+d_rect_x, len(TIMES)-1+d_rect_y), val_max -\n",
    "                         val_min-d_rect_x*2, 1-d_rect_y*2, linewidth=3, edgecolor='r', facecolor='none')\n",
    "axs[\"cmap\"].add_patch(rect)\n",
    "\n",
    "rect = patches.Rectangle((val_min+d_rect_x, 0+d_rect_y), val_max - val_min-d_rect_x*2, 1-d_rect_y*2, linewidth=3, edgecolor='r', facecolor='none')\n",
    "axs[\"cmap\"].add_patch(rect)\n",
    "\n",
    "\n",
    "rect = patches.Rectangle((val_min+d_rect_x, len(TIMES)//2+d_rect_y), val_max - val_min-d_rect_x*2, 1-d_rect_y*2, linewidth=3, edgecolor='r', facecolor='none')\n",
    "axs[\"cmap\"].add_patch(rect)\n",
    "\n",
    "\n",
    "# clear completely axs[\"cbar\"]\n",
    "fig.delaxes(axs[\"cbar\"])\n",
    "\n",
    "# create colorbar with height equal to axs[\"cmap\"]\n",
    "fig.colorbar(mappable, ax=axs[\"cbar\"],\n",
    "             location=\"left\", label=\"Frequency $[\\\\log_{10}]$\", aspect=20)\n",
    "plt.tight_layout()\n",
    "\n",
    "plt.savefig(\"figs/fli_hist.jpg\", dpi=300)\n"
   ]
  },
  {
   "cell_type": "code",
   "execution_count": 57,
   "metadata": {},
   "outputs": [
    {
     "data": {
      "text/plain": [
       "<matplotlib.image.AxesImage at 0x7f8fd135de80>"
      ]
     },
     "execution_count": 57,
     "metadata": {},
     "output_type": "execute_result"
    },
    {
     "data": {
      "image/png": "[encoded data removed]",
      "text/plain": [
       "<Figure size 720x576 with 1 Axes>"
      ]
     },
     "metadata": {
      "needs_background": "light"
     },
     "output_type": "display_data"
    }
   ],
   "source": [
    "plt.figure(figsize=(10, 8))\n",
    "plt.imshow(np.log10(full_lyapunov[100000000].to_numpy()).reshape(samples, samples), origin=\"lower\")"
   ]
  },
  {
   "cell_type": "markdown",
   "metadata": {},
   "source": [
    "# THE PLOT"
   ]
  },
  {
   "cell_type": "code",
   "execution_count": 60,
   "metadata": {},
   "outputs": [],
   "source": [
    "TIMES = times_minor\n",
    "DATA = lyapunov"
   ]
  },
  {
   "cell_type": "code",
   "execution_count": 93,
   "metadata": {},
   "outputs": [],
   "source": [
    "picked_times = [\n",
    "    1000, 3000,\n",
    "    10000, 30000,\n",
    "    100000, 300000,\n",
    "    1000000\n",
    "]\n",
    "corresponding_indexes = [\n",
    "    np.where(TIMES == t)[0][0] for t in picked_times\n",
    "]\n",
    "\n",
    "labels = [\n",
    "    \"$1\\\\times 10^3$\", \"$3\\\\times 10^3$\",\n",
    "    \"$1\\\\times 10^4$\", \"$3\\\\times 10^4$\",\n",
    "    \"$1\\\\times 10^5$\", \"$3\\\\times 10^5$\",\n",
    "    \"$1\\\\times 10^6$\"\n",
    "]"
   ]
  },
  {
   "cell_type": "code",
   "execution_count": 94,
   "metadata": {},
   "outputs": [],
   "source": [
    "def cover_extreme_outliers(data, m=10):\n",
    "    \"\"\"\n",
    "    Cover extreme outliers in data.\n",
    "    \"\"\"\n",
    "    data_mean = np.nanmean(data)\n",
    "    data_std = np.nanstd(data)\n",
    "    data_min = data_mean - m * data_std\n",
    "    data_max = data_mean + m * data_std\n",
    "    data_mask = np.logical_and(data >= data_min, data <= data_max)\n",
    "    data[~data_mask] = np.nan\n",
    "    return data"
   ]
  },
  {
   "cell_type": "code",
   "execution_count": 95,
   "metadata": {},
   "outputs": [
    {
     "name": "stdout",
     "output_type": "stream",
     "text": [
      "-7.063406626659475 -1.7089304653540576\n"
     ]
    },
    {
     "name": "stderr",
     "output_type": "stream",
     "text": [
      "/tmp/ipykernel_10113/4147483705.py:4: RuntimeWarning: invalid value encountered in log10\n",
      "  d = np.log10(DATA[k].to_numpy())[stab_mask]\n"
     ]
    }
   ],
   "source": [
    "val_min = np.nan\n",
    "val_max = np.nan\n",
    "for k in picked_times:\n",
    "    d = np.log10(DATA[k].to_numpy())[stab_mask]\n",
    "    d = cover_extreme_outliers(d)\n",
    "    val_min = np.nanmin([val_min, np.nanmin(d)])\n",
    "    val_max = np.nanmax([val_max, np.nanmax(d)])\n",
    "print(val_min, val_max)\n"
   ]
  },
  {
   "cell_type": "code",
   "execution_count": 96,
   "metadata": {},
   "outputs": [
    {
     "name": "stderr",
     "output_type": "stream",
     "text": [
      "/tmp/ipykernel_10113/3224112554.py:1: RuntimeWarning: invalid value encountered in log10\n",
      "  count, bins = np.histogram(np.log10(DATA[1000000].to_numpy()),\n"
     ]
    }
   ],
   "source": [
    "count, bins = np.histogram(np.log10(DATA[1000000].to_numpy()),\n",
    "             bins=50, range=(val_min, val_max))\n",
    "\n",
    "bin_centers = (bins[:-1] + bins[1:]) / 2"
   ]
  },
  {
   "cell_type": "code",
   "execution_count": 97,
   "metadata": {},
   "outputs": [
    {
     "name": "stderr",
     "output_type": "stream",
     "text": [
      "/tmp/ipykernel_10113/67871865.py:5: RuntimeWarning: invalid value encountered in log10\n",
      "  d = np.log10(DATA[k].to_numpy())[stab_mask]\n"
     ]
    }
   ],
   "source": [
    "nbins = 50\n",
    "count_map = np.zeros((len(picked_times), nbins))\n",
    "\n",
    "for i, k in enumerate(picked_times):\n",
    "    d = np.log10(DATA[k].to_numpy())[stab_mask]\n",
    "    count, bins = np.histogram(d, bins=50, range=(val_min, val_max), density=True)\n",
    "    bin_centers = (bins[:-1] + bins[1:]) / 2\n",
    "    count_map[i, :] = count\n",
    "\n",
    "count_map[count_map==0] = np.nan\n"
   ]
  },
  {
   "cell_type": "code",
   "execution_count": 99,
   "metadata": {},
   "outputs": [
    {
     "name": "stderr",
     "output_type": "stream",
     "text": [
      "/tmp/ipykernel_10113/3797179249.py:25: RuntimeWarning: invalid value encountered in log10\n",
      "  axs[\"hist1\"].hist(np.log10(DATA[picked_times[-1]].to_numpy()), bins=50, range=(val_min, val_max), density=True)\n",
      "/tmp/ipykernel_10113/3797179249.py:26: RuntimeWarning: invalid value encountered in log10\n",
      "  axs[\"hist2\"].hist(np.log10(DATA[picked_times[len(picked_times)//2]].to_numpy()), bins=50, range=(val_min, val_max), density=True)\n",
      "/tmp/ipykernel_10113/3797179249.py:27: RuntimeWarning: invalid value encountered in log10\n",
      "  axs[\"hist3\"].hist(np.log10(DATA[picked_times[0]].to_numpy()), bins=50, range=(val_min, val_max), density=True)\n"
     ]
    },
    {
     "data": {
      "image/png": "[encoded data removed]",
      "text/plain": [
       "<Figure size 720x576 with 5 Axes>"
      ]
     },
     "metadata": {
      "needs_background": "light"
     },
     "output_type": "display_data"
    }
   ],
   "source": [
    "fig = plt.figure(figsize=(10, 8))\n",
    "# fig, axs = plt.subplot_mosaic(\n",
    "#     [[\"cbar\",\"cmap\",\"cmap\",\"cmap\",\"cmap\", \"hist1\",\"hist1\",\"hist1\"],\n",
    "#      [\"cbar\",\"cmap\",\"cmap\",\"cmap\",\"cmap\", \"hist2\",\"hist2\",\"hist2\"],\n",
    "#      [\"cbar\", \"cmap\", \"cmap\", \"cmap\",\"cmap\", \"hist3\", \"hist3\", \"hist3\"]],\n",
    "#     figsize=(10, 10))\n",
    "\n",
    "gs = GridSpec(3, 3, figure=fig, width_ratios=[0.2, 1, 1])\n",
    "axs = {}\n",
    "axs[\"cmap\"] = fig.add_subplot(gs[:, 1])\n",
    "axs[\"cbar\"] = fig.add_subplot(gs[:, 0])\n",
    "axs[\"hist1\"] = fig.add_subplot(gs[0, 2])\n",
    "axs[\"hist2\"] = fig.add_subplot(gs[1, 2])\n",
    "axs[\"hist3\"] = fig.add_subplot(gs[2, 2])\n",
    "\n",
    "mappable = axs[\"cmap\"].imshow(np.log10(count_map), aspect=\"auto\", interpolation=\"nearest\", extent=(val_min, val_max, 0, len(picked_times)), origin=\"lower\")\n",
    "\n",
    "\n",
    "axs[\"cmap\"].set_xlabel(\"$\\\\log_{{10}}(FLI)$\")\n",
    "axs[\"cmap\"].set_ylabel(\"$N$ turns\")\n",
    "# set the ticks on the y axis to be the times\n",
    "plt.sca(axs[\"cmap\"])\n",
    "plt.yticks(np.arange(len(picked_times))+0.5, labels)\n",
    "\n",
    "axs[\"hist1\"].hist(np.log10(DATA[picked_times[-1]].to_numpy()), bins=50, range=(val_min, val_max), density=True)\n",
    "axs[\"hist2\"].hist(np.log10(DATA[picked_times[len(picked_times)//2]].to_numpy()), bins=50, range=(val_min, val_max), density=True)\n",
    "axs[\"hist3\"].hist(np.log10(DATA[picked_times[0]].to_numpy()), bins=50, range=(val_min, val_max), density=True)\n",
    "\n",
    "axs[\"hist1\"].set_ylabel(\"Frequency\")\n",
    "axs[\"hist2\"].set_ylabel(\"Frequency\")\n",
    "axs[\"hist3\"].set_ylabel(\"Frequency\")\n",
    "# move ylabels to the right\n",
    "axs[\"hist1\"].yaxis.tick_right()\n",
    "axs[\"hist2\"].yaxis.tick_right()\n",
    "axs[\"hist3\"].yaxis.tick_right()\n",
    "# move y title to the right\n",
    "axs[\"hist1\"].yaxis.set_label_position(\"right\")\n",
    "axs[\"hist2\"].yaxis.set_label_position(\"right\")\n",
    "axs[\"hist3\"].yaxis.set_label_position(\"right\")\n",
    "\n",
    "# set titles for the histos\n",
    "axs[\"hist1\"].set_title(f\"{labels[-1]} turns\")\n",
    "axs[\"hist2\"].set_title(f\"{labels[len(picked_times)//2]} turns\")\n",
    "axs[\"hist3\"].set_title(f\"{labels[0]} turns\")\n",
    "\n",
    "d_rect_x = (val_max - val_min) * 0.005\n",
    "d_rect_y = 0.01\n",
    "rect = patches.Rectangle((val_min+d_rect_x, len(picked_times)-1+d_rect_y), val_max -\n",
    "                         val_min-d_rect_x*2, 1-d_rect_y*2, linewidth=3, edgecolor='r', facecolor='none')\n",
    "axs[\"cmap\"].add_patch(rect)\n",
    "\n",
    "rect = patches.Rectangle((val_min+d_rect_x, 0+d_rect_y), val_max - val_min-d_rect_x*2, 1-d_rect_y*2, linewidth=3, edgecolor='r', facecolor='none')\n",
    "axs[\"cmap\"].add_patch(rect)\n",
    "\n",
    "\n",
    "rect = patches.Rectangle((val_min+d_rect_x, len(picked_times)//2+d_rect_y), val_max -\n",
    "                         val_min-d_rect_x*2, 1-d_rect_y*2, linewidth=3, edgecolor='r', facecolor='none')\n",
    "axs[\"cmap\"].add_patch(rect)\n",
    "\n",
    "\n",
    "# clear completely axs[\"cbar\"]\n",
    "fig.delaxes(axs[\"cbar\"])\n",
    "\n",
    "# create colorbar with height equal to axs[\"cmap\"]\n",
    "fig.colorbar(mappable, ax=axs[\"cbar\"],\n",
    "             location=\"left\", label=\"Frequency $[\\\\log_{10}]$\", aspect=20)\n",
    "plt.tight_layout()\n",
    "\n",
    "plt.savefig(\"figs/fli_hist.jpg\", dpi=300)\n"
   ]
  },
  {
   "cell_type": "markdown",
   "metadata": {},
   "source": [
    "# TUNES"
   ]
  },
  {
   "cell_type": "code",
   "execution_count": 114,
   "metadata": {},
   "outputs": [],
   "source": [
    "TIMES = times_tune\n",
    "DATA = tunes"
   ]
  },
  {
   "cell_type": "code",
   "execution_count": 115,
   "metadata": {},
   "outputs": [
    {
     "data": {
      "text/plain": [
       "array([     16,      32,      64,     128,     256,     512,    1024,\n",
       "          2048,    4096,    8192,   16384,   32768,   65536,  131072,\n",
       "        262144,  524288, 1048576, 2097152, 4194304])"
      ]
     },
     "execution_count": 115,
     "metadata": {},
     "output_type": "execute_result"
    }
   ],
   "source": [
    "TIMES"
   ]
  },
  {
   "cell_type": "code",
   "execution_count": 116,
   "metadata": {},
   "outputs": [],
   "source": [
    "picked_times = [\n",
    "    1024, 2048, 4096, 8192, 16384, 32768, 65536, 131072\n",
    "]\n",
    "corresponding_indexes = [\n",
    "    np.where(TIMES == t)[0][0] for t in picked_times\n",
    "]\n",
    "\n",
    "labels = [f\"${t}$\" for t in picked_times]\n"
   ]
  },
  {
   "cell_type": "code",
   "execution_count": 117,
   "metadata": {},
   "outputs": [],
   "source": [
    "def cover_extreme_outliers(data, m=10):\n",
    "    \"\"\"\n",
    "    Cover extreme outliers in data.\n",
    "    \"\"\"\n",
    "    data_mean = np.nanmean(data)\n",
    "    data_std = np.nanstd(data)\n",
    "    data_min = data_mean - m * data_std\n",
    "    data_max = data_mean + m * data_std\n",
    "    data_mask = np.logical_and(data >= data_min, data <= data_max)\n",
    "    data[~data_mask] = np.nan\n",
    "    return data"
   ]
  },
  {
   "cell_type": "code",
   "execution_count": 118,
   "metadata": {},
   "outputs": [
    {
     "name": "stdout",
     "output_type": "stream",
     "text": [
      "-15.653559774527022 -1.329112084651185\n"
     ]
    },
    {
     "name": "stderr",
     "output_type": "stream",
     "text": [
      "/tmp/ipykernel_10113/4147483705.py:4: RuntimeWarning: divide by zero encountered in log10\n",
      "  d = np.log10(DATA[k].to_numpy())[stab_mask]\n",
      "/home/HPC/camontan/anaconda3/lib/python3.9/site-packages/numpy/lib/nanfunctions.py:1539: RuntimeWarning: invalid value encountered in subtract\n",
      "  np.subtract(arr, avg, out=arr, casting='unsafe')\n",
      "/tmp/ipykernel_10113/4147483705.py:6: RuntimeWarning: All-NaN slice encountered\n",
      "  val_min = np.nanmin([val_min, np.nanmin(d)])\n",
      "/tmp/ipykernel_10113/4147483705.py:6: RuntimeWarning: All-NaN axis encountered\n",
      "  val_min = np.nanmin([val_min, np.nanmin(d)])\n",
      "/tmp/ipykernel_10113/4147483705.py:7: RuntimeWarning: All-NaN slice encountered\n",
      "  val_max = np.nanmax([val_max, np.nanmax(d)])\n",
      "/tmp/ipykernel_10113/4147483705.py:7: RuntimeWarning: All-NaN axis encountered\n",
      "  val_max = np.nanmax([val_max, np.nanmax(d)])\n"
     ]
    }
   ],
   "source": [
    "val_min = np.nan\n",
    "val_max = np.nan\n",
    "for k in picked_times:\n",
    "    d = np.log10(DATA[k].to_numpy())[stab_mask]\n",
    "    d = cover_extreme_outliers(d)\n",
    "    val_min = np.nanmin([val_min, np.nanmin(d)])\n",
    "    val_max = np.nanmax([val_max, np.nanmax(d)])\n",
    "print(val_min, val_max)\n"
   ]
  },
  {
   "cell_type": "code",
   "execution_count": 121,
   "metadata": {},
   "outputs": [],
   "source": [
    "count, bins = np.histogram(np.log10(DATA[picked_times[-1]].to_numpy()),\n",
    "             bins=50, range=(val_min, val_max))\n",
    "\n",
    "bin_centers = (bins[:-1] + bins[1:]) / 2"
   ]
  },
  {
   "cell_type": "code",
   "execution_count": 122,
   "metadata": {},
   "outputs": [
    {
     "name": "stderr",
     "output_type": "stream",
     "text": [
      "/tmp/ipykernel_10113/67871865.py:5: RuntimeWarning: divide by zero encountered in log10\n",
      "  d = np.log10(DATA[k].to_numpy())[stab_mask]\n"
     ]
    }
   ],
   "source": [
    "nbins = 50\n",
    "count_map = np.zeros((len(picked_times), nbins))\n",
    "\n",
    "for i, k in enumerate(picked_times):\n",
    "    d = np.log10(DATA[k].to_numpy())[stab_mask]\n",
    "    count, bins = np.histogram(d, bins=50, range=(val_min, val_max), density=True)\n",
    "    bin_centers = (bins[:-1] + bins[1:]) / 2\n",
    "    count_map[i, :] = count\n",
    "\n",
    "count_map[count_map==0] = np.nan\n"
   ]
  },
  {
   "cell_type": "code",
   "execution_count": 123,
   "metadata": {},
   "outputs": [
    {
     "name": "stderr",
     "output_type": "stream",
     "text": [
      "/tmp/ipykernel_10113/3797179249.py:27: RuntimeWarning: divide by zero encountered in log10\n",
      "  axs[\"hist3\"].hist(np.log10(DATA[picked_times[0]].to_numpy()), bins=50, range=(val_min, val_max), density=True)\n"
     ]
    },
    {
     "data": {
      "image/png": "[encoded data removed]",
      "text/plain": [
       "<Figure size 720x576 with 5 Axes>"
      ]
     },
     "metadata": {
      "needs_background": "light"
     },
     "output_type": "display_data"
    }
   ],
   "source": [
    "fig = plt.figure(figsize=(10, 8))\n",
    "# fig, axs = plt.subplot_mosaic(\n",
    "#     [[\"cbar\",\"cmap\",\"cmap\",\"cmap\",\"cmap\", \"hist1\",\"hist1\",\"hist1\"],\n",
    "#      [\"cbar\",\"cmap\",\"cmap\",\"cmap\",\"cmap\", \"hist2\",\"hist2\",\"hist2\"],\n",
    "#      [\"cbar\", \"cmap\", \"cmap\", \"cmap\",\"cmap\", \"hist3\", \"hist3\", \"hist3\"]],\n",
    "#     figsize=(10, 10))\n",
    "\n",
    "gs = GridSpec(3, 3, figure=fig, width_ratios=[0.2, 1, 1])\n",
    "axs = {}\n",
    "axs[\"cmap\"] = fig.add_subplot(gs[:, 1])\n",
    "axs[\"cbar\"] = fig.add_subplot(gs[:, 0])\n",
    "axs[\"hist1\"] = fig.add_subplot(gs[0, 2])\n",
    "axs[\"hist2\"] = fig.add_subplot(gs[1, 2])\n",
    "axs[\"hist3\"] = fig.add_subplot(gs[2, 2])\n",
    "\n",
    "mappable = axs[\"cmap\"].imshow(np.log10(count_map), aspect=\"auto\", interpolation=\"nearest\", extent=(val_min, val_max, 0, len(picked_times)), origin=\"lower\")\n",
    "\n",
    "\n",
    "axs[\"cmap\"].set_xlabel(\"$\\\\log_{{10}}(FLI)$\")\n",
    "axs[\"cmap\"].set_ylabel(\"$N$ turns\")\n",
    "# set the ticks on the y axis to be the times\n",
    "plt.sca(axs[\"cmap\"])\n",
    "plt.yticks(np.arange(len(picked_times))+0.5, labels)\n",
    "\n",
    "axs[\"hist1\"].hist(np.log10(DATA[picked_times[-1]].to_numpy()), bins=50, range=(val_min, val_max), density=True)\n",
    "axs[\"hist2\"].hist(np.log10(DATA[picked_times[len(picked_times)//2]].to_numpy()), bins=50, range=(val_min, val_max), density=True)\n",
    "axs[\"hist3\"].hist(np.log10(DATA[picked_times[0]].to_numpy()), bins=50, range=(val_min, val_max), density=True)\n",
    "\n",
    "axs[\"hist1\"].set_ylabel(\"Frequency\")\n",
    "axs[\"hist2\"].set_ylabel(\"Frequency\")\n",
    "axs[\"hist3\"].set_ylabel(\"Frequency\")\n",
    "# move ylabels to the right\n",
    "axs[\"hist1\"].yaxis.tick_right()\n",
    "axs[\"hist2\"].yaxis.tick_right()\n",
    "axs[\"hist3\"].yaxis.tick_right()\n",
    "# move y title to the right\n",
    "axs[\"hist1\"].yaxis.set_label_position(\"right\")\n",
    "axs[\"hist2\"].yaxis.set_label_position(\"right\")\n",
    "axs[\"hist3\"].yaxis.set_label_position(\"right\")\n",
    "\n",
    "# set titles for the histos\n",
    "axs[\"hist1\"].set_title(f\"{labels[-1]} turns\")\n",
    "axs[\"hist2\"].set_title(f\"{labels[len(picked_times)//2]} turns\")\n",
    "axs[\"hist3\"].set_title(f\"{labels[0]} turns\")\n",
    "\n",
    "d_rect_x = (val_max - val_min) * 0.005\n",
    "d_rect_y = 0.01\n",
    "rect = patches.Rectangle((val_min+d_rect_x, len(picked_times)-1+d_rect_y), val_max -\n",
    "                         val_min-d_rect_x*2, 1-d_rect_y*2, linewidth=3, edgecolor='r', facecolor='none')\n",
    "axs[\"cmap\"].add_patch(rect)\n",
    "\n",
    "rect = patches.Rectangle((val_min+d_rect_x, 0+d_rect_y), val_max - val_min-d_rect_x*2, 1-d_rect_y*2, linewidth=3, edgecolor='r', facecolor='none')\n",
    "axs[\"cmap\"].add_patch(rect)\n",
    "\n",
    "\n",
    "rect = patches.Rectangle((val_min+d_rect_x, len(picked_times)//2+d_rect_y), val_max -\n",
    "                         val_min-d_rect_x*2, 1-d_rect_y*2, linewidth=3, edgecolor='r', facecolor='none')\n",
    "axs[\"cmap\"].add_patch(rect)\n",
    "\n",
    "\n",
    "# clear completely axs[\"cbar\"]\n",
    "fig.delaxes(axs[\"cbar\"])\n",
    "\n",
    "# create colorbar with height equal to axs[\"cmap\"]\n",
    "fig.colorbar(mappable, ax=axs[\"cbar\"],\n",
    "             location=\"left\", label=\"Frequency $[\\\\log_{10}]$\", aspect=20)\n",
    "plt.tight_layout()\n",
    "\n",
    "plt.savefig(\"figs/fli_hist.jpg\", dpi=300)\n"
   ]
  },
  {
   "cell_type": "markdown",
   "metadata": {},
   "source": [
    "# PERFORMANCES"
   ]
  },
  {
   "cell_type": "code",
   "execution_count": 126,
   "metadata": {},
   "outputs": [
    {
     "data": {
      "text/plain": [
       "(array([  1.,   0.,   0.,   0.,   2.,  13.,  81., 186., 262., 278., 392.,\n",
       "        483., 576., 660., 811., 772., 688., 616., 448., 285., 164.,  98.,\n",
       "         45.,  47.,  10.,  13.,   4.,   3.,   1.,   1.,   0.,   0.,   0.,\n",
       "          0.,   0.,   0.,   1.,   0.,   1.,   1.,   3.,   0.,   2.,   3.,\n",
       "          7.,   5.,  16.,  20.,  15.,  20.]),\n",
       " array([-7.84377519, -7.72818232, -7.61258945, -7.49699657, -7.3814037 ,\n",
       "        -7.26581083, -7.15021796, -7.03462509, -6.91903222, -6.80343934,\n",
       "        -6.68784647, -6.5722536 , -6.45666073, -6.34106786, -6.22547499,\n",
       "        -6.10988212, -5.99428924, -5.87869637, -5.7631035 , -5.64751063,\n",
       "        -5.53191776, -5.41632489, -5.30073201, -5.18513914, -5.06954627,\n",
       "        -4.9539534 , -4.83836053, -4.72276766, -4.60717479, -4.49158191,\n",
       "        -4.37598904, -4.26039617, -4.1448033 , -4.02921043, -3.91361756,\n",
       "        -3.79802468, -3.68243181, -3.56683894, -3.45124607, -3.3356532 ,\n",
       "        -3.22006033, -3.10446746, -2.98887458, -2.87328171, -2.75768884,\n",
       "        -2.64209597, -2.5265031 , -2.41091023, -2.29531735, -2.17972448,\n",
       "        -2.06413161]),\n",
       " <BarContainer object of 50 artists>)"
      ]
     },
     "execution_count": 126,
     "metadata": {},
     "output_type": "execute_result"
    },
    {
     "data": {
      "image/png": "[encoded data removed]",
      "text/plain": [
       "<Figure size 432x288 with 1 Axes>"
      ]
     },
     "metadata": {
      "needs_background": "light"
     },
     "output_type": "display_data"
    }
   ],
   "source": [
    "plt.hist(np.log10(full_lyapunov[100000000]), bins=50)"
   ]
  },
  {
   "cell_type": "code",
   "execution_count": 133,
   "metadata": {},
   "outputs": [
    {
     "name": "stderr",
     "output_type": "stream",
     "text": [
      "/tmp/ipykernel_10113/2494021343.py:4: RuntimeWarning: invalid value encountered in log10\n",
      "  d = np.log10(full_lyapunov[100000000].to_numpy())\n"
     ]
    },
    {
     "data": {
      "text/plain": [
       "<matplotlib.lines.Line2D at 0x7f8f9d219250>"
      ]
     },
     "execution_count": 133,
     "metadata": {},
     "output_type": "execute_result"
    },
    {
     "data": {
      "image/png": "[encoded data removed]",
      "text/plain": [
       "<Figure size 432x288 with 1 Axes>"
      ]
     },
     "metadata": {
      "needs_background": "light"
     },
     "output_type": "display_data"
    }
   ],
   "source": [
    "from sklearn.cluster import KMeans\n",
    "from sklearn.mixture import GaussianMixture\n",
    "\n",
    "d = np.log10(full_lyapunov[100000000].to_numpy())\n",
    "# clean data from infs and nan\n",
    "d = d[np.isfinite(d)]\n",
    "d = d[np.logical_not(np.isnan(d))]\n",
    "\n",
    "labels = KMeans(n_clusters=2, random_state=42).fit_predict(d.reshape(-1, 1))\n",
    "max_1 = np.max(d[labels == 0])\n",
    "max_2 = np.max(d[labels == 1])\n",
    "min_1 = np.min(d[labels == 0])\n",
    "min_2 = np.min(d[labels == 1])\n",
    "if max_1 > max_2:\n",
    "    thresh_1 = (max_2 + min_1) / 2\n",
    "else:\n",
    "    thresh_1 = (max_1 + min_2) / 2\n",
    "\n",
    "plt.hist(d, bins=50)\n",
    "plt.axvline(thresh_1, color=\"r\")"
   ]
  },
  {
   "cell_type": "code",
   "execution_count": 137,
   "metadata": {},
   "outputs": [
    {
     "name": "stderr",
     "output_type": "stream",
     "text": [
      "/tmp/ipykernel_10113/1982299959.py:1: RuntimeWarning: invalid value encountered in log10\n",
      "  d = np.log10(full_lyapunov[100000000].to_numpy())\n"
     ]
    },
    {
     "data": {
      "image/png": "[encoded data removed]",
      "text/plain": [
       "<Figure size 432x288 with 1 Axes>"
      ]
     },
     "metadata": {
      "needs_background": "light"
     },
     "output_type": "display_data"
    }
   ],
   "source": [
    "d = np.log10(full_lyapunov[100000000].to_numpy())\n",
    "d = np.asarray(d <= thresh_1, dtype=float)\n",
    "d[~stab_mask] = np.nan\n",
    "plt.imshow(d.reshape(samples, samples), origin=\"lower\", extent=X_EXTENTS+Y_EXTENTS)\n",
    "\n",
    "ground_truth = d"
   ]
  },
  {
   "cell_type": "code",
   "execution_count": 139,
   "metadata": {},
   "outputs": [
    {
     "name": "stderr",
     "output_type": "stream",
     "text": [
      "/home/HPC/camontan/anaconda3/lib/python3.9/site-packages/pandas/core/arraylike.py:364: RuntimeWarning: invalid value encountered in log10\n",
      "  result = getattr(ufunc, method)(*inputs, **kwargs)\n"
     ]
    }
   ],
   "source": [
    "values_lyap = Parallel(n_jobs=njobs)(\n",
    "    delayed(dm.get_full_comparison)(\n",
    "        np.log10(lyapunov[t]).to_numpy(),\n",
    "        ground_truth == 1,\n",
    "        stable_if_higher=False,\n",
    "        naive_data=stability,\n",
    "        naive_thresh_min=100,\n",
    "        naive_thresh_max=t\n",
    "    ) for t in times_minor\n",
    ")\n",
    "\n",
    "th_best_lyap = np.asarray([v[\"accuracy_best_val\"] for v in values_lyap])\n",
    "th_chosen_lyap = np.asarray([v[\"threshold\"] for v in values_lyap])\n",
    "\n",
    "ac_best_lyap = np.asarray([v[\"accuracy_best\"] for v in values_lyap])\n",
    "ac_chosen_lyap = np.asarray([v[\"accuracy_threshold\"] for v in values_lyap])\n"
   ]
  },
  {
   "cell_type": "code",
   "execution_count": 140,
   "metadata": {},
   "outputs": [],
   "source": [
    "values_olyap_max = Parallel(n_jobs=njobs)(\n",
    "    delayed(dm.get_full_comparison)(\n",
    "        np.log10(ortho_lyap_max[t]).to_numpy(),\n",
    "        ground_truth == 1,\n",
    "        stable_if_higher=False,\n",
    "        naive_data=stability,\n",
    "        naive_thresh_min=100,\n",
    "        naive_thresh_max=t\n",
    "    ) for t in times_minor\n",
    ")\n",
    "\n",
    "th_best_olyap_max = np.asarray([v[\"accuracy_best_val\"] for v in values_olyap_max])\n",
    "th_chosen_olyap_max = np.asarray([v[\"threshold\"] for v in values_olyap_max])\n",
    "\n",
    "ac_best_olyap_max = np.asarray([v[\"accuracy_best\"] for v in values_olyap_max])\n",
    "ac_chosen_olyap_max = np.asarray([v[\"accuracy_threshold\"] for v in values_olyap_max])\n"
   ]
  },
  {
   "cell_type": "code",
   "execution_count": 141,
   "metadata": {},
   "outputs": [],
   "source": [
    "values_olyap_avg = Parallel(n_jobs=njobs)(\n",
    "    delayed(dm.get_full_comparison)(\n",
    "        np.log10(ortho_lyap_avg[t]).to_numpy(),\n",
    "        ground_truth == 1,\n",
    "        stable_if_higher=False,\n",
    "        naive_data=stability,\n",
    "        naive_thresh_min=100,\n",
    "        naive_thresh_max=t\n",
    "    ) for t in times_minor\n",
    ")\n",
    "\n",
    "th_best_olyap_avg = np.asarray([v[\"accuracy_best_val\"] for v in values_olyap_avg])\n",
    "th_chosen_olyap_avg = np.asarray([v[\"threshold\"] for v in values_olyap_avg])\n",
    "\n",
    "ac_best_olyap_avg = np.asarray([v[\"accuracy_best\"] for v in values_olyap_avg])\n",
    "ac_chosen_olyap_avg = np.asarray([v[\"accuracy_threshold\"] for v in values_olyap_avg])\n"
   ]
  },
  {
   "cell_type": "code",
   "execution_count": 142,
   "metadata": {},
   "outputs": [
    {
     "name": "stderr",
     "output_type": "stream",
     "text": [
      "/home/HPC/camontan/anaconda3/lib/python3.9/site-packages/pandas/core/arraylike.py:364: RuntimeWarning: divide by zero encountered in log10\n",
      "  result = getattr(ufunc, method)(*inputs, **kwargs)\n"
     ]
    }
   ],
   "source": [
    "values_sali = Parallel(n_jobs=njobs)(\n",
    "    delayed(dm.get_full_comparison)(\n",
    "        np.log10(sali[t]).to_numpy(),\n",
    "        ground_truth == 1,\n",
    "        stable_if_higher=True,\n",
    "        naive_data=stability,\n",
    "        naive_thresh_min=100,\n",
    "        naive_thresh_max=t\n",
    "    ) for t in times_minor\n",
    ")\n",
    "\n",
    "th_best_sali = np.asarray([v[\"accuracy_best_val\"] for v in values_sali])\n",
    "th_chosen_sali = np.asarray([v[\"threshold\"] for v in values_sali])\n",
    "\n",
    "ac_best_sali = np.asarray([v[\"accuracy_best\"] for v in values_sali])\n",
    "ac_chosen_sali = np.asarray([v[\"accuracy_threshold\"] for v in values_sali])\n"
   ]
  },
  {
   "cell_type": "code",
   "execution_count": 143,
   "metadata": {},
   "outputs": [],
   "source": [
    "values_gali = Parallel(n_jobs=njobs)(\n",
    "    delayed(dm.get_full_comparison)(\n",
    "        np.log10(gali[t].to_numpy()),\n",
    "        ground_truth == 1,\n",
    "        stable_if_higher=True,\n",
    "        naive_data=stability,\n",
    "        naive_thresh_min=100,\n",
    "        naive_thresh_max=t\n",
    "    ) for t in times_minor\n",
    ")\n",
    "\n",
    "th_best_gali = np.asarray([v[\"accuracy_best_val\"] for v in values_gali])\n",
    "th_chosen_gali = np.asarray([v[\"threshold\"] for v in values_gali])\n",
    "\n",
    "ac_best_gali = np.asarray([v[\"accuracy_best\"] for v in values_gali])\n",
    "ac_chosen_gali = np.asarray([v[\"accuracy_threshold\"] for v in values_gali])\n"
   ]
  },
  {
   "cell_type": "code",
   "execution_count": 144,
   "metadata": {},
   "outputs": [],
   "source": [
    "values_reverse = Parallel(n_jobs=njobs)(\n",
    "    delayed(dm.get_full_comparison)(\n",
    "        np.log10(reverse[t]).to_numpy(),\n",
    "        ground_truth == 1,\n",
    "        stable_if_higher=False,\n",
    "        naive_data=stability,\n",
    "        naive_thresh_min=100,\n",
    "        naive_thresh_max=t\n",
    "    ) for t in times_minor\n",
    ")\n",
    "\n",
    "th_best_reverse = np.asarray([v[\"accuracy_best_val\"] for v in values_reverse])\n",
    "th_chosen_reverse = np.asarray([v[\"threshold\"] for v in values_reverse])\n",
    "\n",
    "ac_best_reverse = np.asarray([v[\"accuracy_best\"] for v in values_reverse])\n",
    "ac_chosen_reverse = np.asarray([v[\"accuracy_threshold\"] for v in values_reverse])\n"
   ]
  },
  {
   "cell_type": "code",
   "execution_count": 145,
   "metadata": {},
   "outputs": [],
   "source": [
    "values_tunes = Parallel(n_jobs=njobs)(\n",
    "    delayed(dm.get_full_comparison)(\n",
    "        np.log10(tunes[t]).to_numpy(),\n",
    "        ground_truth == 1,\n",
    "        stable_if_higher=False,\n",
    "        naive_data=stability,\n",
    "        naive_thresh_min=100,\n",
    "        naive_thresh_max=t\n",
    "    ) for t in times_tune[:-2]\n",
    ")\n",
    "\n",
    "th_best_tunes = np.asarray([v[\"accuracy_best_val\"] for v in values_tunes])\n",
    "th_chosen_tunes = np.asarray([v[\"threshold\"] for v in values_tunes])\n",
    "\n",
    "ac_best_tunes = np.asarray([v[\"accuracy_best\"] for v in values_tunes])\n",
    "ac_chosen_tunes = np.asarray([v[\"accuracy_threshold\"] for v in values_tunes])\n"
   ]
  },
  {
   "cell_type": "code",
   "execution_count": 155,
   "metadata": {},
   "outputs": [
    {
     "data": {
      "image/png": "[encoded data removed]",
      "text/plain": [
       "<Figure size 432x288 with 1 Axes>"
      ]
     },
     "metadata": {
      "needs_background": "light"
     },
     "output_type": "display_data"
    }
   ],
   "source": [
    "fig, ax = plt.subplots(1, 1)\n",
    "\n",
    "ax.plot(times_minor, ac_best_gali, label=\"GALI\")\n",
    "ax.plot(times_minor, ac_best_sali, label=\"SALI\")\n",
    "ax.plot(times_minor, ac_best_reverse, label=\"Reverse\")\n",
    "ax.plot(times_minor, ac_best_lyap, label=\"FLI\")\n",
    "ax.plot(times_minor, ac_best_olyap_max, label=\"OFLI max\")\n",
    "ax.plot(times_minor, ac_best_olyap_avg, label=\"OFLI avg\")\n",
    "ax.plot(times_tune[5:-2], ac_best_tunes[5:], label=\"Tune\")\n",
    "\n",
    "ax.legend(ncol=2, fontsize=\"small\")\n",
    "ax.set_xscale(\"log\")\n",
    "\n",
    "ax.set_xlim(1e3, 1e6)\n",
    "ax.set_xlabel(\"$N$ turns\")\n",
    "ax.set_ylabel(\"Accuracy\")\n",
    "\n",
    "ax.set_title(\"Best accuracy. Threshold chosen with highest accuracy.\")\n",
    "plt.tight_layout()"
   ]
  },
  {
   "cell_type": "code",
   "execution_count": 153,
   "metadata": {},
   "outputs": [
    {
     "data": {
      "text/plain": [
       "array([    512,    1024,    2048,    4096,    8192,   16384,   32768,\n",
       "         65536,  131072,  262144,  524288, 1048576])"
      ]
     },
     "execution_count": 153,
     "metadata": {},
     "output_type": "execute_result"
    }
   ],
   "source": [
    "times_tune[5:-2]"
   ]
  },
  {
   "cell_type": "code",
   "execution_count": null,
   "metadata": {},
   "outputs": [],
   "source": []
  }
 ],
 "metadata": {
  "interpreter": {
   "hash": "f3023bf899be63b57b0092dfcb418df687710750732f0ded6fe0bfa97468ce8c"
  },
  "kernelspec": {
   "display_name": "Python 3.9.7 ('base')",
   "language": "python",
   "name": "python3"
  },
  "language_info": {
   "codemirror_mode": {
    "name": "ipython",
    "version": 3
   },
   "file_extension": ".py",
   "mimetype": "text/x-python",
   "name": "python",
   "nbconvert_exporter": "python",
   "pygments_lexer": "ipython3",
   "version": "3.9.7"
  },
  "orig_nbformat": 4
 },
 "nbformat": 4,
 "nbformat_minor": 2
}
