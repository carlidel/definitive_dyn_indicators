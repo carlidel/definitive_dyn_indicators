{
 "cells": [
  {
   "cell_type": "code",
   "execution_count": 1,
   "metadata": {},
   "outputs": [],
   "source": [
    "import numpy as np\n",
    "import matplotlib.pyplot as plt\n",
    "import h5py\n",
    "import os\n",
    "import time\n",
    "import datetime\n",
    "import copy\n",
    "\n",
    "import xobjects as xo\n",
    "\n",
    "from config import lhc_configs, particle_config_low, particle_config_mid, particle_config_high, run_config_quickest, run_config_quickest_no_chk, run_config_test, run_config_test_no_chk, run_config_dyn_indicator, run_config_ground_truth\n",
    "\n",
    "import definitive_dyn_indicators.utils.xtrack_engine as xe"
   ]
  },
  {
   "cell_type": "code",
   "execution_count": 2,
   "metadata": {},
   "outputs": [],
   "source": [
    "context = xo.ContextCupy()\n",
    "\n",
    "particle_config = particle_config_low[0]\n",
    "particle_config.samples = 100\n",
    "lhc_config = lhc_configs[0]\n",
    "\n",
    "run_config = run_config_test\n",
    "run_config_nochk = run_config_test_no_chk\n"
   ]
  },
  {
   "cell_type": "code",
   "execution_count": 3,
   "metadata": {},
   "outputs": [],
   "source": [
    "coso = xe.RunConfig(\n",
    "    times = np.arange(100, 100100, 100),\n",
    "    t_norm = 100,\n",
    "    displacement_module = 1e-12,\n",
    "    t_checkpoints = 100\n",
    ")"
   ]
  },
  {
   "cell_type": "code",
   "execution_count": 4,
   "metadata": {},
   "outputs": [],
   "source": [
    "intial_conditions = particle_config.get_initial_conditions()\n",
    "displacement = particle_config.get_initial_conditions_with_displacement(\n",
    "    run_config.displacement_module, \"random\")\n",
    "displacement_x = particle_config.get_initial_conditions_with_displacement(\n",
    "    run_config.displacement_module, \"x\")\n",
    "displacement_px = particle_config.get_initial_conditions_with_displacement(\n",
    "    run_config.displacement_module, \"px\")\n",
    "displacement_y = particle_config.get_initial_conditions_with_displacement(\n",
    "    run_config.displacement_module, \"y\")\n",
    "displacement_py = particle_config.get_initial_conditions_with_displacement(\n",
    "    run_config.displacement_module, \"py\")\n",
    "displacement_zeta = particle_config.get_initial_conditions_with_displacement(\n",
    "    run_config.displacement_module, \"z\")\n",
    "displacement_delta = particle_config.get_initial_conditions_with_displacement(\n",
    "    run_config.displacement_module, \"delta\")\n"
   ]
  },
  {
   "cell_type": "code",
   "execution_count": 5,
   "metadata": {},
   "outputs": [],
   "source": [
    "particles = intial_conditions.create_particles(context=context)\n",
    "particles_d = displacement.create_particles(context=context)"
   ]
  },
  {
   "cell_type": "code",
   "execution_count": 6,
   "metadata": {},
   "outputs": [],
   "source": [
    "chk = xe.Checkpoint(\n",
    "    particles_config=particle_config,\n",
    "    lhc_config=lhc_config,\n",
    "    run_config=run_config,\n",
    "\n",
    "    particles_list = [\n",
    "        particles.to_dict(),\n",
    "        particles_d.to_dict(),\n",
    "    ]\n",
    ")\n",
    "\n",
    "chk_nochk = xe.Checkpoint(\n",
    "    particles_config=particle_config,\n",
    "    lhc_config=lhc_config,\n",
    "    run_config=run_config_nochk,\n",
    "\n",
    "    particles_list = [\n",
    "        particles.to_dict(),\n",
    "        particles_d.to_dict(),\n",
    "    ]\n",
    ")"
   ]
  },
  {
   "cell_type": "code",
   "execution_count": 8,
   "metadata": {},
   "outputs": [],
   "source": [
    "output = \"lyapunov.hdf5\"\n",
    "output_nochk = \"lyapunov_nochk.hdf5\""
   ]
  },
  {
   "cell_type": "code",
   "execution_count": 9,
   "metadata": {},
   "outputs": [],
   "source": [
    "# if output exists, remove it\n",
    "if os.path.exists(output):\n",
    "    os.remove(output)\n",
    "\n",
    "if os.path.exists(output_nochk):\n",
    "    os.remove(output_nochk)"
   ]
  },
  {
   "cell_type": "code",
   "execution_count": 10,
   "metadata": {},
   "outputs": [
    {
     "name": "stdout",
     "output_type": "stream",
     "text": [
      "generating ./0e9053c409e248639e39f02e5bf01782.c\n",
      "the current directory is '/home/camontan/Insync/carlo.montanari3@studio.unibo.it/OneDrive_Biz/projects/definitive_dyn_indicators/jobs/IPAC_LHC'\n",
      "running build_ext\n",
      "building '0e9053c409e248639e39f02e5bf01782' extension\n",
      "gcc -pthread -B /home/camontan/anaconda3/compiler_compat -Wl,--sysroot=/ -Wsign-compare -DNDEBUG -g -fwrapv -O3 -Wall -Wstrict-prototypes -fPIC -I/home/camontan/anaconda3/include/python3.8 -c 0e9053c409e248639e39f02e5bf01782.c -o ./0e9053c409e248639e39f02e5bf01782.o -std=c99 -O3 -Wno-unused-function -fopenmp\n",
      "gcc -pthread -shared -B /home/camontan/anaconda3/compiler_compat -L/home/camontan/anaconda3/lib -Wl,-rpath=/home/camontan/anaconda3/lib -Wl,--no-as-needed -Wl,--sysroot=/ ./0e9053c409e248639e39f02e5bf01782.o -o ./0e9053c409e248639e39f02e5bf01782.cpython-38-x86_64-linux-gnu.so -std=c99 -O3 -fopenmp\n"
     ]
    },
    {
     "name": "stderr",
     "output_type": "stream",
     "text": [
      "  0%|          | 0/4 [00:00<?, ?it/s]"
     ]
    },
    {
     "name": "stdout",
     "output_type": "stream",
     "text": [
      "Event sample, at time 10. Current time 0.\n"
     ]
    },
    {
     "name": "stderr",
     "output_type": "stream",
     "text": [
      " 50%|█████     | 2/4 [00:01<00:01,  1.91it/s]\n"
     ]
    },
    {
     "name": "stdout",
     "output_type": "stream",
     "text": [
      "Event normalize, at time 10. Current time 10.\n",
      "Event checkpoint, at time 10. Current time 10.\n",
      "generating ./379bbb355776491f84aa454a3fd8b6b8.c\n",
      "the current directory is '/home/camontan/Insync/carlo.montanari3@studio.unibo.it/OneDrive_Biz/projects/definitive_dyn_indicators/jobs/IPAC_LHC'\n",
      "running build_ext\n",
      "building '379bbb355776491f84aa454a3fd8b6b8' extension\n",
      "gcc -pthread -B /home/camontan/anaconda3/compiler_compat -Wl,--sysroot=/ -Wsign-compare -DNDEBUG -g -fwrapv -O3 -Wall -Wstrict-prototypes -fPIC -I/home/camontan/anaconda3/include/python3.8 -c 379bbb355776491f84aa454a3fd8b6b8.c -o ./379bbb355776491f84aa454a3fd8b6b8.o -std=c99 -O3 -Wno-unused-function -fopenmp\n",
      "gcc -pthread -shared -B /home/camontan/anaconda3/compiler_compat -L/home/camontan/anaconda3/lib -Wl,-rpath=/home/camontan/anaconda3/lib -Wl,--no-as-needed -Wl,--sysroot=/ ./379bbb355776491f84aa454a3fd8b6b8.o -o ./379bbb355776491f84aa454a3fd8b6b8.cpython-38-x86_64-linux-gnu.so -std=c99 -O3 -fopenmp\n"
     ]
    },
    {
     "name": "stderr",
     "output_type": "stream",
     "text": [
      "  0%|          | 0/4 [00:00<?, ?it/s]"
     ]
    },
    {
     "name": "stdout",
     "output_type": "stream",
     "text": [
      "Event sample, at time 10. Current time 10.\n",
      "Event normalize, at time 10. Current time 10.\n",
      "Event checkpoint, at time 10. Current time 10.\n",
      "Event sample, at time 20. Current time 10.\n"
     ]
    },
    {
     "name": "stderr",
     "output_type": "stream",
     "text": [
      "100%|██████████| 4/4 [00:00<00:00,  5.30it/s]\n"
     ]
    }
   ],
   "source": [
    "while not chk.completed:\n",
    "    chk = xe.track_lyapunov(chk, output, context)"
   ]
  },
  {
   "cell_type": "code",
   "execution_count": 11,
   "metadata": {},
   "outputs": [
    {
     "name": "stdout",
     "output_type": "stream",
     "text": [
      "generating ./61a83a8ce4bf43a2ae40388543f11019.c\n",
      "the current directory is '/home/camontan/Insync/carlo.montanari3@studio.unibo.it/OneDrive_Biz/projects/definitive_dyn_indicators/jobs/IPAC_LHC'\n",
      "running build_ext\n",
      "building '61a83a8ce4bf43a2ae40388543f11019' extension\n",
      "gcc -pthread -B /home/camontan/anaconda3/compiler_compat -Wl,--sysroot=/ -Wsign-compare -DNDEBUG -g -fwrapv -O3 -Wall -Wstrict-prototypes -fPIC -I/home/camontan/anaconda3/include/python3.8 -c 61a83a8ce4bf43a2ae40388543f11019.c -o ./61a83a8ce4bf43a2ae40388543f11019.o -std=c99 -O3 -Wno-unused-function -fopenmp\n",
      "gcc -pthread -shared -B /home/camontan/anaconda3/compiler_compat -L/home/camontan/anaconda3/lib -Wl,-rpath=/home/camontan/anaconda3/lib -Wl,--no-as-needed -Wl,--sysroot=/ ./61a83a8ce4bf43a2ae40388543f11019.o -o ./61a83a8ce4bf43a2ae40388543f11019.cpython-38-x86_64-linux-gnu.so -std=c99 -O3 -fopenmp\n"
     ]
    },
    {
     "name": "stderr",
     "output_type": "stream",
     "text": [
      "  0%|          | 0/3 [00:00<?, ?it/s]"
     ]
    },
    {
     "name": "stdout",
     "output_type": "stream",
     "text": [
      "Event sample, at time 10. Current time 0.\n"
     ]
    },
    {
     "name": "stderr",
     "output_type": "stream",
     "text": [
      " 33%|███▎      | 1/3 [00:00<00:01,  1.05it/s]"
     ]
    },
    {
     "name": "stdout",
     "output_type": "stream",
     "text": [
      "Event normalize, at time 10. Current time 10.\n",
      "Event sample, at time 20. Current time 10.\n"
     ]
    },
    {
     "name": "stderr",
     "output_type": "stream",
     "text": [
      "100%|██████████| 3/3 [00:01<00:00,  1.75it/s]\n"
     ]
    }
   ],
   "source": [
    "while not chk_nochk.completed:\n",
    "    chk_nochk = xe.track_lyapunov(chk_nochk, output_nochk, context)"
   ]
  },
  {
   "cell_type": "code",
   "execution_count": 12,
   "metadata": {},
   "outputs": [],
   "source": [
    "with h5py.File(output, \"r\") as file:\n",
    "    d0 = file[f\"lyapunov/{20}\"][:]\n",
    "\n",
    "with h5py.File(output_nochk, \"r\") as file:\n",
    "    d1 = file[f\"lyapunov/{20}\"][:]"
   ]
  },
  {
   "cell_type": "code",
   "execution_count": 13,
   "metadata": {},
   "outputs": [
    {
     "data": {
      "text/plain": [
       "array([0.39760364, 0.41865896, 0.39973638, 0.43656767, 0.42991236,\n",
       "       0.51205706,        nan,        nan,        nan,        nan,\n",
       "       0.36760754, 0.4369447 , 0.40519935, 0.24827689, 0.41612878,\n",
       "       0.49231386,        nan,        nan,        nan,        nan,\n",
       "       0.46352451, 0.45953884, 0.43197557, 0.48164212, 0.4976152 ,\n",
       "              nan,        nan,        nan,        nan,        nan,\n",
       "       0.41307261, 0.4809441 , 0.45907684, 0.44806348, 0.24427514,\n",
       "              nan,        nan,        nan,        nan,        nan,\n",
       "              nan,        nan,        nan,        nan,        nan,\n",
       "              nan,        nan,        nan,        nan,        nan,\n",
       "              nan,        nan,        nan,        nan,        nan,\n",
       "              nan,        nan,        nan,        nan,        nan,\n",
       "              nan,        nan,        nan,        nan,        nan,\n",
       "              nan,        nan,        nan,        nan,        nan,\n",
       "              nan,        nan,        nan,        nan,        nan,\n",
       "              nan,        nan,        nan,        nan,        nan,\n",
       "              nan,        nan,        nan,        nan,        nan,\n",
       "              nan,        nan,        nan,        nan,        nan,\n",
       "              nan,        nan,        nan,        nan,        nan,\n",
       "              nan,        nan,        nan,        nan,        nan])"
      ]
     },
     "execution_count": 13,
     "metadata": {},
     "output_type": "execute_result"
    }
   ],
   "source": [
    "d0"
   ]
  },
  {
   "cell_type": "code",
   "execution_count": 14,
   "metadata": {},
   "outputs": [
    {
     "data": {
      "text/plain": [
       "array([0.39760364, 0.41865896, 0.39973638, 0.43656767, 0.42991236,\n",
       "       0.51205706,        nan,        nan,        nan,        nan,\n",
       "       0.36760754, 0.4369447 , 0.40519935, 0.24827689, 0.41612878,\n",
       "       0.49231386,        nan,        nan,        nan,        nan,\n",
       "       0.46352451, 0.45953884, 0.43197557, 0.48164212, 0.4976152 ,\n",
       "              nan,        nan,        nan,        nan,        nan,\n",
       "       0.41307261, 0.4809441 , 0.45907684, 0.44806348, 0.24427514,\n",
       "              nan,        nan,        nan,        nan,        nan,\n",
       "              nan,        nan,        nan,        nan,        nan,\n",
       "              nan,        nan,        nan,        nan,        nan,\n",
       "              nan,        nan,        nan,        nan,        nan,\n",
       "              nan,        nan,        nan,        nan,        nan,\n",
       "              nan,        nan,        nan,        nan,        nan,\n",
       "              nan,        nan,        nan,        nan,        nan,\n",
       "              nan,        nan,        nan,        nan,        nan,\n",
       "              nan,        nan,        nan,        nan,        nan,\n",
       "              nan,        nan,        nan,        nan,        nan,\n",
       "              nan,        nan,        nan,        nan,        nan,\n",
       "              nan,        nan,        nan,        nan,        nan,\n",
       "              nan,        nan,        nan,        nan,        nan])"
      ]
     },
     "execution_count": 14,
     "metadata": {},
     "output_type": "execute_result"
    }
   ],
   "source": [
    "d1"
   ]
  },
  {
   "cell_type": "code",
   "execution_count": 15,
   "metadata": {},
   "outputs": [],
   "source": [
    "particles = intial_conditions.create_particles(context=context)\n",
    "particles_x = displacement_x.create_particles(context=context)\n",
    "particles_px = displacement_px.create_particles(context=context)\n",
    "particles_y = displacement_y.create_particles(context=context)\n",
    "particles_py = displacement_py.create_particles(context=context)\n",
    "particles_z = displacement_zeta.create_particles(context=context)\n",
    "particles_d = displacement_delta.create_particles(context=context)\n"
   ]
  },
  {
   "cell_type": "code",
   "execution_count": 16,
   "metadata": {},
   "outputs": [],
   "source": [
    "chk = xe.Checkpoint(\n",
    "    particles_config=particle_config,\n",
    "    lhc_config=lhc_config,\n",
    "    run_config=run_config,\n",
    "\n",
    "    particles_list = [\n",
    "        particles.to_dict(),\n",
    "        particles_x.to_dict(),\n",
    "        particles_px.to_dict(),\n",
    "        particles_y.to_dict(),\n",
    "        particles_py.to_dict(),\n",
    "        particles_z.to_dict(),\n",
    "        particles_d.to_dict()\n",
    "    ]\n",
    ")\n",
    "\n",
    "chk_nochk = xe.Checkpoint(\n",
    "    particles_config=particle_config,\n",
    "    lhc_config=lhc_config,\n",
    "    run_config=run_config_nochk,\n",
    "\n",
    "    particles_list=[\n",
    "        particles.to_dict(),\n",
    "        particles_x.to_dict(),\n",
    "        particles_px.to_dict(),\n",
    "        particles_y.to_dict(),\n",
    "        particles_py.to_dict(),\n",
    "        particles_z.to_dict(),\n",
    "        particles_d.to_dict()\n",
    "    ]\n",
    ")\n"
   ]
  },
  {
   "cell_type": "code",
   "execution_count": 17,
   "metadata": {},
   "outputs": [],
   "source": [
    "output = \"ofli_lyapunov.hdf5\"\n",
    "output_nochk = \"ofli_lyapunov_nochk.hdf5\""
   ]
  },
  {
   "cell_type": "code",
   "execution_count": 18,
   "metadata": {},
   "outputs": [],
   "source": [
    "# if output exists, remove it\n",
    "if os.path.exists(output):\n",
    "    os.remove(output)\n",
    "\n",
    "if os.path.exists(output_nochk):\n",
    "    os.remove(output_nochk)"
   ]
  },
  {
   "cell_type": "code",
   "execution_count": 19,
   "metadata": {},
   "outputs": [
    {
     "name": "stdout",
     "output_type": "stream",
     "text": [
      "generating ./4a45c536c2554469b46ad76e7668a802.c\n",
      "the current directory is '/home/camontan/Insync/carlo.montanari3@studio.unibo.it/OneDrive_Biz/projects/definitive_dyn_indicators/jobs/IPAC_LHC'\n",
      "running build_ext\n",
      "building '4a45c536c2554469b46ad76e7668a802' extension\n",
      "gcc -pthread -B /home/camontan/anaconda3/compiler_compat -Wl,--sysroot=/ -Wsign-compare -DNDEBUG -g -fwrapv -O3 -Wall -Wstrict-prototypes -fPIC -I/home/camontan/anaconda3/include/python3.8 -c 4a45c536c2554469b46ad76e7668a802.c -o ./4a45c536c2554469b46ad76e7668a802.o -std=c99 -O3 -Wno-unused-function -fopenmp\n",
      "gcc -pthread -shared -B /home/camontan/anaconda3/compiler_compat -L/home/camontan/anaconda3/lib -Wl,-rpath=/home/camontan/anaconda3/lib -Wl,--no-as-needed -Wl,--sysroot=/ ./4a45c536c2554469b46ad76e7668a802.o -o ./4a45c536c2554469b46ad76e7668a802.cpython-38-x86_64-linux-gnu.so -std=c99 -O3 -fopenmp\n"
     ]
    },
    {
     "name": "stderr",
     "output_type": "stream",
     "text": [
      " 50%|█████     | 2/4 [00:02<00:02,  1.45s/it]\n"
     ]
    },
    {
     "name": "stdout",
     "output_type": "stream",
     "text": [
      "generating ./d7711d08b45449eea7a3896e9cd738ae.c\n",
      "the current directory is '/home/camontan/Insync/carlo.montanari3@studio.unibo.it/OneDrive_Biz/projects/definitive_dyn_indicators/jobs/IPAC_LHC'\n",
      "running build_ext\n",
      "building 'd7711d08b45449eea7a3896e9cd738ae' extension\n",
      "gcc -pthread -B /home/camontan/anaconda3/compiler_compat -Wl,--sysroot=/ -Wsign-compare -DNDEBUG -g -fwrapv -O3 -Wall -Wstrict-prototypes -fPIC -I/home/camontan/anaconda3/include/python3.8 -c d7711d08b45449eea7a3896e9cd738ae.c -o ./d7711d08b45449eea7a3896e9cd738ae.o -std=c99 -O3 -Wno-unused-function -fopenmp\n",
      "gcc -pthread -shared -B /home/camontan/anaconda3/compiler_compat -L/home/camontan/anaconda3/lib -Wl,-rpath=/home/camontan/anaconda3/lib -Wl,--no-as-needed -Wl,--sysroot=/ ./d7711d08b45449eea7a3896e9cd738ae.o -o ./d7711d08b45449eea7a3896e9cd738ae.cpython-38-x86_64-linux-gnu.so -std=c99 -O3 -fopenmp\n"
     ]
    },
    {
     "name": "stderr",
     "output_type": "stream",
     "text": [
      "100%|██████████| 4/4 [00:02<00:00,  1.66it/s]\n"
     ]
    }
   ],
   "source": [
    "while not chk.completed:\n",
    "    chk = xe.track_ortho_lyapunov(chk, output, context)"
   ]
  },
  {
   "cell_type": "code",
   "execution_count": 20,
   "metadata": {},
   "outputs": [
    {
     "name": "stdout",
     "output_type": "stream",
     "text": [
      "generating ./f4a6258dc5274748abb283bc8e086beb.c\n",
      "the current directory is '/home/camontan/Insync/carlo.montanari3@studio.unibo.it/OneDrive_Biz/projects/definitive_dyn_indicators/jobs/IPAC_LHC'\n",
      "running build_ext\n",
      "building 'f4a6258dc5274748abb283bc8e086beb' extension\n",
      "gcc -pthread -B /home/camontan/anaconda3/compiler_compat -Wl,--sysroot=/ -Wsign-compare -DNDEBUG -g -fwrapv -O3 -Wall -Wstrict-prototypes -fPIC -I/home/camontan/anaconda3/include/python3.8 -c f4a6258dc5274748abb283bc8e086beb.c -o ./f4a6258dc5274748abb283bc8e086beb.o -std=c99 -O3 -Wno-unused-function -fopenmp\n",
      "gcc -pthread -shared -B /home/camontan/anaconda3/compiler_compat -L/home/camontan/anaconda3/lib -Wl,-rpath=/home/camontan/anaconda3/lib -Wl,--no-as-needed -Wl,--sysroot=/ ./f4a6258dc5274748abb283bc8e086beb.o -o ./f4a6258dc5274748abb283bc8e086beb.cpython-38-x86_64-linux-gnu.so -std=c99 -O3 -fopenmp\n"
     ]
    },
    {
     "name": "stderr",
     "output_type": "stream",
     "text": [
      "100%|██████████| 3/3 [00:05<00:00,  1.67s/it]\n"
     ]
    }
   ],
   "source": [
    "while not chk_nochk.completed:\n",
    "    chk_nochk = xe.track_ortho_lyapunov(chk_nochk, output_nochk, context)\n"
   ]
  },
  {
   "cell_type": "code",
   "execution_count": 21,
   "metadata": {},
   "outputs": [],
   "source": [
    "with h5py.File(output, \"r\") as file:\n",
    "    d0 = file[f\"lyapunov/{20}\"][:]\n",
    "\n",
    "with h5py.File(output_nochk, \"r\") as file:\n",
    "    d1 = file[f\"lyapunov/{20}\"][:]\n"
   ]
  },
  {
   "cell_type": "code",
   "execution_count": 22,
   "metadata": {},
   "outputs": [
    {
     "data": {
      "text/plain": [
       "array([[ 0.12657575,  0.08668738,  0.08534254,  0.06865556, -0.0047325 ,\n",
       "         0.39892632,         nan,         nan,         nan,         nan,\n",
       "         0.08561305,  0.0866918 ,  0.08714773,  0.11941399,  0.07558157,\n",
       "         0.23224121,         nan,         nan,         nan,         nan,\n",
       "         0.08480291,  0.21299905,  0.08478922,  0.09261236,  0.13590643,\n",
       "                nan,         nan,         nan,         nan,         nan,\n",
       "         0.16132914,  0.08008226,  0.07731466,  0.12920488,  0.20854882,\n",
       "                nan,         nan,         nan,         nan,         nan,\n",
       "         0.12792045,  0.12297476,  0.04546679,  0.0622045 ,  0.30090453,\n",
       "                nan,         nan,         nan,         nan,         nan,\n",
       "         0.07881321,  0.08541754,  0.04506236,  0.02365202,  0.21653126,\n",
       "                nan,         nan,         nan,         nan,         nan,\n",
       "         0.24374883,  0.34166668,  0.25724447,  0.52310204,         nan,\n",
       "                nan,         nan,         nan,         nan,         nan,\n",
       "                nan,         nan,         nan,         nan,         nan,\n",
       "                nan,         nan,         nan,         nan,         nan,\n",
       "                nan,         nan,         nan,         nan,         nan,\n",
       "                nan,         nan,         nan,         nan,         nan,\n",
       "                nan,         nan,         nan,         nan,         nan,\n",
       "                nan,         nan,         nan,         nan,         nan],\n",
       "       [ 0.45286424,  0.44917451,  0.4421809 ,  0.41750057,  0.42171635,\n",
       "         0.78498048,         nan,         nan,         nan,         nan,\n",
       "         0.45313917,  0.44945841,  0.44387469,  0.42898984,  0.36875974,\n",
       "         0.61737297,         nan,         nan,         nan,         nan,\n",
       "         0.4553597 ,  0.44937485,  0.44218977,  0.44458285,  0.50072145,\n",
       "                nan,         nan,         nan,         nan,         nan,\n",
       "         0.45571545,  0.44557505,  0.43027375,  0.43182561,  0.50585728,\n",
       "                nan,         nan,         nan,         nan,         nan,\n",
       "         0.45055075,  0.43685473,  0.38728355,  0.43724463,  0.65402326,\n",
       "                nan,         nan,         nan,         nan,         nan,\n",
       "         0.44952411,  0.46432696,  0.4507963 ,  0.4125198 ,  0.57730653,\n",
       "                nan,         nan,         nan,         nan,         nan,\n",
       "         0.56849106,  0.74123904,  0.62693665,  0.83039137,         nan,\n",
       "                nan,         nan,         nan,         nan,         nan,\n",
       "                nan,         nan,         nan,         nan,         nan,\n",
       "                nan,         nan,         nan,         nan,         nan,\n",
       "                nan,         nan,         nan,         nan,         nan,\n",
       "                nan,         nan,         nan,         nan,         nan,\n",
       "                nan,         nan,         nan,         nan,         nan,\n",
       "                nan,         nan,         nan,         nan,         nan],\n",
       "       [ 0.12802525,  0.08993237,  0.09908428,  0.10975248,  0.10211058,\n",
       "         0.21438357,         nan,         nan,         nan,         nan,\n",
       "         0.08899132,  0.09441832,  0.10335615,  0.14997005,  0.13272745,\n",
       "         0.21461417,         nan,         nan,         nan,         nan,\n",
       "         0.09600386,  0.10169862,  0.11045476,  0.1266806 ,  0.18489567,\n",
       "                nan,         nan,         nan,         nan,         nan,\n",
       "         0.18477838,  0.10686689,  0.11201739,  0.13498674,  0.05359363,\n",
       "                nan,         nan,         nan,         nan,         nan,\n",
       "         0.17547887,  0.12007964,  0.09447173,  0.24941715,  0.25993348,\n",
       "                nan,         nan,         nan,         nan,         nan,\n",
       "         0.11493771,  0.23623915,  0.11279324,  0.27126328,  0.29596478,\n",
       "                nan,         nan,         nan,         nan,         nan,\n",
       "         0.32598164,  0.42735701,  0.28852536,  0.55383968,         nan,\n",
       "                nan,         nan,         nan,         nan,         nan,\n",
       "                nan,         nan,         nan,         nan,         nan,\n",
       "                nan,         nan,         nan,         nan,         nan,\n",
       "                nan,         nan,         nan,         nan,         nan,\n",
       "                nan,         nan,         nan,         nan,         nan,\n",
       "                nan,         nan,         nan,         nan,         nan,\n",
       "                nan,         nan,         nan,         nan,         nan],\n",
       "       [ 0.50994298,  0.51262711,  0.5186867 ,  0.52734471,  0.50969116,\n",
       "         0.63323517,         nan,         nan,         nan,         nan,\n",
       "         0.51672148,  0.51767039,  0.5240452 ,  0.53678211,  0.550171  ,\n",
       "         0.64698175,         nan,         nan,         nan,         nan,\n",
       "         0.52607677,  0.52885898,  0.53409966,  0.54987511,  0.60984967,\n",
       "                nan,         nan,         nan,         nan,         nan,\n",
       "         0.5358173 ,  0.53859666,  0.54008677,  0.53982051,  0.50245489,\n",
       "                nan,         nan,         nan,         nan,         nan,\n",
       "         0.52891643,  0.53290623,  0.53367449,  0.52450887,  0.61677275,\n",
       "                nan,         nan,         nan,         nan,         nan,\n",
       "         0.52929438,  0.52387408,  0.50426528,  0.52492855,  0.73258584,\n",
       "                nan,         nan,         nan,         nan,         nan,\n",
       "         0.74456671,  0.84552261,  0.72895603,  0.97952633,         nan,\n",
       "                nan,         nan,         nan,         nan,         nan,\n",
       "                nan,         nan,         nan,         nan,         nan,\n",
       "                nan,         nan,         nan,         nan,         nan,\n",
       "                nan,         nan,         nan,         nan,         nan,\n",
       "                nan,         nan,         nan,         nan,         nan,\n",
       "                nan,         nan,         nan,         nan,         nan,\n",
       "                nan,         nan,         nan,         nan,         nan],\n",
       "       [ 0.23882882,  0.08385769,  0.2935573 ,  0.04708469,  0.08919464,\n",
       "         0.12595609,         nan,         nan,         nan,         nan,\n",
       "         0.33068033,  0.0200754 ,  0.09037257,  0.12442424,  0.08615433,\n",
       "         0.30730283,         nan,         nan,         nan,         nan,\n",
       "         0.30636958,  0.23064895,  0.16780573,  0.22331277,  0.22508178,\n",
       "                nan,         nan,         nan,         nan,         nan,\n",
       "         0.26712149,  0.23729894,  0.25580384,  0.11737018,  0.19029074,\n",
       "                nan,         nan,         nan,         nan,         nan,\n",
       "         0.27328713,  0.27299126,  0.29744269,  0.07984004,  0.31190742,\n",
       "                nan,         nan,         nan,         nan,         nan,\n",
       "         0.25624576,  0.25374362,  0.22695553,  0.31025735,  0.1570021 ,\n",
       "                nan,         nan,         nan,         nan,         nan,\n",
       "         0.23389009,  0.20190734,  0.26034413,  0.07782864,         nan,\n",
       "                nan,         nan,         nan,         nan,         nan,\n",
       "                nan,         nan,         nan,         nan,         nan,\n",
       "                nan,         nan,         nan,         nan,         nan,\n",
       "                nan,         nan,         nan,         nan,         nan,\n",
       "                nan,         nan,         nan,         nan,         nan,\n",
       "                nan,         nan,         nan,         nan,         nan,\n",
       "                nan,         nan,         nan,         nan,         nan],\n",
       "       [ 0.48934261,  0.48803605,  0.4830803 ,  0.47084632,  0.48952001,\n",
       "         0.48181195,         nan,         nan,         nan,         nan,\n",
       "         0.49268897,  0.4882452 ,  0.48678132,  0.49780523,  0.48468431,\n",
       "         0.48385816,         nan,         nan,         nan,         nan,\n",
       "         0.49400313,  0.48632661,  0.48153973,  0.47741552,  0.49680084,\n",
       "                nan,         nan,         nan,         nan,         nan,\n",
       "         0.48136449,  0.48802193,  0.48158496,  0.49106774,  0.48151593,\n",
       "                nan,         nan,         nan,         nan,         nan,\n",
       "                nan,         nan,         nan,         nan,         nan,\n",
       "                nan,         nan,         nan,         nan,         nan,\n",
       "                nan,         nan,         nan,         nan,         nan,\n",
       "                nan,         nan,         nan,         nan,         nan,\n",
       "                nan,         nan,         nan,         nan,         nan,\n",
       "                nan,         nan,         nan,         nan,         nan,\n",
       "                nan,         nan,         nan,         nan,         nan,\n",
       "                nan,         nan,         nan,         nan,         nan,\n",
       "                nan,         nan,         nan,         nan,         nan,\n",
       "                nan,         nan,         nan,         nan,         nan,\n",
       "                nan,         nan,         nan,         nan,         nan,\n",
       "                nan,         nan,         nan,         nan,         nan]])"
      ]
     },
     "execution_count": 22,
     "metadata": {},
     "output_type": "execute_result"
    }
   ],
   "source": [
    "d0"
   ]
  },
  {
   "cell_type": "code",
   "execution_count": 23,
   "metadata": {},
   "outputs": [
    {
     "data": {
      "text/plain": [
       "array([[ 0.12657575,  0.08668738,  0.08534254,  0.06865556, -0.0047325 ,\n",
       "         0.39892632,         nan,         nan,         nan,         nan,\n",
       "         0.08561305,  0.0866918 ,  0.08714773,  0.11941399,  0.07558157,\n",
       "         0.23224121,         nan,         nan,         nan,         nan,\n",
       "         0.08480291,  0.21299905,  0.08478922,  0.09261236,  0.13590643,\n",
       "                nan,         nan,         nan,         nan,         nan,\n",
       "         0.16132914,  0.08008226,  0.07731466,  0.12920488,  0.20854882,\n",
       "                nan,         nan,         nan,         nan,         nan,\n",
       "         0.12792045,  0.12297476,  0.04546679,  0.0622045 ,  0.30090453,\n",
       "                nan,         nan,         nan,         nan,         nan,\n",
       "         0.07881321,  0.08541754,  0.04506236,  0.02365202,  0.21653126,\n",
       "                nan,         nan,         nan,         nan,         nan,\n",
       "         0.24374883,  0.34166668,  0.25724447,  0.52310204,         nan,\n",
       "                nan,         nan,         nan,         nan,         nan,\n",
       "                nan,         nan,         nan,         nan,         nan,\n",
       "                nan,         nan,         nan,         nan,         nan,\n",
       "                nan,         nan,         nan,         nan,         nan,\n",
       "                nan,         nan,         nan,         nan,         nan,\n",
       "                nan,         nan,         nan,         nan,         nan,\n",
       "                nan,         nan,         nan,         nan,         nan],\n",
       "       [ 0.45286424,  0.44917451,  0.4421809 ,  0.41750057,  0.42171635,\n",
       "         0.78498048,         nan,         nan,         nan,         nan,\n",
       "         0.45313917,  0.44945841,  0.44387469,  0.42898984,  0.36875974,\n",
       "         0.61737297,         nan,         nan,         nan,         nan,\n",
       "         0.4553597 ,  0.44937485,  0.44218977,  0.44458285,  0.50072145,\n",
       "                nan,         nan,         nan,         nan,         nan,\n",
       "         0.45571545,  0.44557505,  0.43027375,  0.43182561,  0.50585728,\n",
       "                nan,         nan,         nan,         nan,         nan,\n",
       "         0.45055075,  0.43685473,  0.38728355,  0.43724463,  0.65402326,\n",
       "                nan,         nan,         nan,         nan,         nan,\n",
       "         0.44952411,  0.46432696,  0.4507963 ,  0.4125198 ,  0.57730653,\n",
       "                nan,         nan,         nan,         nan,         nan,\n",
       "         0.56849106,  0.74123904,  0.62693665,  0.83039137,         nan,\n",
       "                nan,         nan,         nan,         nan,         nan,\n",
       "                nan,         nan,         nan,         nan,         nan,\n",
       "                nan,         nan,         nan,         nan,         nan,\n",
       "                nan,         nan,         nan,         nan,         nan,\n",
       "                nan,         nan,         nan,         nan,         nan,\n",
       "                nan,         nan,         nan,         nan,         nan,\n",
       "                nan,         nan,         nan,         nan,         nan],\n",
       "       [ 0.12802525,  0.08993237,  0.09908428,  0.10975248,  0.10211058,\n",
       "         0.21438357,         nan,         nan,         nan,         nan,\n",
       "         0.08899132,  0.09441832,  0.10335615,  0.14997005,  0.13272745,\n",
       "         0.21461417,         nan,         nan,         nan,         nan,\n",
       "         0.09600386,  0.10169862,  0.11045476,  0.1266806 ,  0.18489567,\n",
       "                nan,         nan,         nan,         nan,         nan,\n",
       "         0.18477838,  0.10686689,  0.11201739,  0.13498674,  0.05359363,\n",
       "                nan,         nan,         nan,         nan,         nan,\n",
       "         0.17547887,  0.12007964,  0.09447173,  0.24941715,  0.25993348,\n",
       "                nan,         nan,         nan,         nan,         nan,\n",
       "         0.11493771,  0.23623915,  0.11279324,  0.27126328,  0.29596478,\n",
       "                nan,         nan,         nan,         nan,         nan,\n",
       "         0.32598164,  0.42735701,  0.28852536,  0.55383968,         nan,\n",
       "                nan,         nan,         nan,         nan,         nan,\n",
       "                nan,         nan,         nan,         nan,         nan,\n",
       "                nan,         nan,         nan,         nan,         nan,\n",
       "                nan,         nan,         nan,         nan,         nan,\n",
       "                nan,         nan,         nan,         nan,         nan,\n",
       "                nan,         nan,         nan,         nan,         nan,\n",
       "                nan,         nan,         nan,         nan,         nan],\n",
       "       [ 0.50994298,  0.51262711,  0.5186867 ,  0.52734471,  0.50969116,\n",
       "         0.63323517,         nan,         nan,         nan,         nan,\n",
       "         0.51672148,  0.51767039,  0.5240452 ,  0.53678211,  0.550171  ,\n",
       "         0.64698175,         nan,         nan,         nan,         nan,\n",
       "         0.52607677,  0.52885898,  0.53409966,  0.54987511,  0.60984967,\n",
       "                nan,         nan,         nan,         nan,         nan,\n",
       "         0.5358173 ,  0.53859666,  0.54008677,  0.53982051,  0.50245489,\n",
       "                nan,         nan,         nan,         nan,         nan,\n",
       "         0.52891643,  0.53290623,  0.53367449,  0.52450887,  0.61677275,\n",
       "                nan,         nan,         nan,         nan,         nan,\n",
       "         0.52929438,  0.52387408,  0.50426528,  0.52492855,  0.73258584,\n",
       "                nan,         nan,         nan,         nan,         nan,\n",
       "         0.74456671,  0.84552261,  0.72895603,  0.97952633,         nan,\n",
       "                nan,         nan,         nan,         nan,         nan,\n",
       "                nan,         nan,         nan,         nan,         nan,\n",
       "                nan,         nan,         nan,         nan,         nan,\n",
       "                nan,         nan,         nan,         nan,         nan,\n",
       "                nan,         nan,         nan,         nan,         nan,\n",
       "                nan,         nan,         nan,         nan,         nan,\n",
       "                nan,         nan,         nan,         nan,         nan],\n",
       "       [ 0.23882882,  0.08385769,  0.2935573 ,  0.04708469,  0.08919464,\n",
       "         0.12595609,         nan,         nan,         nan,         nan,\n",
       "         0.33068033,  0.0200754 ,  0.09037257,  0.12442424,  0.08615433,\n",
       "         0.30730283,         nan,         nan,         nan,         nan,\n",
       "         0.30636958,  0.23064895,  0.16780573,  0.22331277,  0.22508178,\n",
       "                nan,         nan,         nan,         nan,         nan,\n",
       "         0.26712149,  0.23729894,  0.25580384,  0.11737018,  0.19029074,\n",
       "                nan,         nan,         nan,         nan,         nan,\n",
       "         0.27328713,  0.27299126,  0.29744269,  0.07984004,  0.31190742,\n",
       "                nan,         nan,         nan,         nan,         nan,\n",
       "         0.25624576,  0.25374362,  0.22695553,  0.31025735,  0.1570021 ,\n",
       "                nan,         nan,         nan,         nan,         nan,\n",
       "         0.23389009,  0.20190734,  0.26034413,  0.07782864,         nan,\n",
       "                nan,         nan,         nan,         nan,         nan,\n",
       "                nan,         nan,         nan,         nan,         nan,\n",
       "                nan,         nan,         nan,         nan,         nan,\n",
       "                nan,         nan,         nan,         nan,         nan,\n",
       "                nan,         nan,         nan,         nan,         nan,\n",
       "                nan,         nan,         nan,         nan,         nan,\n",
       "                nan,         nan,         nan,         nan,         nan],\n",
       "       [ 0.48934261,  0.48803605,  0.4830803 ,  0.47084632,  0.48952001,\n",
       "         0.48181195,         nan,         nan,         nan,         nan,\n",
       "         0.49268897,  0.4882452 ,  0.48678132,  0.49780523,  0.48468431,\n",
       "         0.48385816,         nan,         nan,         nan,         nan,\n",
       "         0.49400313,  0.48632661,  0.48153973,  0.47741552,  0.49680084,\n",
       "                nan,         nan,         nan,         nan,         nan,\n",
       "         0.48136449,  0.48802193,  0.48158496,  0.49106774,  0.48151593,\n",
       "                nan,         nan,         nan,         nan,         nan,\n",
       "                nan,         nan,         nan,         nan,         nan,\n",
       "                nan,         nan,         nan,         nan,         nan,\n",
       "                nan,         nan,         nan,         nan,         nan,\n",
       "                nan,         nan,         nan,         nan,         nan,\n",
       "                nan,         nan,         nan,         nan,         nan,\n",
       "                nan,         nan,         nan,         nan,         nan,\n",
       "                nan,         nan,         nan,         nan,         nan,\n",
       "                nan,         nan,         nan,         nan,         nan,\n",
       "                nan,         nan,         nan,         nan,         nan,\n",
       "                nan,         nan,         nan,         nan,         nan,\n",
       "                nan,         nan,         nan,         nan,         nan,\n",
       "                nan,         nan,         nan,         nan,         nan]])"
      ]
     },
     "execution_count": 23,
     "metadata": {},
     "output_type": "execute_result"
    }
   ],
   "source": [
    "d1"
   ]
  },
  {
   "cell_type": "code",
   "execution_count": 24,
   "metadata": {},
   "outputs": [],
   "source": [
    "particles = intial_conditions.create_particles(context=context)\n"
   ]
  },
  {
   "cell_type": "code",
   "execution_count": 25,
   "metadata": {},
   "outputs": [],
   "source": [
    "chk = xe.Checkpoint(\n",
    "    particles_config=particle_config,\n",
    "    lhc_config=lhc_config,\n",
    "    run_config=run_config,\n",
    "\n",
    "    particles_list = [\n",
    "        particles.to_dict()\n",
    "    ]\n",
    ")\n",
    "\n",
    "chk_nochk = xe.Checkpoint(\n",
    "    particles_config=particle_config,\n",
    "    lhc_config=lhc_config,\n",
    "    run_config=run_config_nochk,\n",
    "\n",
    "    particles_list=[\n",
    "        particles.to_dict()\n",
    "    ]\n",
    ")\n"
   ]
  },
  {
   "cell_type": "code",
   "execution_count": 26,
   "metadata": {},
   "outputs": [],
   "source": [
    "output = \"rem.hdf5\"\n",
    "output_nochk = \"rem_nochk.hdf5\""
   ]
  },
  {
   "cell_type": "code",
   "execution_count": 27,
   "metadata": {},
   "outputs": [],
   "source": [
    "# if output exists, remove it\n",
    "if os.path.exists(output):\n",
    "    os.remove(output)\n",
    "\n",
    "if os.path.exists(output_nochk):\n",
    "    os.remove(output_nochk)"
   ]
  },
  {
   "cell_type": "code",
   "execution_count": 28,
   "metadata": {},
   "outputs": [
    {
     "name": "stdout",
     "output_type": "stream",
     "text": [
      "generating ./16f47b9cf3b840ae8bc50eeeb4a8d6ec.c\n",
      "the current directory is '/home/camontan/Insync/carlo.montanari3@studio.unibo.it/OneDrive_Biz/projects/definitive_dyn_indicators/jobs/IPAC_LHC'\n",
      "running build_ext\n",
      "building '16f47b9cf3b840ae8bc50eeeb4a8d6ec' extension\n",
      "gcc -pthread -B /home/camontan/anaconda3/compiler_compat -Wl,--sysroot=/ -Wsign-compare -DNDEBUG -g -fwrapv -O3 -Wall -Wstrict-prototypes -fPIC -I/home/camontan/anaconda3/include/python3.8 -c 16f47b9cf3b840ae8bc50eeeb4a8d6ec.c -o ./16f47b9cf3b840ae8bc50eeeb4a8d6ec.o -std=c99 -O3 -Wno-unused-function -fopenmp\n",
      "gcc -pthread -shared -B /home/camontan/anaconda3/compiler_compat -L/home/camontan/anaconda3/lib -Wl,-rpath=/home/camontan/anaconda3/lib -Wl,--no-as-needed -Wl,--sysroot=/ ./16f47b9cf3b840ae8bc50eeeb4a8d6ec.o -o ./16f47b9cf3b840ae8bc50eeeb4a8d6ec.cpython-38-x86_64-linux-gnu.so -std=c99 -O3 -fopenmp\n"
     ]
    },
    {
     "name": "stderr",
     "output_type": "stream",
     "text": [
      " 33%|███▎      | 1/3 [00:00<00:01,  1.35it/s]\n"
     ]
    },
    {
     "name": "stdout",
     "output_type": "stream",
     "text": [
      "generating ./34908fe6e6bc4d20913ce4eb8d067c96.c\n",
      "the current directory is '/home/camontan/Insync/carlo.montanari3@studio.unibo.it/OneDrive_Biz/projects/definitive_dyn_indicators/jobs/IPAC_LHC'\n",
      "running build_ext\n",
      "building '34908fe6e6bc4d20913ce4eb8d067c96' extension\n",
      "gcc -pthread -B /home/camontan/anaconda3/compiler_compat -Wl,--sysroot=/ -Wsign-compare -DNDEBUG -g -fwrapv -O3 -Wall -Wstrict-prototypes -fPIC -I/home/camontan/anaconda3/include/python3.8 -c 34908fe6e6bc4d20913ce4eb8d067c96.c -o ./34908fe6e6bc4d20913ce4eb8d067c96.o -std=c99 -O3 -Wno-unused-function -fopenmp\n",
      "gcc -pthread -shared -B /home/camontan/anaconda3/compiler_compat -L/home/camontan/anaconda3/lib -Wl,-rpath=/home/camontan/anaconda3/lib -Wl,--no-as-needed -Wl,--sysroot=/ ./34908fe6e6bc4d20913ce4eb8d067c96.o -o ./34908fe6e6bc4d20913ce4eb8d067c96.cpython-38-x86_64-linux-gnu.so -std=c99 -O3 -fopenmp\n"
     ]
    },
    {
     "name": "stderr",
     "output_type": "stream",
     "text": [
      "100%|██████████| 3/3 [00:01<00:00,  2.84it/s]\n"
     ]
    }
   ],
   "source": [
    "while not chk.completed:\n",
    "    chk = xe.track_reverse(chk, output, context)"
   ]
  },
  {
   "cell_type": "code",
   "execution_count": 29,
   "metadata": {},
   "outputs": [
    {
     "name": "stdout",
     "output_type": "stream",
     "text": [
      "generating ./be9ddd3490e04ea8ae8f65f351817f02.c\n",
      "the current directory is '/home/camontan/Insync/carlo.montanari3@studio.unibo.it/OneDrive_Biz/projects/definitive_dyn_indicators/jobs/IPAC_LHC'\n",
      "running build_ext\n",
      "building 'be9ddd3490e04ea8ae8f65f351817f02' extension\n",
      "gcc -pthread -B /home/camontan/anaconda3/compiler_compat -Wl,--sysroot=/ -Wsign-compare -DNDEBUG -g -fwrapv -O3 -Wall -Wstrict-prototypes -fPIC -I/home/camontan/anaconda3/include/python3.8 -c be9ddd3490e04ea8ae8f65f351817f02.c -o ./be9ddd3490e04ea8ae8f65f351817f02.o -std=c99 -O3 -Wno-unused-function -fopenmp\n",
      "gcc -pthread -shared -B /home/camontan/anaconda3/compiler_compat -L/home/camontan/anaconda3/lib -Wl,-rpath=/home/camontan/anaconda3/lib -Wl,--no-as-needed -Wl,--sysroot=/ ./be9ddd3490e04ea8ae8f65f351817f02.o -o ./be9ddd3490e04ea8ae8f65f351817f02.cpython-38-x86_64-linux-gnu.so -std=c99 -O3 -fopenmp\n"
     ]
    },
    {
     "name": "stderr",
     "output_type": "stream",
     "text": [
      "100%|██████████| 2/2 [00:01<00:00,  1.11it/s]\n"
     ]
    }
   ],
   "source": [
    "while not chk_nochk.completed:\n",
    "    chk_nochk = xe.track_reverse(chk_nochk, output_nochk, context)\n"
   ]
  },
  {
   "cell_type": "code",
   "execution_count": 30,
   "metadata": {},
   "outputs": [],
   "source": [
    "with h5py.File(output, \"r\") as file:\n",
    "    d0 = file[f\"reverse/{20}\"][:]\n",
    "\n",
    "with h5py.File(output_nochk, \"r\") as file:\n",
    "    d1 = file[f\"reverse/{20}\"][:]\n"
   ]
  },
  {
   "cell_type": "code",
   "execution_count": 31,
   "metadata": {},
   "outputs": [
    {
     "data": {
      "text/plain": [
       "array([4.23915857e-15, 3.16970112e-15, 4.01050542e-15, 2.03560210e-15,\n",
       "       2.21681822e-15, 9.02113025e-15,            nan,            nan,\n",
       "                  nan,            nan, 4.09946505e-15, 4.07936323e-15,\n",
       "       5.38914807e-15, 2.61656243e-15, 5.93631919e-15, 3.44922912e-15,\n",
       "                  nan,            nan,            nan,            nan,\n",
       "       3.23804170e-15, 1.14203091e-15, 8.11263951e-15, 4.78308818e-15,\n",
       "       6.77779858e-15,            nan,            nan,            nan,\n",
       "                  nan,            nan, 4.42550190e-15, 8.95034769e-15,\n",
       "       9.71309201e-15, 7.33069728e-15, 1.49131771e-14,            nan,\n",
       "                  nan,            nan,            nan,            nan,\n",
       "       7.97727719e-15, 6.07757689e-15, 7.41186363e-15, 2.14717231e-15,\n",
       "       2.46109480e-14,            nan,            nan,            nan,\n",
       "                  nan,            nan, 7.47367343e-15, 1.09541789e-14,\n",
       "       4.27417592e-15, 5.89385702e-12, 2.39884206e-14,            nan,\n",
       "                  nan,            nan,            nan,            nan,\n",
       "       8.10271430e-14, 4.09137900e-14, 6.35780022e-14, 2.84086804e-12,\n",
       "                  nan,            nan,            nan,            nan,\n",
       "                  nan,            nan,            nan,            nan,\n",
       "                  nan,            nan,            nan,            nan,\n",
       "                  nan,            nan,            nan,            nan,\n",
       "                  nan,            nan,            nan,            nan,\n",
       "                  nan,            nan,            nan,            nan,\n",
       "                  nan,            nan,            nan,            nan,\n",
       "                  nan,            nan,            nan,            nan,\n",
       "                  nan,            nan,            nan,            nan])"
      ]
     },
     "execution_count": 31,
     "metadata": {},
     "output_type": "execute_result"
    }
   ],
   "source": [
    "d0"
   ]
  },
  {
   "cell_type": "code",
   "execution_count": 32,
   "metadata": {},
   "outputs": [
    {
     "data": {
      "text/plain": [
       "array([4.23915857e-15, 3.16970112e-15, 4.01050542e-15, 2.03560210e-15,\n",
       "       2.21681822e-15, 9.02113025e-15,            nan,            nan,\n",
       "                  nan,            nan, 4.09946505e-15, 4.07936323e-15,\n",
       "       5.38914807e-15, 2.61656243e-15, 5.93631919e-15, 3.44922912e-15,\n",
       "                  nan,            nan,            nan,            nan,\n",
       "       3.23804170e-15, 1.14203091e-15, 8.11263951e-15, 4.78308818e-15,\n",
       "       6.77779858e-15,            nan,            nan,            nan,\n",
       "                  nan,            nan, 4.42550190e-15, 8.95034769e-15,\n",
       "       9.71309201e-15, 7.33069728e-15, 1.49131771e-14,            nan,\n",
       "                  nan,            nan,            nan,            nan,\n",
       "       7.97727719e-15, 6.07757689e-15, 7.41186363e-15, 2.14717231e-15,\n",
       "       2.46109480e-14,            nan,            nan,            nan,\n",
       "                  nan,            nan, 7.47367343e-15, 1.09541789e-14,\n",
       "       4.27417592e-15, 5.89385702e-12, 2.39884206e-14,            nan,\n",
       "                  nan,            nan,            nan,            nan,\n",
       "       8.10271430e-14, 4.09137900e-14, 6.35780022e-14, 2.84086804e-12,\n",
       "                  nan,            nan,            nan,            nan,\n",
       "                  nan,            nan,            nan,            nan,\n",
       "                  nan,            nan,            nan,            nan,\n",
       "                  nan,            nan,            nan,            nan,\n",
       "                  nan,            nan,            nan,            nan,\n",
       "                  nan,            nan,            nan,            nan,\n",
       "                  nan,            nan,            nan,            nan,\n",
       "                  nan,            nan,            nan,            nan,\n",
       "                  nan,            nan,            nan,            nan])"
      ]
     },
     "execution_count": 32,
     "metadata": {},
     "output_type": "execute_result"
    }
   ],
   "source": [
    "d1"
   ]
  },
  {
   "cell_type": "code",
   "execution_count": 33,
   "metadata": {},
   "outputs": [],
   "source": [
    "particles = intial_conditions.create_particles(context=context)\n",
    "particles_x = displacement_x.create_particles(context=context)\n",
    "particles_y = displacement_y.create_particles(context=context)\n"
   ]
  },
  {
   "cell_type": "code",
   "execution_count": 34,
   "metadata": {},
   "outputs": [],
   "source": [
    "chk = xe.Checkpoint(\n",
    "    particles_config=particle_config,\n",
    "    lhc_config=lhc_config,\n",
    "    run_config=run_config,\n",
    "\n",
    "    particles_list = [\n",
    "        particles.to_dict(),\n",
    "        particles_x.to_dict(),\n",
    "        particles_y.to_dict(),\n",
    "    ]\n",
    ")\n",
    "\n",
    "chk_nochk = xe.Checkpoint(\n",
    "    particles_config=particle_config,\n",
    "    lhc_config=lhc_config,\n",
    "    run_config=run_config_nochk,\n",
    "\n",
    "    particles_list=[\n",
    "        particles.to_dict(),\n",
    "        particles_x.to_dict(),\n",
    "        particles_y.to_dict(),\n",
    "    ]\n",
    ")\n"
   ]
  },
  {
   "cell_type": "code",
   "execution_count": 35,
   "metadata": {},
   "outputs": [],
   "source": [
    "output = \"sali.hdf5\"\n",
    "output_nochk = \"sali_nochk.hdf5\""
   ]
  },
  {
   "cell_type": "code",
   "execution_count": 36,
   "metadata": {},
   "outputs": [],
   "source": [
    "# if output exists, remove it\n",
    "if os.path.exists(output):\n",
    "    os.remove(output)\n",
    "\n",
    "if os.path.exists(output_nochk):\n",
    "    os.remove(output_nochk)"
   ]
  },
  {
   "cell_type": "code",
   "execution_count": 37,
   "metadata": {},
   "outputs": [
    {
     "name": "stdout",
     "output_type": "stream",
     "text": [
      "generating ./4a2c8ceec6664e7ebef5dd75813e20c2.c\n",
      "the current directory is '/home/camontan/Insync/carlo.montanari3@studio.unibo.it/OneDrive_Biz/projects/definitive_dyn_indicators/jobs/IPAC_LHC'\n",
      "running build_ext\n",
      "building '4a2c8ceec6664e7ebef5dd75813e20c2' extension\n",
      "gcc -pthread -B /home/camontan/anaconda3/compiler_compat -Wl,--sysroot=/ -Wsign-compare -DNDEBUG -g -fwrapv -O3 -Wall -Wstrict-prototypes -fPIC -I/home/camontan/anaconda3/include/python3.8 -c 4a2c8ceec6664e7ebef5dd75813e20c2.c -o ./4a2c8ceec6664e7ebef5dd75813e20c2.o -std=c99 -O3 -Wno-unused-function -fopenmp\n",
      "gcc -pthread -shared -B /home/camontan/anaconda3/compiler_compat -L/home/camontan/anaconda3/lib -Wl,-rpath=/home/camontan/anaconda3/lib -Wl,--no-as-needed -Wl,--sysroot=/ ./4a2c8ceec6664e7ebef5dd75813e20c2.o -o ./4a2c8ceec6664e7ebef5dd75813e20c2.cpython-38-x86_64-linux-gnu.so -std=c99 -O3 -fopenmp\n"
     ]
    },
    {
     "name": "stderr",
     "output_type": "stream",
     "text": [
      " 50%|█████     | 2/4 [00:01<00:01,  1.57it/s]\n"
     ]
    },
    {
     "name": "stdout",
     "output_type": "stream",
     "text": [
      "generating ./55853c42acc04bd0b5ca79de4b630b11.c\n",
      "the current directory is '/home/camontan/Insync/carlo.montanari3@studio.unibo.it/OneDrive_Biz/projects/definitive_dyn_indicators/jobs/IPAC_LHC'\n",
      "running build_ext\n",
      "building '55853c42acc04bd0b5ca79de4b630b11' extension\n",
      "gcc -pthread -B /home/camontan/anaconda3/compiler_compat -Wl,--sysroot=/ -Wsign-compare -DNDEBUG -g -fwrapv -O3 -Wall -Wstrict-prototypes -fPIC -I/home/camontan/anaconda3/include/python3.8 -c 55853c42acc04bd0b5ca79de4b630b11.c -o ./55853c42acc04bd0b5ca79de4b630b11.o -std=c99 -O3 -Wno-unused-function -fopenmp\n",
      "gcc -pthread -shared -B /home/camontan/anaconda3/compiler_compat -L/home/camontan/anaconda3/lib -Wl,-rpath=/home/camontan/anaconda3/lib -Wl,--no-as-needed -Wl,--sysroot=/ ./55853c42acc04bd0b5ca79de4b630b11.o -o ./55853c42acc04bd0b5ca79de4b630b11.cpython-38-x86_64-linux-gnu.so -std=c99 -O3 -fopenmp\n"
     ]
    },
    {
     "name": "stderr",
     "output_type": "stream",
     "text": [
      "100%|██████████| 4/4 [00:01<00:00,  3.96it/s]\n"
     ]
    }
   ],
   "source": [
    "while not chk.completed:\n",
    "    chk = xe.track_sali(chk, output, context)"
   ]
  },
  {
   "cell_type": "code",
   "execution_count": 38,
   "metadata": {},
   "outputs": [
    {
     "name": "stdout",
     "output_type": "stream",
     "text": [
      "generating ./1c375aab9ebc4c2f8600143bc751c32c.c\n",
      "the current directory is '/home/camontan/Insync/carlo.montanari3@studio.unibo.it/OneDrive_Biz/projects/definitive_dyn_indicators/jobs/IPAC_LHC'\n",
      "running build_ext\n",
      "building '1c375aab9ebc4c2f8600143bc751c32c' extension\n",
      "gcc -pthread -B /home/camontan/anaconda3/compiler_compat -Wl,--sysroot=/ -Wsign-compare -DNDEBUG -g -fwrapv -O3 -Wall -Wstrict-prototypes -fPIC -I/home/camontan/anaconda3/include/python3.8 -c 1c375aab9ebc4c2f8600143bc751c32c.c -o ./1c375aab9ebc4c2f8600143bc751c32c.o -std=c99 -O3 -Wno-unused-function -fopenmp\n",
      "gcc -pthread -shared -B /home/camontan/anaconda3/compiler_compat -L/home/camontan/anaconda3/lib -Wl,-rpath=/home/camontan/anaconda3/lib -Wl,--no-as-needed -Wl,--sysroot=/ ./1c375aab9ebc4c2f8600143bc751c32c.o -o ./1c375aab9ebc4c2f8600143bc751c32c.cpython-38-x86_64-linux-gnu.so -std=c99 -O3 -fopenmp\n"
     ]
    },
    {
     "name": "stderr",
     "output_type": "stream",
     "text": [
      "100%|██████████| 3/3 [00:02<00:00,  1.39it/s]\n"
     ]
    }
   ],
   "source": [
    "while not chk_nochk.completed:\n",
    "    chk_nochk = xe.track_sali(chk_nochk, output_nochk, context)\n"
   ]
  },
  {
   "cell_type": "code",
   "execution_count": 39,
   "metadata": {},
   "outputs": [],
   "source": [
    "with h5py.File(output, \"r\") as file:\n",
    "    d0 = file[f\"sali/{20}\"][:]\n",
    "\n",
    "with h5py.File(output_nochk, \"r\") as file:\n",
    "    d1 = file[f\"sali/{20}\"][:]\n"
   ]
  },
  {
   "cell_type": "code",
   "execution_count": 40,
   "metadata": {},
   "outputs": [
    {
     "data": {
      "text/plain": [
       "array([0.29331355, 1.39718972, 1.40380148, 1.37555624, 1.32158718,\n",
       "       0.19277663,        nan,        nan,        nan,        nan,\n",
       "       1.40049046, 1.36775998, 1.35014068, 0.32068767, 1.08633083,\n",
       "       1.24557504,        nan,        nan,        nan,        nan,\n",
       "       1.40638219, 1.39281484, 1.2518883 , 1.15638448, 1.2159181 ,\n",
       "              nan,        nan,        nan,        nan,        nan,\n",
       "       0.1344216 , 1.29362541, 1.00230807, 0.24154999, 1.207007  ,\n",
       "              nan,        nan,        nan,        nan,        nan,\n",
       "              nan,        nan,        nan,        nan,        nan,\n",
       "              nan,        nan,        nan,        nan,        nan,\n",
       "              nan,        nan,        nan,        nan,        nan,\n",
       "              nan,        nan,        nan,        nan,        nan,\n",
       "              nan,        nan,        nan,        nan,        nan,\n",
       "              nan,        nan,        nan,        nan,        nan,\n",
       "              nan,        nan,        nan,        nan,        nan,\n",
       "              nan,        nan,        nan,        nan,        nan,\n",
       "              nan,        nan,        nan,        nan,        nan,\n",
       "              nan,        nan,        nan,        nan,        nan,\n",
       "              nan,        nan,        nan,        nan,        nan,\n",
       "              nan,        nan,        nan,        nan,        nan])"
      ]
     },
     "execution_count": 40,
     "metadata": {},
     "output_type": "execute_result"
    }
   ],
   "source": [
    "d0"
   ]
  },
  {
   "cell_type": "code",
   "execution_count": 41,
   "metadata": {},
   "outputs": [
    {
     "data": {
      "text/plain": [
       "array([0.29331355, 1.39718972, 1.40380148, 1.37555624, 1.32158718,\n",
       "       0.19277663,        nan,        nan,        nan,        nan,\n",
       "       1.40049046, 1.36775998, 1.35014068, 0.32068767, 1.08633083,\n",
       "       1.24557504,        nan,        nan,        nan,        nan,\n",
       "       1.40638219, 1.39281484, 1.2518883 , 1.15638448, 1.2159181 ,\n",
       "              nan,        nan,        nan,        nan,        nan,\n",
       "       0.1344216 , 1.29362541, 1.00230807, 0.24154999, 1.207007  ,\n",
       "              nan,        nan,        nan,        nan,        nan,\n",
       "              nan,        nan,        nan,        nan,        nan,\n",
       "              nan,        nan,        nan,        nan,        nan,\n",
       "              nan,        nan,        nan,        nan,        nan,\n",
       "              nan,        nan,        nan,        nan,        nan,\n",
       "              nan,        nan,        nan,        nan,        nan,\n",
       "              nan,        nan,        nan,        nan,        nan,\n",
       "              nan,        nan,        nan,        nan,        nan,\n",
       "              nan,        nan,        nan,        nan,        nan,\n",
       "              nan,        nan,        nan,        nan,        nan,\n",
       "              nan,        nan,        nan,        nan,        nan,\n",
       "              nan,        nan,        nan,        nan,        nan,\n",
       "              nan,        nan,        nan,        nan,        nan])"
      ]
     },
     "execution_count": 41,
     "metadata": {},
     "output_type": "execute_result"
    }
   ],
   "source": [
    "d1"
   ]
  },
  {
   "cell_type": "code",
   "execution_count": 7,
   "metadata": {},
   "outputs": [],
   "source": [
    "particles = intial_conditions.create_particles(context=context)\n",
    "particles_x = displacement_x.create_particles(context=context)\n",
    "particles_px = displacement_px.create_particles(context=context)\n",
    "particles_y = displacement_y.create_particles(context=context)\n",
    "particles_py = displacement_py.create_particles(context=context)\n"
   ]
  },
  {
   "cell_type": "code",
   "execution_count": 8,
   "metadata": {},
   "outputs": [],
   "source": [
    "chk = xe.Checkpoint(\n",
    "    particles_config=particle_config,\n",
    "    lhc_config=lhc_config,\n",
    "    run_config=run_config,\n",
    "\n",
    "    particles_list = [\n",
    "        particles.to_dict(),\n",
    "        particles_x.to_dict(),\n",
    "        particles_px.to_dict(),\n",
    "        particles_y.to_dict(),\n",
    "        particles_py.to_dict(),\n",
    "    ]\n",
    ")\n",
    "\n",
    "chk_nochk = xe.Checkpoint(\n",
    "    particles_config=particle_config,\n",
    "    lhc_config=lhc_config,\n",
    "    run_config=run_config_nochk,\n",
    "\n",
    "    particles_list=[\n",
    "        particles.to_dict(),\n",
    "        particles_x.to_dict(),\n",
    "        particles_px.to_dict(),\n",
    "        particles_y.to_dict(),\n",
    "        particles_py.to_dict(),\n",
    "    ]\n",
    ")\n"
   ]
  },
  {
   "cell_type": "code",
   "execution_count": 9,
   "metadata": {},
   "outputs": [],
   "source": [
    "output = \"gali4.hdf5\"\n",
    "output_nochk = \"gali4_nochk.hdf5\""
   ]
  },
  {
   "cell_type": "code",
   "execution_count": 10,
   "metadata": {},
   "outputs": [],
   "source": [
    "# if output exists, remove it\n",
    "if os.path.exists(output):\n",
    "    os.remove(output)\n",
    "\n",
    "if os.path.exists(output_nochk):\n",
    "    os.remove(output_nochk)"
   ]
  },
  {
   "cell_type": "code",
   "execution_count": 11,
   "metadata": {},
   "outputs": [
    {
     "name": "stdout",
     "output_type": "stream",
     "text": [
      "generating ./699d77a5926b463f8b6b7b34f1410322.c\n",
      "the current directory is '/home/camontan/Insync/carlo.montanari3@studio.unibo.it/OneDrive_Biz/projects/definitive_dyn_indicators/jobs/IPAC_LHC'\n",
      "running build_ext\n",
      "building '699d77a5926b463f8b6b7b34f1410322' extension\n",
      "gcc -pthread -B /home/camontan/anaconda3/compiler_compat -Wl,--sysroot=/ -Wsign-compare -DNDEBUG -g -fwrapv -O3 -Wall -Wstrict-prototypes -fPIC -I/home/camontan/anaconda3/include/python3.8 -c 699d77a5926b463f8b6b7b34f1410322.c -o ./699d77a5926b463f8b6b7b34f1410322.o -std=c99 -O3 -Wno-unused-function -fopenmp\n",
      "gcc -pthread -shared -B /home/camontan/anaconda3/compiler_compat -L/home/camontan/anaconda3/lib -Wl,-rpath=/home/camontan/anaconda3/lib -Wl,--no-as-needed -Wl,--sysroot=/ ./699d77a5926b463f8b6b7b34f1410322.o -o ./699d77a5926b463f8b6b7b34f1410322.cpython-38-x86_64-linux-gnu.so -std=c99 -O3 -fopenmp\n"
     ]
    },
    {
     "name": "stderr",
     "output_type": "stream",
     "text": [
      " 50%|█████     | 2/4 [00:02<00:02,  1.05s/it]\n"
     ]
    },
    {
     "name": "stdout",
     "output_type": "stream",
     "text": [
      "generating ./612da4e4fd614f07b6c26f7eba0aea8c.c\n",
      "the current directory is '/home/camontan/Insync/carlo.montanari3@studio.unibo.it/OneDrive_Biz/projects/definitive_dyn_indicators/jobs/IPAC_LHC'\n",
      "running build_ext\n",
      "building '612da4e4fd614f07b6c26f7eba0aea8c' extension\n",
      "gcc -pthread -B /home/camontan/anaconda3/compiler_compat -Wl,--sysroot=/ -Wsign-compare -DNDEBUG -g -fwrapv -O3 -Wall -Wstrict-prototypes -fPIC -I/home/camontan/anaconda3/include/python3.8 -c 612da4e4fd614f07b6c26f7eba0aea8c.c -o ./612da4e4fd614f07b6c26f7eba0aea8c.o -std=c99 -O3 -Wno-unused-function -fopenmp\n",
      "gcc -pthread -shared -B /home/camontan/anaconda3/compiler_compat -L/home/camontan/anaconda3/lib -Wl,-rpath=/home/camontan/anaconda3/lib -Wl,--no-as-needed -Wl,--sysroot=/ ./612da4e4fd614f07b6c26f7eba0aea8c.o -o ./612da4e4fd614f07b6c26f7eba0aea8c.cpython-38-x86_64-linux-gnu.so -std=c99 -O3 -fopenmp\n"
     ]
    },
    {
     "name": "stderr",
     "output_type": "stream",
     "text": [
      "100%|██████████| 4/4 [00:01<00:00,  2.63it/s]\n"
     ]
    }
   ],
   "source": [
    "while not chk.completed:\n",
    "    chk = xe.track_gali_4(chk, output, context)"
   ]
  },
  {
   "cell_type": "code",
   "execution_count": 12,
   "metadata": {},
   "outputs": [
    {
     "name": "stdout",
     "output_type": "stream",
     "text": [
      "generating ./3f0c88732fa14a7896676206ae4aa950.c\n",
      "the current directory is '/home/camontan/Insync/carlo.montanari3@studio.unibo.it/OneDrive_Biz/projects/definitive_dyn_indicators/jobs/IPAC_LHC'\n",
      "running build_ext\n",
      "building '3f0c88732fa14a7896676206ae4aa950' extension\n",
      "gcc -pthread -B /home/camontan/anaconda3/compiler_compat -Wl,--sysroot=/ -Wsign-compare -DNDEBUG -g -fwrapv -O3 -Wall -Wstrict-prototypes -fPIC -I/home/camontan/anaconda3/include/python3.8 -c 3f0c88732fa14a7896676206ae4aa950.c -o ./3f0c88732fa14a7896676206ae4aa950.o -std=c99 -O3 -Wno-unused-function -fopenmp\n",
      "gcc -pthread -shared -B /home/camontan/anaconda3/compiler_compat -L/home/camontan/anaconda3/lib -Wl,-rpath=/home/camontan/anaconda3/lib -Wl,--no-as-needed -Wl,--sysroot=/ ./3f0c88732fa14a7896676206ae4aa950.o -o ./3f0c88732fa14a7896676206ae4aa950.cpython-38-x86_64-linux-gnu.so -std=c99 -O3 -fopenmp\n"
     ]
    },
    {
     "name": "stderr",
     "output_type": "stream",
     "text": [
      "100%|██████████| 3/3 [00:03<00:00,  1.19s/it]\n"
     ]
    }
   ],
   "source": [
    "while not chk_nochk.completed:\n",
    "    chk_nochk = xe.track_gali_4(chk_nochk, output_nochk, context)\n"
   ]
  },
  {
   "cell_type": "code",
   "execution_count": 13,
   "metadata": {},
   "outputs": [],
   "source": [
    "with h5py.File(output, \"r\") as file:\n",
    "    d0 = file[f\"gali/{20}\"][:]\n",
    "\n",
    "with h5py.File(output_nochk, \"r\") as file:\n",
    "    d1 = file[f\"gali/{20}\"][:]\n"
   ]
  },
  {
   "cell_type": "code",
   "execution_count": 14,
   "metadata": {},
   "outputs": [
    {
     "data": {
      "text/plain": [
       "array([3.84467742e-05, 4.98220692e-05, 3.83668646e-06, 4.24936131e-05,\n",
       "       1.54854373e-04, 8.53725122e-09,            nan,            nan,\n",
       "                  nan,            nan, 1.07866264e-06, 9.78126098e-04,\n",
       "       1.33304394e-05, 7.69254723e-05, 1.09798117e-03, 5.30519293e-06,\n",
       "                  nan,            nan,            nan,            nan,\n",
       "       1.06586447e-04, 2.05710361e-03, 6.77735262e-05, 8.08913084e-06,\n",
       "       6.78154423e-05,            nan,            nan,            nan,\n",
       "                  nan,            nan, 3.00482547e-05, 1.62623559e-04,\n",
       "       1.01736439e-03, 2.37339822e-05, 9.89648639e-07,            nan,\n",
       "                  nan,            nan,            nan,            nan,\n",
       "                  nan,            nan,            nan,            nan,\n",
       "                  nan,            nan,            nan,            nan,\n",
       "                  nan,            nan,            nan,            nan,\n",
       "                  nan,            nan,            nan,            nan,\n",
       "                  nan,            nan,            nan,            nan,\n",
       "                  nan,            nan,            nan,            nan,\n",
       "                  nan,            nan,            nan,            nan,\n",
       "                  nan,            nan,            nan,            nan,\n",
       "                  nan,            nan,            nan,            nan,\n",
       "                  nan,            nan,            nan,            nan,\n",
       "                  nan,            nan,            nan,            nan,\n",
       "                  nan,            nan,            nan,            nan,\n",
       "                  nan,            nan,            nan,            nan,\n",
       "                  nan,            nan,            nan,            nan,\n",
       "                  nan,            nan,            nan,            nan])"
      ]
     },
     "execution_count": 14,
     "metadata": {},
     "output_type": "execute_result"
    }
   ],
   "source": [
    "d0"
   ]
  },
  {
   "cell_type": "code",
   "execution_count": 15,
   "metadata": {},
   "outputs": [
    {
     "data": {
      "text/plain": [
       "array([3.84467742e-05, 4.98220692e-05, 3.83668646e-06, 4.24936131e-05,\n",
       "       1.54854373e-04, 8.53725122e-09,            nan,            nan,\n",
       "                  nan,            nan, 1.07866264e-06, 9.78126098e-04,\n",
       "       1.33304394e-05, 7.69254723e-05, 1.09798117e-03, 5.30519293e-06,\n",
       "                  nan,            nan,            nan,            nan,\n",
       "       1.06586447e-04, 2.05710361e-03, 6.77735262e-05, 8.08913084e-06,\n",
       "       6.78154423e-05,            nan,            nan,            nan,\n",
       "                  nan,            nan, 3.00482547e-05, 1.62623559e-04,\n",
       "       1.01736439e-03, 2.37339822e-05, 9.89648639e-07,            nan,\n",
       "                  nan,            nan,            nan,            nan,\n",
       "                  nan,            nan,            nan,            nan,\n",
       "                  nan,            nan,            nan,            nan,\n",
       "                  nan,            nan,            nan,            nan,\n",
       "                  nan,            nan,            nan,            nan,\n",
       "                  nan,            nan,            nan,            nan,\n",
       "                  nan,            nan,            nan,            nan,\n",
       "                  nan,            nan,            nan,            nan,\n",
       "                  nan,            nan,            nan,            nan,\n",
       "                  nan,            nan,            nan,            nan,\n",
       "                  nan,            nan,            nan,            nan,\n",
       "                  nan,            nan,            nan,            nan,\n",
       "                  nan,            nan,            nan,            nan,\n",
       "                  nan,            nan,            nan,            nan,\n",
       "                  nan,            nan,            nan,            nan,\n",
       "                  nan,            nan,            nan,            nan])"
      ]
     },
     "execution_count": 15,
     "metadata": {},
     "output_type": "execute_result"
    }
   ],
   "source": [
    "d1"
   ]
  },
  {
   "cell_type": "code",
   "execution_count": 16,
   "metadata": {},
   "outputs": [],
   "source": [
    "particles = intial_conditions.create_particles(context=context)\n",
    "particles_x = displacement_x.create_particles(context=context)\n",
    "particles_px = displacement_px.create_particles(context=context)\n",
    "particles_y = displacement_y.create_particles(context=context)\n",
    "particles_py = displacement_py.create_particles(context=context)\n",
    "particles_z = displacement_zeta.create_particles(context=context)\n",
    "particles_d = displacement_delta.create_particles(context=context)\n"
   ]
  },
  {
   "cell_type": "code",
   "execution_count": 17,
   "metadata": {},
   "outputs": [],
   "source": [
    "chk = xe.Checkpoint(\n",
    "    particles_config=particle_config,\n",
    "    lhc_config=lhc_config,\n",
    "    run_config=run_config,\n",
    "\n",
    "    particles_list = [\n",
    "        particles.to_dict(),\n",
    "        particles_x.to_dict(),\n",
    "        particles_px.to_dict(),\n",
    "        particles_y.to_dict(),\n",
    "        particles_py.to_dict(),\n",
    "        particles_z.to_dict(),\n",
    "        particles_d.to_dict()\n",
    "    ]\n",
    ")\n",
    "\n",
    "chk_nochk = xe.Checkpoint(\n",
    "    particles_config=particle_config,\n",
    "    lhc_config=lhc_config,\n",
    "    run_config=run_config_nochk,\n",
    "\n",
    "    particles_list=[\n",
    "        particles.to_dict(),\n",
    "        particles_x.to_dict(),\n",
    "        particles_px.to_dict(),\n",
    "        particles_y.to_dict(),\n",
    "        particles_py.to_dict(),\n",
    "        particles_z.to_dict(),\n",
    "        particles_d.to_dict()\n",
    "    ]\n",
    ")\n"
   ]
  },
  {
   "cell_type": "code",
   "execution_count": 18,
   "metadata": {},
   "outputs": [],
   "source": [
    "output = \"gali.hdf5\"\n",
    "output_nochk = \"gali_nochk.hdf5\""
   ]
  },
  {
   "cell_type": "code",
   "execution_count": 19,
   "metadata": {},
   "outputs": [],
   "source": [
    "# if output exists, remove it\n",
    "if os.path.exists(output):\n",
    "    os.remove(output)\n",
    "\n",
    "if os.path.exists(output_nochk):\n",
    "    os.remove(output_nochk)"
   ]
  },
  {
   "cell_type": "code",
   "execution_count": 20,
   "metadata": {},
   "outputs": [
    {
     "name": "stdout",
     "output_type": "stream",
     "text": [
      "generating ./2e20dd1026f249f29f1034f5709e3b80.c\n",
      "the current directory is '/home/camontan/Insync/carlo.montanari3@studio.unibo.it/OneDrive_Biz/projects/definitive_dyn_indicators/jobs/IPAC_LHC'\n",
      "running build_ext\n",
      "building '2e20dd1026f249f29f1034f5709e3b80' extension\n",
      "gcc -pthread -B /home/camontan/anaconda3/compiler_compat -Wl,--sysroot=/ -Wsign-compare -DNDEBUG -g -fwrapv -O3 -Wall -Wstrict-prototypes -fPIC -I/home/camontan/anaconda3/include/python3.8 -c 2e20dd1026f249f29f1034f5709e3b80.c -o ./2e20dd1026f249f29f1034f5709e3b80.o -std=c99 -O3 -Wno-unused-function -fopenmp\n",
      "gcc -pthread -shared -B /home/camontan/anaconda3/compiler_compat -L/home/camontan/anaconda3/lib -Wl,-rpath=/home/camontan/anaconda3/lib -Wl,--no-as-needed -Wl,--sysroot=/ ./2e20dd1026f249f29f1034f5709e3b80.o -o ./2e20dd1026f249f29f1034f5709e3b80.cpython-38-x86_64-linux-gnu.so -std=c99 -O3 -fopenmp\n"
     ]
    },
    {
     "name": "stderr",
     "output_type": "stream",
     "text": [
      " 50%|█████     | 2/4 [00:03<00:03,  1.58s/it]\n"
     ]
    },
    {
     "name": "stdout",
     "output_type": "stream",
     "text": [
      "generating ./5cc5adcf7244475a9c87a7c8c5c54969.c\n",
      "the current directory is '/home/camontan/Insync/carlo.montanari3@studio.unibo.it/OneDrive_Biz/projects/definitive_dyn_indicators/jobs/IPAC_LHC'\n",
      "running build_ext\n",
      "building '5cc5adcf7244475a9c87a7c8c5c54969' extension\n",
      "gcc -pthread -B /home/camontan/anaconda3/compiler_compat -Wl,--sysroot=/ -Wsign-compare -DNDEBUG -g -fwrapv -O3 -Wall -Wstrict-prototypes -fPIC -I/home/camontan/anaconda3/include/python3.8 -c 5cc5adcf7244475a9c87a7c8c5c54969.c -o ./5cc5adcf7244475a9c87a7c8c5c54969.o -std=c99 -O3 -Wno-unused-function -fopenmp\n",
      "gcc -pthread -shared -B /home/camontan/anaconda3/compiler_compat -L/home/camontan/anaconda3/lib -Wl,-rpath=/home/camontan/anaconda3/lib -Wl,--no-as-needed -Wl,--sysroot=/ ./5cc5adcf7244475a9c87a7c8c5c54969.o -o ./5cc5adcf7244475a9c87a7c8c5c54969.cpython-38-x86_64-linux-gnu.so -std=c99 -O3 -fopenmp\n"
     ]
    },
    {
     "name": "stderr",
     "output_type": "stream",
     "text": [
      "100%|██████████| 4/4 [00:02<00:00,  1.92it/s]\n"
     ]
    }
   ],
   "source": [
    "while not chk.completed:\n",
    "    chk = xe.track_gali_6(chk, output, context)"
   ]
  },
  {
   "cell_type": "code",
   "execution_count": 21,
   "metadata": {},
   "outputs": [
    {
     "name": "stdout",
     "output_type": "stream",
     "text": [
      "generating ./d489ec17c7fd45f6b7038d886b01d79c.c\n",
      "the current directory is '/home/camontan/Insync/carlo.montanari3@studio.unibo.it/OneDrive_Biz/projects/definitive_dyn_indicators/jobs/IPAC_LHC'\n",
      "running build_ext\n",
      "building 'd489ec17c7fd45f6b7038d886b01d79c' extension\n",
      "gcc -pthread -B /home/camontan/anaconda3/compiler_compat -Wl,--sysroot=/ -Wsign-compare -DNDEBUG -g -fwrapv -O3 -Wall -Wstrict-prototypes -fPIC -I/home/camontan/anaconda3/include/python3.8 -c d489ec17c7fd45f6b7038d886b01d79c.c -o ./d489ec17c7fd45f6b7038d886b01d79c.o -std=c99 -O3 -Wno-unused-function -fopenmp\n",
      "gcc -pthread -shared -B /home/camontan/anaconda3/compiler_compat -L/home/camontan/anaconda3/lib -Wl,-rpath=/home/camontan/anaconda3/lib -Wl,--no-as-needed -Wl,--sysroot=/ ./d489ec17c7fd45f6b7038d886b01d79c.o -o ./d489ec17c7fd45f6b7038d886b01d79c.cpython-38-x86_64-linux-gnu.so -std=c99 -O3 -fopenmp\n"
     ]
    },
    {
     "name": "stderr",
     "output_type": "stream",
     "text": [
      "100%|██████████| 3/3 [00:04<00:00,  1.59s/it]\n"
     ]
    }
   ],
   "source": [
    "while not chk_nochk.completed:\n",
    "    chk_nochk = xe.track_gali_6(chk_nochk, output_nochk, context)\n"
   ]
  },
  {
   "cell_type": "code",
   "execution_count": 25,
   "metadata": {},
   "outputs": [],
   "source": [
    "with h5py.File(output, \"r\") as file:\n",
    "    d0 = file[f\"gali/{20}\"][:]\n",
    "\n",
    "with h5py.File(output_nochk, \"r\") as file:\n",
    "    d1 = file[f\"gali/{10}\"][:]\n"
   ]
  },
  {
   "cell_type": "code",
   "execution_count": 26,
   "metadata": {},
   "outputs": [
    {
     "data": {
      "text/plain": [
       "array([1.25228798e-11, 1.02206861e-11, 1.97666354e-13, 6.97007690e-12,\n",
       "       3.82256152e-11, 2.04994244e-16,            nan,            nan,\n",
       "                  nan,            nan, 2.82774119e-14, 7.03939408e-10,\n",
       "       7.47239035e-12, 8.22095718e-12, 2.36845637e-10, 4.19628648e-14,\n",
       "                  nan,            nan,            nan,            nan,\n",
       "       1.04012995e-10, 3.57324291e-10, 5.87099808e-11, 1.89970446e-13,\n",
       "       6.26766103e-13,            nan,            nan,            nan,\n",
       "                  nan,            nan, 4.75426447e-12, 5.90821313e-09,\n",
       "       3.09775060e-10, 2.11096685e-12, 1.91486530e-12,            nan,\n",
       "                  nan,            nan,            nan,            nan,\n",
       "                  nan,            nan,            nan,            nan,\n",
       "                  nan,            nan,            nan,            nan,\n",
       "                  nan,            nan,            nan,            nan,\n",
       "                  nan,            nan,            nan,            nan,\n",
       "                  nan,            nan,            nan,            nan,\n",
       "                  nan,            nan,            nan,            nan,\n",
       "                  nan,            nan,            nan,            nan,\n",
       "                  nan,            nan,            nan,            nan,\n",
       "                  nan,            nan,            nan,            nan,\n",
       "                  nan,            nan,            nan,            nan,\n",
       "                  nan,            nan,            nan,            nan,\n",
       "                  nan,            nan,            nan,            nan,\n",
       "                  nan,            nan,            nan,            nan,\n",
       "                  nan,            nan,            nan,            nan,\n",
       "                  nan,            nan,            nan,            nan])"
      ]
     },
     "execution_count": 26,
     "metadata": {},
     "output_type": "execute_result"
    }
   ],
   "source": [
    "d0"
   ]
  },
  {
   "cell_type": "code",
   "execution_count": 27,
   "metadata": {},
   "outputs": [
    {
     "data": {
      "text/plain": [
       "array([1.45938661e-07, 1.38679437e-07, 1.54911878e-07, 2.44095672e-07,\n",
       "       3.17420934e-07, 1.72531201e-11,            nan,            nan,\n",
       "                  nan,            nan, 1.23945829e-07, 1.22661887e-07,\n",
       "       1.36925463e-07, 1.11717452e-07, 7.71432679e-07, 1.08859036e-09,\n",
       "                  nan,            nan,            nan,            nan,\n",
       "       1.20318622e-07, 4.16298108e-08, 1.40401102e-07, 1.03123043e-07,\n",
       "       6.75081579e-09,            nan,            nan,            nan,\n",
       "                  nan,            nan, 1.61228300e-07, 1.67215587e-07,\n",
       "       2.43146889e-07, 3.49030952e-07, 3.64963277e-08,            nan,\n",
       "                  nan,            nan,            nan,            nan,\n",
       "       3.58918933e-07, 4.41068461e-07, 1.67163335e-06, 9.31276135e-08,\n",
       "       1.96552111e-10,            nan,            nan,            nan,\n",
       "                  nan,            nan, 1.25303639e-07, 5.22906909e-08,\n",
       "       3.15310025e-07, 1.10463581e-08, 2.06515376e-09,            nan,\n",
       "                  nan,            nan,            nan,            nan,\n",
       "       3.44773958e-10, 1.92970194e-11, 5.10746711e-10, 1.95859079e-09,\n",
       "                  nan,            nan,            nan,            nan,\n",
       "                  nan,            nan,            nan,            nan,\n",
       "                  nan,            nan,            nan,            nan,\n",
       "                  nan,            nan,            nan,            nan,\n",
       "                  nan,            nan,            nan,            nan,\n",
       "                  nan,            nan,            nan,            nan,\n",
       "                  nan,            nan,            nan,            nan,\n",
       "                  nan,            nan,            nan,            nan,\n",
       "                  nan,            nan,            nan,            nan])"
      ]
     },
     "execution_count": 27,
     "metadata": {},
     "output_type": "execute_result"
    }
   ],
   "source": [
    "d1"
   ]
  },
  {
   "cell_type": "code",
   "execution_count": null,
   "metadata": {},
   "outputs": [],
   "source": []
  }
 ],
 "metadata": {
  "interpreter": {
   "hash": "871aeb43e99df445217f8150e40694afb64d0600c0573b6bac502dee120165de"
  },
  "kernelspec": {
   "display_name": "Python 3.8.12 ('base')",
   "language": "python",
   "name": "python3"
  },
  "language_info": {
   "codemirror_mode": {
    "name": "ipython",
    "version": 3
   },
   "file_extension": ".py",
   "mimetype": "text/x-python",
   "name": "python",
   "nbconvert_exporter": "python",
   "pygments_lexer": "ipython3",
   "version": "3.9.7"
  },
  "orig_nbformat": 4
 },
 "nbformat": 4,
 "nbformat_minor": 2
}
