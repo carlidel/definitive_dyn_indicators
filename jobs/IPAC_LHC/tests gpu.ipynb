{
 "cells": [
  {
   "cell_type": "code",
   "execution_count": 1,
   "metadata": {},
   "outputs": [
    {
     "ename": "ImportError",
     "evalue": "cannot import name 'run_config_test_no_chk_no_norm' from 'config' (/gpfs/gpfs/gpfs_maestro_home_new/hpc/camontan/definitive_dyn_indicators/jobs/IPAC_LHC/config.py)",
     "output_type": "error",
     "traceback": [
      "\u001b[0;31m---------------------------------------------------------------------------\u001b[0m",
      "\u001b[0;31mImportError\u001b[0m                               Traceback (most recent call last)",
      "\u001b[1;32m/home/HPC/camontan/definitive_dyn_indicators/jobs/IPAC_LHC/tests gpu.ipynb Cell 1'\u001b[0m in \u001b[0;36m<cell line: 11>\u001b[0;34m()\u001b[0m\n\u001b[1;32m      <a href='vscode-notebook-cell://ssh-remote%2Babp/home/HPC/camontan/definitive_dyn_indicators/jobs/IPAC_LHC/tests%20gpu.ipynb#ch0000000vscode-remote?line=6'>7</a>\u001b[0m \u001b[39mimport\u001b[39;00m \u001b[39mcopy\u001b[39;00m\n\u001b[1;32m      <a href='vscode-notebook-cell://ssh-remote%2Babp/home/HPC/camontan/definitive_dyn_indicators/jobs/IPAC_LHC/tests%20gpu.ipynb#ch0000000vscode-remote?line=8'>9</a>\u001b[0m \u001b[39mimport\u001b[39;00m \u001b[39mxobjects\u001b[39;00m \u001b[39mas\u001b[39;00m \u001b[39mxo\u001b[39;00m\n\u001b[0;32m---> <a href='vscode-notebook-cell://ssh-remote%2Babp/home/HPC/camontan/definitive_dyn_indicators/jobs/IPAC_LHC/tests%20gpu.ipynb#ch0000000vscode-remote?line=10'>11</a>\u001b[0m \u001b[39mfrom\u001b[39;00m \u001b[39mconfig\u001b[39;00m \u001b[39mimport\u001b[39;00m lhc_configs, particle_config_low, particle_config_mid, particle_config_high, run_config_quickest, run_config_quickest_no_chk, run_config_test, run_config_test_no_chk, run_config_test_no_norm, run_config_test_no_chk_no_norm, run_config_dyn_indicator, run_config_ground_truth\n\u001b[1;32m     <a href='vscode-notebook-cell://ssh-remote%2Babp/home/HPC/camontan/definitive_dyn_indicators/jobs/IPAC_LHC/tests%20gpu.ipynb#ch0000000vscode-remote?line=12'>13</a>\u001b[0m \u001b[39mimport\u001b[39;00m \u001b[39mdefinitive_dyn_indicators\u001b[39;00m\u001b[39m.\u001b[39;00m\u001b[39mutils\u001b[39;00m\u001b[39m.\u001b[39;00m\u001b[39mxtrack_engine\u001b[39;00m \u001b[39mas\u001b[39;00m \u001b[39mxe\u001b[39;00m\n",
      "\u001b[0;31mImportError\u001b[0m: cannot import name 'run_config_test_no_chk_no_norm' from 'config' (/gpfs/gpfs/gpfs_maestro_home_new/hpc/camontan/definitive_dyn_indicators/jobs/IPAC_LHC/config.py)"
     ]
    }
   ],
   "source": [
    "import numpy as np\n",
    "import matplotlib.pyplot as plt\n",
    "import h5py\n",
    "import os\n",
    "import time\n",
    "import datetime\n",
    "import copy\n",
    "\n",
    "import xobjects as xo\n",
    "\n",
    "from config import lhc_configs, particle_config_low, particle_config_mid, particle_config_high, run_config_quickest, run_config_quickest_no_chk, run_config_test, run_config_test_no_chk, run_config_test_no_norm, run_config_test_no_chk_no_norm, run_config_dyn_indicator, run_config_ground_truth\n",
    "\n",
    "import definitive_dyn_indicators.utils.xtrack_engine as xe"
   ]
  },
  {
   "cell_type": "code",
   "execution_count": null,
   "metadata": {},
   "outputs": [
    {
     "ename": "NameError",
     "evalue": "name 'run_config_test_no_norm' is not defined",
     "output_type": "error",
     "traceback": [
      "\u001b[0;31m---------------------------------------------------------------------------\u001b[0m",
      "\u001b[0;31mNameError\u001b[0m                                 Traceback (most recent call last)",
      "\u001b[1;32m/home/HPC/camontan/definitive_dyn_indicators/jobs/IPAC_LHC/tests gpu.ipynb Cell 2'\u001b[0m in \u001b[0;36m<cell line: 9>\u001b[0;34m()\u001b[0m\n\u001b[1;32m      <a href='vscode-notebook-cell://ssh-remote%2Babp/home/HPC/camontan/definitive_dyn_indicators/jobs/IPAC_LHC/tests%20gpu.ipynb#ch0000001vscode-remote?line=6'>7</a>\u001b[0m run_config \u001b[39m=\u001b[39m run_config_test\n\u001b[1;32m      <a href='vscode-notebook-cell://ssh-remote%2Babp/home/HPC/camontan/definitive_dyn_indicators/jobs/IPAC_LHC/tests%20gpu.ipynb#ch0000001vscode-remote?line=7'>8</a>\u001b[0m run_config_nochk \u001b[39m=\u001b[39m run_config_test_no_chk\n\u001b[0;32m----> <a href='vscode-notebook-cell://ssh-remote%2Babp/home/HPC/camontan/definitive_dyn_indicators/jobs/IPAC_LHC/tests%20gpu.ipynb#ch0000001vscode-remote?line=8'>9</a>\u001b[0m run_config_nonorm \u001b[39m=\u001b[39m run_config_test_no_norm\n\u001b[1;32m     <a href='vscode-notebook-cell://ssh-remote%2Babp/home/HPC/camontan/definitive_dyn_indicators/jobs/IPAC_LHC/tests%20gpu.ipynb#ch0000001vscode-remote?line=9'>10</a>\u001b[0m run_config_nono \u001b[39m=\u001b[39m run_config_test_no_chk_no_norm\n",
      "\u001b[0;31mNameError\u001b[0m: name 'run_config_test_no_norm' is not defined"
     ]
    }
   ],
   "source": [
    "context = xo.ContextCupy()\n",
    "\n",
    "particle_config = particle_config_low[0]\n",
    "particle_config.samples = 100\n",
    "lhc_config = lhc_configs[0]\n",
    "\n",
    "run_config = run_config_test\n",
    "run_config_nochk = run_config_test_no_chk\n",
    "run_config_nonorm = run_config_test_no_norm\n",
    "run_config_nono = run_config_test_no_chk_no_norm\n"
   ]
  },
  {
   "cell_type": "code",
   "execution_count": null,
   "metadata": {},
   "outputs": [],
   "source": [
    "coso = xe.RunConfig(\n",
    "    times = np.arange(100, 100100, 100),\n",
    "    t_norm = 100,\n",
    "    displacement_module = 1e-12,\n",
    "    t_checkpoints = 100\n",
    ")"
   ]
  },
  {
   "cell_type": "code",
   "execution_count": null,
   "metadata": {},
   "outputs": [],
   "source": [
    "intial_conditions = particle_config.get_initial_conditions()\n",
    "displacement = particle_config.get_initial_conditions_with_displacement(\n",
    "    run_config.displacement_module, \"random\")\n",
    "displacement_x = particle_config.get_initial_conditions_with_displacement(\n",
    "    run_config.displacement_module, \"x\")\n",
    "displacement_px = particle_config.get_initial_conditions_with_displacement(\n",
    "    run_config.displacement_module, \"px\")\n",
    "displacement_y = particle_config.get_initial_conditions_with_displacement(\n",
    "    run_config.displacement_module, \"y\")\n",
    "displacement_py = particle_config.get_initial_conditions_with_displacement(\n",
    "    run_config.displacement_module, \"py\")\n",
    "displacement_zeta = particle_config.get_initial_conditions_with_displacement(\n",
    "    run_config.displacement_module, \"z\")\n",
    "displacement_delta = particle_config.get_initial_conditions_with_displacement(\n",
    "    run_config.displacement_module, \"delta\")\n"
   ]
  },
  {
   "cell_type": "code",
   "execution_count": null,
   "metadata": {},
   "outputs": [],
   "source": [
    "particles = intial_conditions.create_particles(context=context)\n",
    "particles_d = displacement_x.create_particles(context=context)"
   ]
  },
  {
   "cell_type": "code",
   "execution_count": null,
   "metadata": {},
   "outputs": [],
   "source": [
    "chk = xe.Checkpoint(\n",
    "    particles_config=particle_config,\n",
    "    lhc_config=lhc_config,\n",
    "    run_config=run_config,\n",
    "\n",
    "    particles_list = [\n",
    "        particles.to_dict(),\n",
    "        particles_d.to_dict(),\n",
    "    ]\n",
    ")\n",
    "\n",
    "chk_nochk = xe.Checkpoint(\n",
    "    particles_config=particle_config,\n",
    "    lhc_config=lhc_config,\n",
    "    run_config=run_config_nochk,\n",
    "\n",
    "    particles_list = [\n",
    "        particles.to_dict(),\n",
    "        particles_d.to_dict(),\n",
    "    ]\n",
    ")\n",
    "\n",
    "chk_nonorm = xe.Checkpoint(\n",
    "    particles_config=particle_config,\n",
    "    lhc_config=lhc_config,\n",
    "    run_config=run_config_nonorm,\n",
    "\n",
    "    particles_list = [\n",
    "        particles.to_dict(),\n",
    "        particles_d.to_dict(),\n",
    "    ]\n",
    ")\n",
    "\n",
    "chk_nono = xe.Checkpoint(\n",
    "    particles_config=particle_config,\n",
    "    lhc_config=lhc_config,\n",
    "    run_config=run_config_nono,\n",
    "\n",
    "    particles_list = [\n",
    "        particles.to_dict(),\n",
    "        particles_d.to_dict(),\n",
    "    ]\n",
    ")"
   ]
  },
  {
   "cell_type": "code",
   "execution_count": null,
   "metadata": {},
   "outputs": [],
   "source": [
    "output = \"lyapunov.hdf5\"\n",
    "output_nochk = \"lyapunov_nochk.hdf5\"\n",
    "output_nonorm = \"lyapunov_nonorm.hdf5\"\n",
    "output_nono = \"lyapunov_nono.hdf5\""
   ]
  },
  {
   "cell_type": "code",
   "execution_count": null,
   "metadata": {},
   "outputs": [],
   "source": [
    "# if output exists, remove it\n",
    "if os.path.exists(output):\n",
    "    os.remove(output)\n",
    "\n",
    "if os.path.exists(output_nochk):\n",
    "    os.remove(output_nochk)\n",
    "\n",
    "if os.path.exists(output_nonorm):\n",
    "    os.remove(output_nonorm)\n",
    "\n",
    "if os.path.exists(output_nono):\n",
    "    os.remove(output_nono)"
   ]
  },
  {
   "cell_type": "code",
   "execution_count": 20,
   "metadata": {},
   "outputs": [
    {
     "name": "stderr",
     "output_type": "stream",
     "text": [
      "  0%|          | 0/110 [00:00<?, ?it/s]"
     ]
    },
    {
     "name": "stdout",
     "output_type": "stream",
     "text": [
      "Event normalize, at time 10. Current time 0.\n"
     ]
    },
    {
     "name": "stderr",
     "output_type": "stream",
     "text": [
      "  1%|          | 1/110 [00:00<00:49,  2.20it/s]"
     ]
    },
    {
     "name": "stdout",
     "output_type": "stream",
     "text": [
      "Event normalize, at time 20. Current time 10.\n"
     ]
    },
    {
     "name": "stderr",
     "output_type": "stream",
     "text": [
      "  2%|▏         | 2/110 [00:00<00:48,  2.25it/s]"
     ]
    },
    {
     "name": "stdout",
     "output_type": "stream",
     "text": [
      "Event normalize, at time 30. Current time 20.\n"
     ]
    },
    {
     "name": "stderr",
     "output_type": "stream",
     "text": [
      "  3%|▎         | 3/110 [00:01<00:47,  2.26it/s]"
     ]
    },
    {
     "name": "stdout",
     "output_type": "stream",
     "text": [
      "Event normalize, at time 40. Current time 30.\n"
     ]
    },
    {
     "name": "stderr",
     "output_type": "stream",
     "text": [
      "  4%|▎         | 4/110 [00:01<00:46,  2.27it/s]"
     ]
    },
    {
     "name": "stdout",
     "output_type": "stream",
     "text": [
      "Event normalize, at time 50. Current time 40.\n"
     ]
    },
    {
     "name": "stderr",
     "output_type": "stream",
     "text": [
      "  5%|▍         | 5/110 [00:02<00:46,  2.28it/s]"
     ]
    },
    {
     "name": "stdout",
     "output_type": "stream",
     "text": [
      "Event normalize, at time 60. Current time 50.\n"
     ]
    },
    {
     "name": "stderr",
     "output_type": "stream",
     "text": [
      "  5%|▌         | 6/110 [00:02<00:45,  2.28it/s]"
     ]
    },
    {
     "name": "stdout",
     "output_type": "stream",
     "text": [
      "Event normalize, at time 70. Current time 60.\n"
     ]
    },
    {
     "name": "stderr",
     "output_type": "stream",
     "text": [
      "  6%|▋         | 7/110 [00:03<00:45,  2.28it/s]"
     ]
    },
    {
     "name": "stdout",
     "output_type": "stream",
     "text": [
      "Event normalize, at time 80. Current time 70.\n"
     ]
    },
    {
     "name": "stderr",
     "output_type": "stream",
     "text": [
      "  7%|▋         | 8/110 [00:03<00:44,  2.28it/s]"
     ]
    },
    {
     "name": "stdout",
     "output_type": "stream",
     "text": [
      "Event normalize, at time 90. Current time 80.\n"
     ]
    },
    {
     "name": "stderr",
     "output_type": "stream",
     "text": [
      "  8%|▊         | 9/110 [00:03<00:44,  2.28it/s]"
     ]
    },
    {
     "name": "stdout",
     "output_type": "stream",
     "text": [
      "Event sample, at time 100. Current time 90.\n"
     ]
    },
    {
     "name": "stderr",
     "output_type": "stream",
     "text": [
      "  9%|▉         | 10/110 [00:04<00:43,  2.29it/s]"
     ]
    },
    {
     "name": "stdout",
     "output_type": "stream",
     "text": [
      "Event normalize, at time 100. Current time 100.\n",
      "Event normalize, at time 110. Current time 100.\n"
     ]
    },
    {
     "name": "stderr",
     "output_type": "stream",
     "text": [
      " 11%|█         | 12/110 [00:04<00:33,  2.96it/s]"
     ]
    },
    {
     "name": "stdout",
     "output_type": "stream",
     "text": [
      "Event normalize, at time 120. Current time 110.\n"
     ]
    },
    {
     "name": "stderr",
     "output_type": "stream",
     "text": [
      " 12%|█▏        | 13/110 [00:05<00:35,  2.76it/s]"
     ]
    },
    {
     "name": "stdout",
     "output_type": "stream",
     "text": [
      "Event normalize, at time 130. Current time 120.\n"
     ]
    },
    {
     "name": "stderr",
     "output_type": "stream",
     "text": [
      " 13%|█▎        | 14/110 [00:05<00:36,  2.62it/s]"
     ]
    },
    {
     "name": "stdout",
     "output_type": "stream",
     "text": [
      "Event normalize, at time 140. Current time 130.\n"
     ]
    },
    {
     "name": "stderr",
     "output_type": "stream",
     "text": [
      " 14%|█▎        | 15/110 [00:06<00:37,  2.51it/s]"
     ]
    },
    {
     "name": "stdout",
     "output_type": "stream",
     "text": [
      "Event normalize, at time 150. Current time 140.\n"
     ]
    },
    {
     "name": "stderr",
     "output_type": "stream",
     "text": [
      " 15%|█▍        | 16/110 [00:06<00:38,  2.45it/s]"
     ]
    },
    {
     "name": "stdout",
     "output_type": "stream",
     "text": [
      "Event normalize, at time 160. Current time 150.\n"
     ]
    },
    {
     "name": "stderr",
     "output_type": "stream",
     "text": [
      " 15%|█▌        | 17/110 [00:07<00:38,  2.40it/s]"
     ]
    },
    {
     "name": "stdout",
     "output_type": "stream",
     "text": [
      "Event normalize, at time 170. Current time 160.\n"
     ]
    },
    {
     "name": "stderr",
     "output_type": "stream",
     "text": [
      " 16%|█▋        | 18/110 [00:07<00:38,  2.36it/s]"
     ]
    },
    {
     "name": "stdout",
     "output_type": "stream",
     "text": [
      "Event normalize, at time 180. Current time 170.\n"
     ]
    },
    {
     "name": "stderr",
     "output_type": "stream",
     "text": [
      " 17%|█▋        | 19/110 [00:07<00:38,  2.34it/s]"
     ]
    },
    {
     "name": "stdout",
     "output_type": "stream",
     "text": [
      "Event normalize, at time 190. Current time 180.\n"
     ]
    },
    {
     "name": "stderr",
     "output_type": "stream",
     "text": [
      " 18%|█▊        | 20/110 [00:08<00:38,  2.32it/s]"
     ]
    },
    {
     "name": "stdout",
     "output_type": "stream",
     "text": [
      "Event sample, at time 200. Current time 190.\n"
     ]
    },
    {
     "name": "stderr",
     "output_type": "stream",
     "text": [
      " 19%|█▉        | 21/110 [00:08<00:38,  2.32it/s]"
     ]
    },
    {
     "name": "stdout",
     "output_type": "stream",
     "text": [
      "Event normalize, at time 200. Current time 200.\n",
      "Event normalize, at time 210. Current time 200.\n"
     ]
    },
    {
     "name": "stderr",
     "output_type": "stream",
     "text": [
      " 21%|██        | 23/110 [00:09<00:29,  2.98it/s]"
     ]
    },
    {
     "name": "stdout",
     "output_type": "stream",
     "text": [
      "Event normalize, at time 220. Current time 210.\n"
     ]
    },
    {
     "name": "stderr",
     "output_type": "stream",
     "text": [
      " 22%|██▏       | 24/110 [00:09<00:31,  2.77it/s]"
     ]
    },
    {
     "name": "stdout",
     "output_type": "stream",
     "text": [
      "Event normalize, at time 230. Current time 220.\n"
     ]
    },
    {
     "name": "stderr",
     "output_type": "stream",
     "text": [
      " 23%|██▎       | 25/110 [00:10<00:32,  2.62it/s]"
     ]
    },
    {
     "name": "stdout",
     "output_type": "stream",
     "text": [
      "Event normalize, at time 240. Current time 230.\n"
     ]
    },
    {
     "name": "stderr",
     "output_type": "stream",
     "text": [
      " 24%|██▎       | 26/110 [00:10<00:33,  2.52it/s]"
     ]
    },
    {
     "name": "stdout",
     "output_type": "stream",
     "text": [
      "Event normalize, at time 250. Current time 240.\n"
     ]
    },
    {
     "name": "stderr",
     "output_type": "stream",
     "text": [
      " 25%|██▍       | 27/110 [00:10<00:33,  2.45it/s]"
     ]
    },
    {
     "name": "stdout",
     "output_type": "stream",
     "text": [
      "Event normalize, at time 260. Current time 250.\n"
     ]
    },
    {
     "name": "stderr",
     "output_type": "stream",
     "text": [
      " 25%|██▌       | 28/110 [00:11<00:34,  2.40it/s]"
     ]
    },
    {
     "name": "stdout",
     "output_type": "stream",
     "text": [
      "Event normalize, at time 270. Current time 260.\n"
     ]
    },
    {
     "name": "stderr",
     "output_type": "stream",
     "text": [
      " 26%|██▋       | 29/110 [00:11<00:34,  2.37it/s]"
     ]
    },
    {
     "name": "stdout",
     "output_type": "stream",
     "text": [
      "Event normalize, at time 280. Current time 270.\n"
     ]
    },
    {
     "name": "stderr",
     "output_type": "stream",
     "text": [
      " 27%|██▋       | 30/110 [00:12<00:34,  2.34it/s]"
     ]
    },
    {
     "name": "stdout",
     "output_type": "stream",
     "text": [
      "Event normalize, at time 290. Current time 280.\n"
     ]
    },
    {
     "name": "stderr",
     "output_type": "stream",
     "text": [
      " 28%|██▊       | 31/110 [00:12<00:33,  2.33it/s]"
     ]
    },
    {
     "name": "stdout",
     "output_type": "stream",
     "text": [
      "Event sample, at time 300. Current time 290.\n"
     ]
    },
    {
     "name": "stderr",
     "output_type": "stream",
     "text": [
      " 29%|██▉       | 32/110 [00:13<00:33,  2.32it/s]"
     ]
    },
    {
     "name": "stdout",
     "output_type": "stream",
     "text": [
      "Event normalize, at time 300. Current time 300.\n",
      "Event normalize, at time 310. Current time 300.\n"
     ]
    },
    {
     "name": "stderr",
     "output_type": "stream",
     "text": [
      " 31%|███       | 34/110 [00:13<00:25,  2.98it/s]"
     ]
    },
    {
     "name": "stdout",
     "output_type": "stream",
     "text": [
      "Event normalize, at time 320. Current time 310.\n"
     ]
    },
    {
     "name": "stderr",
     "output_type": "stream",
     "text": [
      " 32%|███▏      | 35/110 [00:14<00:27,  2.77it/s]"
     ]
    },
    {
     "name": "stdout",
     "output_type": "stream",
     "text": [
      "Event normalize, at time 330. Current time 320.\n"
     ]
    },
    {
     "name": "stderr",
     "output_type": "stream",
     "text": [
      " 33%|███▎      | 36/110 [00:14<00:28,  2.63it/s]"
     ]
    },
    {
     "name": "stdout",
     "output_type": "stream",
     "text": [
      "Event normalize, at time 340. Current time 330.\n"
     ]
    },
    {
     "name": "stderr",
     "output_type": "stream",
     "text": [
      " 34%|███▎      | 37/110 [00:14<00:28,  2.52it/s]"
     ]
    },
    {
     "name": "stdout",
     "output_type": "stream",
     "text": [
      "Event normalize, at time 350. Current time 340.\n"
     ]
    },
    {
     "name": "stderr",
     "output_type": "stream",
     "text": [
      " 35%|███▍      | 38/110 [00:15<00:29,  2.45it/s]"
     ]
    },
    {
     "name": "stdout",
     "output_type": "stream",
     "text": [
      "Event normalize, at time 360. Current time 350.\n"
     ]
    },
    {
     "name": "stderr",
     "output_type": "stream",
     "text": [
      " 35%|███▌      | 39/110 [00:15<00:29,  2.40it/s]"
     ]
    },
    {
     "name": "stdout",
     "output_type": "stream",
     "text": [
      "Event normalize, at time 370. Current time 360.\n"
     ]
    },
    {
     "name": "stderr",
     "output_type": "stream",
     "text": [
      " 36%|███▋      | 40/110 [00:16<00:29,  2.37it/s]"
     ]
    },
    {
     "name": "stdout",
     "output_type": "stream",
     "text": [
      "Event normalize, at time 380. Current time 370.\n"
     ]
    },
    {
     "name": "stderr",
     "output_type": "stream",
     "text": [
      " 37%|███▋      | 41/110 [00:16<00:29,  2.34it/s]"
     ]
    },
    {
     "name": "stdout",
     "output_type": "stream",
     "text": [
      "Event normalize, at time 390. Current time 380.\n"
     ]
    },
    {
     "name": "stderr",
     "output_type": "stream",
     "text": [
      " 38%|███▊      | 42/110 [00:17<00:29,  2.33it/s]"
     ]
    },
    {
     "name": "stdout",
     "output_type": "stream",
     "text": [
      "Event sample, at time 400. Current time 390.\n"
     ]
    },
    {
     "name": "stderr",
     "output_type": "stream",
     "text": [
      " 39%|███▉      | 43/110 [00:17<00:28,  2.32it/s]"
     ]
    },
    {
     "name": "stdout",
     "output_type": "stream",
     "text": [
      "Event normalize, at time 400. Current time 400.\n",
      "Event normalize, at time 410. Current time 400.\n"
     ]
    },
    {
     "name": "stderr",
     "output_type": "stream",
     "text": [
      " 41%|████      | 45/110 [00:17<00:21,  2.98it/s]"
     ]
    },
    {
     "name": "stdout",
     "output_type": "stream",
     "text": [
      "Event normalize, at time 420. Current time 410.\n"
     ]
    },
    {
     "name": "stderr",
     "output_type": "stream",
     "text": [
      " 42%|████▏     | 46/110 [00:18<00:23,  2.77it/s]"
     ]
    },
    {
     "name": "stdout",
     "output_type": "stream",
     "text": [
      "Event normalize, at time 430. Current time 420.\n"
     ]
    },
    {
     "name": "stderr",
     "output_type": "stream",
     "text": [
      " 43%|████▎     | 47/110 [00:18<00:23,  2.63it/s]"
     ]
    },
    {
     "name": "stdout",
     "output_type": "stream",
     "text": [
      "Event normalize, at time 440. Current time 430.\n"
     ]
    },
    {
     "name": "stderr",
     "output_type": "stream",
     "text": [
      " 44%|████▎     | 48/110 [00:19<00:24,  2.52it/s]"
     ]
    },
    {
     "name": "stdout",
     "output_type": "stream",
     "text": [
      "Event normalize, at time 450. Current time 440.\n"
     ]
    },
    {
     "name": "stderr",
     "output_type": "stream",
     "text": [
      " 45%|████▍     | 49/110 [00:19<00:24,  2.45it/s]"
     ]
    },
    {
     "name": "stdout",
     "output_type": "stream",
     "text": [
      "Event normalize, at time 460. Current time 450.\n"
     ]
    },
    {
     "name": "stderr",
     "output_type": "stream",
     "text": [
      " 45%|████▌     | 50/110 [00:20<00:24,  2.40it/s]"
     ]
    },
    {
     "name": "stdout",
     "output_type": "stream",
     "text": [
      "Event normalize, at time 470. Current time 460.\n"
     ]
    },
    {
     "name": "stderr",
     "output_type": "stream",
     "text": [
      " 46%|████▋     | 51/110 [00:20<00:24,  2.37it/s]"
     ]
    },
    {
     "name": "stdout",
     "output_type": "stream",
     "text": [
      "Event normalize, at time 480. Current time 470.\n"
     ]
    },
    {
     "name": "stderr",
     "output_type": "stream",
     "text": [
      " 47%|████▋     | 52/110 [00:21<00:24,  2.34it/s]"
     ]
    },
    {
     "name": "stdout",
     "output_type": "stream",
     "text": [
      "Event normalize, at time 490. Current time 480.\n"
     ]
    },
    {
     "name": "stderr",
     "output_type": "stream",
     "text": [
      " 48%|████▊     | 53/110 [00:21<00:24,  2.33it/s]"
     ]
    },
    {
     "name": "stdout",
     "output_type": "stream",
     "text": [
      "Event sample, at time 500. Current time 490.\n"
     ]
    },
    {
     "name": "stderr",
     "output_type": "stream",
     "text": [
      " 50%|█████     | 55/110 [00:21<00:21,  2.51it/s]\n"
     ]
    },
    {
     "name": "stdout",
     "output_type": "stream",
     "text": [
      "Event normalize, at time 500. Current time 500.\n",
      "Event checkpoint, at time 500. Current time 500.\n"
     ]
    },
    {
     "name": "stderr",
     "output_type": "stream",
     "text": [
      "  0%|          | 0/110 [00:00<?, ?it/s]"
     ]
    },
    {
     "name": "stdout",
     "output_type": "stream",
     "text": [
      "Event normalize, at time 10. Current time 500.\n",
      "Event normalize, at time 20. Current time 500.\n",
      "Event normalize, at time 30. Current time 500.\n",
      "Event normalize, at time 40. Current time 500.\n",
      "Event normalize, at time 50. Current time 500.\n",
      "Event normalize, at time 60. Current time 500.\n",
      "Event normalize, at time 70. Current time 500.\n",
      "Event normalize, at time 80. Current time 500.\n",
      "Event normalize, at time 90. Current time 500.\n",
      "Event sample, at time 100. Current time 500.\n",
      "Event normalize, at time 100. Current time 500.\n",
      "Event normalize, at time 110. Current time 500.\n",
      "Event normalize, at time 120. Current time 500.\n",
      "Event normalize, at time 130. Current time 500.\n",
      "Event normalize, at time 140. Current time 500.\n",
      "Event normalize, at time 150. Current time 500.\n",
      "Event normalize, at time 160. Current time 500.\n",
      "Event normalize, at time 170. Current time 500.\n",
      "Event normalize, at time 180. Current time 500.\n",
      "Event normalize, at time 190. Current time 500.\n",
      "Event sample, at time 200. Current time 500.\n",
      "Event normalize, at time 200. Current time 500.\n",
      "Event normalize, at time 210. Current time 500.\n",
      "Event normalize, at time 220. Current time 500.\n",
      "Event normalize, at time 230. Current time 500.\n",
      "Event normalize, at time 240. Current time 500.\n",
      "Event normalize, at time 250. Current time 500.\n",
      "Event normalize, at time 260. Current time 500.\n",
      "Event normalize, at time 270. Current time 500.\n",
      "Event normalize, at time 280. Current time 500.\n",
      "Event normalize, at time 290. Current time 500.\n",
      "Event sample, at time 300. Current time 500.\n",
      "Event normalize, at time 300. Current time 500.\n",
      "Event normalize, at time 310. Current time 500.\n",
      "Event normalize, at time 320. Current time 500.\n",
      "Event normalize, at time 330. Current time 500.\n",
      "Event normalize, at time 340. Current time 500.\n",
      "Event normalize, at time 350. Current time 500.\n",
      "Event normalize, at time 360. Current time 500.\n",
      "Event normalize, at time 370. Current time 500.\n",
      "Event normalize, at time 380. Current time 500.\n",
      "Event normalize, at time 390. Current time 500.\n",
      "Event sample, at time 400. Current time 500.\n",
      "Event normalize, at time 400. Current time 500.\n",
      "Event normalize, at time 410. Current time 500.\n",
      "Event normalize, at time 420. Current time 500.\n",
      "Event normalize, at time 430. Current time 500.\n",
      "Event normalize, at time 440. Current time 500.\n",
      "Event normalize, at time 450. Current time 500.\n",
      "Event normalize, at time 460. Current time 500.\n",
      "Event normalize, at time 470. Current time 500.\n",
      "Event normalize, at time 480. Current time 500.\n",
      "Event normalize, at time 490. Current time 500.\n",
      "Event sample, at time 500. Current time 500.\n",
      "Event normalize, at time 500. Current time 500.\n",
      "Event checkpoint, at time 500. Current time 500.\n",
      "Event normalize, at time 510. Current time 500.\n"
     ]
    },
    {
     "name": "stderr",
     "output_type": "stream",
     "text": [
      " 52%|█████▏    | 57/110 [00:00<00:00, 118.17it/s]"
     ]
    },
    {
     "name": "stdout",
     "output_type": "stream",
     "text": [
      "Event normalize, at time 520. Current time 510.\n",
      "Event normalize, at time 530. Current time 520.\n",
      "Event normalize, at time 540. Current time 530.\n",
      "Event normalize, at time 550. Current time 540.\n",
      "Event normalize, at time 560. Current time 550.\n",
      "Event normalize, at time 570. Current time 560.\n",
      "Event normalize, at time 580. Current time 570.\n",
      "Event normalize, at time 590. Current time 580.\n",
      "Event sample, at time 600. Current time 590.\n",
      "Event normalize, at time 600. Current time 600.\n",
      "Event normalize, at time 610. Current time 600.\n",
      "Event normalize, at time 620. Current time 610.\n"
     ]
    },
    {
     "name": "stderr",
     "output_type": "stream",
     "text": [
      " 63%|██████▎   | 69/110 [00:05<00:04,  9.65it/s] "
     ]
    },
    {
     "name": "stdout",
     "output_type": "stream",
     "text": [
      "Event normalize, at time 630. Current time 620.\n",
      "Event normalize, at time 640. Current time 630.\n",
      "Event normalize, at time 650. Current time 640.\n",
      "Event normalize, at time 660. Current time 650.\n",
      "Event normalize, at time 670. Current time 660.\n",
      "Event normalize, at time 680. Current time 670.\n"
     ]
    },
    {
     "name": "stderr",
     "output_type": "stream",
     "text": [
      " 68%|██████▊   | 75/110 [00:08<00:05,  6.51it/s]"
     ]
    },
    {
     "name": "stdout",
     "output_type": "stream",
     "text": [
      "Event normalize, at time 690. Current time 680.\n",
      "Event sample, at time 700. Current time 690.\n"
     ]
    },
    {
     "name": "stderr",
     "output_type": "stream",
     "text": [
      " 71%|███████   | 78/110 [00:09<00:05,  5.96it/s]"
     ]
    },
    {
     "name": "stdout",
     "output_type": "stream",
     "text": [
      "Event normalize, at time 700. Current time 700.\n",
      "Event normalize, at time 710. Current time 700.\n",
      "Event normalize, at time 720. Current time 710.\n"
     ]
    },
    {
     "name": "stderr",
     "output_type": "stream",
     "text": [
      " 73%|███████▎  | 80/110 [00:10<00:05,  5.23it/s]"
     ]
    },
    {
     "name": "stdout",
     "output_type": "stream",
     "text": [
      "Event normalize, at time 730. Current time 720.\n",
      "Event normalize, at time 740. Current time 730.\n"
     ]
    },
    {
     "name": "stderr",
     "output_type": "stream",
     "text": [
      " 75%|███████▍  | 82/110 [00:11<00:06,  4.57it/s]"
     ]
    },
    {
     "name": "stdout",
     "output_type": "stream",
     "text": [
      "Event normalize, at time 750. Current time 740.\n"
     ]
    },
    {
     "name": "stderr",
     "output_type": "stream",
     "text": [
      " 75%|███████▌  | 83/110 [00:11<00:06,  4.25it/s]"
     ]
    },
    {
     "name": "stdout",
     "output_type": "stream",
     "text": [
      "Event normalize, at time 760. Current time 750.\n"
     ]
    },
    {
     "name": "stderr",
     "output_type": "stream",
     "text": [
      " 76%|███████▋  | 84/110 [00:11<00:06,  3.92it/s]"
     ]
    },
    {
     "name": "stdout",
     "output_type": "stream",
     "text": [
      "Event normalize, at time 770. Current time 760.\n"
     ]
    },
    {
     "name": "stderr",
     "output_type": "stream",
     "text": [
      " 77%|███████▋  | 85/110 [00:12<00:06,  3.60it/s]"
     ]
    },
    {
     "name": "stdout",
     "output_type": "stream",
     "text": [
      "Event normalize, at time 780. Current time 770.\n"
     ]
    },
    {
     "name": "stderr",
     "output_type": "stream",
     "text": [
      " 78%|███████▊  | 86/110 [00:12<00:07,  3.30it/s]"
     ]
    },
    {
     "name": "stdout",
     "output_type": "stream",
     "text": [
      "Event normalize, at time 790. Current time 780.\n"
     ]
    },
    {
     "name": "stderr",
     "output_type": "stream",
     "text": [
      " 79%|███████▉  | 87/110 [00:13<00:07,  3.04it/s]"
     ]
    },
    {
     "name": "stdout",
     "output_type": "stream",
     "text": [
      "Event sample, at time 800. Current time 790.\n"
     ]
    },
    {
     "name": "stderr",
     "output_type": "stream",
     "text": [
      " 80%|████████  | 88/110 [00:13<00:07,  2.83it/s]"
     ]
    },
    {
     "name": "stdout",
     "output_type": "stream",
     "text": [
      "Event normalize, at time 800. Current time 800.\n",
      "Event normalize, at time 810. Current time 800.\n"
     ]
    },
    {
     "name": "stderr",
     "output_type": "stream",
     "text": [
      " 82%|████████▏ | 90/110 [00:14<00:06,  3.22it/s]"
     ]
    },
    {
     "name": "stdout",
     "output_type": "stream",
     "text": [
      "Event normalize, at time 820. Current time 810.\n"
     ]
    },
    {
     "name": "stderr",
     "output_type": "stream",
     "text": [
      " 83%|████████▎ | 91/110 [00:14<00:06,  2.94it/s]"
     ]
    },
    {
     "name": "stdout",
     "output_type": "stream",
     "text": [
      "Event normalize, at time 830. Current time 820.\n"
     ]
    },
    {
     "name": "stderr",
     "output_type": "stream",
     "text": [
      " 84%|████████▎ | 92/110 [00:15<00:06,  2.73it/s]"
     ]
    },
    {
     "name": "stdout",
     "output_type": "stream",
     "text": [
      "Event normalize, at time 840. Current time 830.\n"
     ]
    },
    {
     "name": "stderr",
     "output_type": "stream",
     "text": [
      " 85%|████████▍ | 93/110 [00:15<00:06,  2.57it/s]"
     ]
    },
    {
     "name": "stdout",
     "output_type": "stream",
     "text": [
      "Event normalize, at time 850. Current time 840.\n"
     ]
    },
    {
     "name": "stderr",
     "output_type": "stream",
     "text": [
      " 85%|████████▌ | 94/110 [00:16<00:06,  2.46it/s]"
     ]
    },
    {
     "name": "stdout",
     "output_type": "stream",
     "text": [
      "Event normalize, at time 860. Current time 850.\n"
     ]
    },
    {
     "name": "stderr",
     "output_type": "stream",
     "text": [
      " 86%|████████▋ | 95/110 [00:16<00:06,  2.38it/s]"
     ]
    },
    {
     "name": "stdout",
     "output_type": "stream",
     "text": [
      "Event normalize, at time 870. Current time 860.\n"
     ]
    },
    {
     "name": "stderr",
     "output_type": "stream",
     "text": [
      " 87%|████████▋ | 96/110 [00:16<00:06,  2.32it/s]"
     ]
    },
    {
     "name": "stdout",
     "output_type": "stream",
     "text": [
      "Event normalize, at time 880. Current time 870.\n"
     ]
    },
    {
     "name": "stderr",
     "output_type": "stream",
     "text": [
      " 88%|████████▊ | 97/110 [00:17<00:05,  2.28it/s]"
     ]
    },
    {
     "name": "stdout",
     "output_type": "stream",
     "text": [
      "Event normalize, at time 890. Current time 880.\n"
     ]
    },
    {
     "name": "stderr",
     "output_type": "stream",
     "text": [
      " 89%|████████▉ | 98/110 [00:17<00:05,  2.25it/s]"
     ]
    },
    {
     "name": "stdout",
     "output_type": "stream",
     "text": [
      "Event sample, at time 900. Current time 890.\n"
     ]
    },
    {
     "name": "stderr",
     "output_type": "stream",
     "text": [
      " 90%|█████████ | 99/110 [00:18<00:04,  2.24it/s]"
     ]
    },
    {
     "name": "stdout",
     "output_type": "stream",
     "text": [
      "Event normalize, at time 900. Current time 900.\n",
      "Event normalize, at time 910. Current time 900.\n"
     ]
    },
    {
     "name": "stderr",
     "output_type": "stream",
     "text": [
      " 92%|█████████▏| 101/110 [00:18<00:03,  2.85it/s]"
     ]
    },
    {
     "name": "stdout",
     "output_type": "stream",
     "text": [
      "Event normalize, at time 920. Current time 910.\n"
     ]
    },
    {
     "name": "stderr",
     "output_type": "stream",
     "text": [
      " 93%|█████████▎| 102/110 [00:19<00:03,  2.65it/s]"
     ]
    },
    {
     "name": "stdout",
     "output_type": "stream",
     "text": [
      "Event normalize, at time 930. Current time 920.\n"
     ]
    },
    {
     "name": "stderr",
     "output_type": "stream",
     "text": [
      " 94%|█████████▎| 103/110 [00:19<00:02,  2.51it/s]"
     ]
    },
    {
     "name": "stdout",
     "output_type": "stream",
     "text": [
      "Event normalize, at time 940. Current time 930.\n"
     ]
    },
    {
     "name": "stderr",
     "output_type": "stream",
     "text": [
      " 95%|█████████▍| 104/110 [00:20<00:02,  2.41it/s]"
     ]
    },
    {
     "name": "stdout",
     "output_type": "stream",
     "text": [
      "Event normalize, at time 950. Current time 940.\n"
     ]
    },
    {
     "name": "stderr",
     "output_type": "stream",
     "text": [
      " 95%|█████████▌| 105/110 [00:20<00:02,  2.34it/s]"
     ]
    },
    {
     "name": "stdout",
     "output_type": "stream",
     "text": [
      "Event normalize, at time 960. Current time 950.\n"
     ]
    },
    {
     "name": "stderr",
     "output_type": "stream",
     "text": [
      " 96%|█████████▋| 106/110 [00:21<00:01,  2.30it/s]"
     ]
    },
    {
     "name": "stdout",
     "output_type": "stream",
     "text": [
      "Event normalize, at time 970. Current time 960.\n"
     ]
    },
    {
     "name": "stderr",
     "output_type": "stream",
     "text": [
      " 97%|█████████▋| 107/110 [00:21<00:01,  2.26it/s]"
     ]
    },
    {
     "name": "stdout",
     "output_type": "stream",
     "text": [
      "Event normalize, at time 980. Current time 970.\n"
     ]
    },
    {
     "name": "stderr",
     "output_type": "stream",
     "text": [
      " 98%|█████████▊| 108/110 [00:22<00:00,  2.24it/s]"
     ]
    },
    {
     "name": "stdout",
     "output_type": "stream",
     "text": [
      "Event normalize, at time 990. Current time 980.\n"
     ]
    },
    {
     "name": "stderr",
     "output_type": "stream",
     "text": [
      " 99%|█████████▉| 109/110 [00:22<00:00,  2.22it/s]"
     ]
    },
    {
     "name": "stdout",
     "output_type": "stream",
     "text": [
      "Event sample, at time 1000. Current time 990.\n"
     ]
    },
    {
     "name": "stderr",
     "output_type": "stream",
     "text": [
      "100%|██████████| 110/110 [00:22<00:00,  4.79it/s]\n"
     ]
    }
   ],
   "source": [
    "while not chk.completed:\n",
    "    chk = xe.track_lyapunov(chk, output, context)"
   ]
  },
  {
   "cell_type": "code",
   "execution_count": 21,
   "metadata": {},
   "outputs": [
    {
     "name": "stderr",
     "output_type": "stream",
     "text": [
      "  0%|          | 0/10 [00:00<?, ?it/s]"
     ]
    },
    {
     "name": "stdout",
     "output_type": "stream",
     "text": [
      "Event sample, at time 100. Current time 0.\n"
     ]
    },
    {
     "name": "stderr",
     "output_type": "stream",
     "text": [
      " 10%|█         | 1/10 [00:04<00:38,  4.31s/it]"
     ]
    },
    {
     "name": "stdout",
     "output_type": "stream",
     "text": [
      "Event sample, at time 200. Current time 100.\n"
     ]
    },
    {
     "name": "stderr",
     "output_type": "stream",
     "text": [
      " 20%|██        | 2/10 [00:08<00:34,  4.29s/it]"
     ]
    },
    {
     "name": "stdout",
     "output_type": "stream",
     "text": [
      "Event sample, at time 300. Current time 200.\n"
     ]
    },
    {
     "name": "stderr",
     "output_type": "stream",
     "text": [
      " 30%|███       | 3/10 [00:12<00:29,  4.28s/it]"
     ]
    },
    {
     "name": "stdout",
     "output_type": "stream",
     "text": [
      "Event sample, at time 400. Current time 300.\n"
     ]
    },
    {
     "name": "stderr",
     "output_type": "stream",
     "text": [
      " 40%|████      | 4/10 [00:17<00:25,  4.28s/it]"
     ]
    },
    {
     "name": "stdout",
     "output_type": "stream",
     "text": [
      "Event sample, at time 500. Current time 400.\n"
     ]
    },
    {
     "name": "stderr",
     "output_type": "stream",
     "text": [
      " 50%|█████     | 5/10 [00:21<00:21,  4.28s/it]"
     ]
    },
    {
     "name": "stdout",
     "output_type": "stream",
     "text": [
      "Event sample, at time 600. Current time 500.\n"
     ]
    },
    {
     "name": "stderr",
     "output_type": "stream",
     "text": [
      " 60%|██████    | 6/10 [00:25<00:17,  4.28s/it]"
     ]
    },
    {
     "name": "stdout",
     "output_type": "stream",
     "text": [
      "Event sample, at time 700. Current time 600.\n"
     ]
    },
    {
     "name": "stderr",
     "output_type": "stream",
     "text": [
      " 70%|███████   | 7/10 [00:29<00:12,  4.28s/it]"
     ]
    },
    {
     "name": "stdout",
     "output_type": "stream",
     "text": [
      "Event sample, at time 800. Current time 700.\n"
     ]
    },
    {
     "name": "stderr",
     "output_type": "stream",
     "text": [
      " 80%|████████  | 8/10 [00:34<00:08,  4.27s/it]"
     ]
    },
    {
     "name": "stdout",
     "output_type": "stream",
     "text": [
      "Event sample, at time 900. Current time 800.\n"
     ]
    },
    {
     "name": "stderr",
     "output_type": "stream",
     "text": [
      " 90%|█████████ | 9/10 [00:38<00:04,  4.27s/it]"
     ]
    },
    {
     "name": "stdout",
     "output_type": "stream",
     "text": [
      "Event sample, at time 1000. Current time 900.\n"
     ]
    },
    {
     "name": "stderr",
     "output_type": "stream",
     "text": [
      "100%|██████████| 10/10 [00:42<00:00,  4.28s/it]\n"
     ]
    }
   ],
   "source": [
    "while not chk_nochk.completed:\n",
    "    chk_nochk = xe.track_lyapunov(chk_nochk, output_nochk, context)"
   ]
  },
  {
   "cell_type": "code",
   "execution_count": 22,
   "metadata": {},
   "outputs": [],
   "source": [
    "with h5py.File(output, \"r\") as file:\n",
    "    d0 = file[f\"lyapunov/{1000}\"][:]\n",
    "\n",
    "with h5py.File(output_nochk, \"r\") as file:\n",
    "    d1 = file[f\"lyapunov/{1000}\"][:]"
   ]
  },
  {
   "cell_type": "code",
   "execution_count": 23,
   "metadata": {},
   "outputs": [
    {
     "data": {
      "text/plain": [
       "array([0.28406813, 0.27199251, 0.29937875, ...,        nan,        nan,\n",
       "              nan])"
      ]
     },
     "execution_count": 23,
     "metadata": {},
     "output_type": "execute_result"
    }
   ],
   "source": [
    "d0"
   ]
  },
  {
   "cell_type": "code",
   "execution_count": 24,
   "metadata": {},
   "outputs": [
    {
     "data": {
      "text/plain": [
       "array([0.00372974, 0.00273534, 0.00388931, ...,        nan,        nan,\n",
       "              nan])"
      ]
     },
     "execution_count": 24,
     "metadata": {},
     "output_type": "execute_result"
    }
   ],
   "source": [
    "d1"
   ]
  },
  {
   "cell_type": "code",
   "execution_count": 28,
   "metadata": {},
   "outputs": [
    {
     "data": {
      "text/plain": [
       "<matplotlib.image.AxesImage at 0x7f22204782e0>"
      ]
     },
     "execution_count": 28,
     "metadata": {},
     "output_type": "execute_result"
    },
    {
     "data": {
      "image/png": "[encoded data removed]",
      "text/plain": [
       "<Figure size 432x288 with 1 Axes>"
      ]
     },
     "metadata": {
      "needs_background": "light"
     },
     "output_type": "display_data"
    }
   ],
   "source": [
    "plt.imshow(d0.reshape(100, 100))"
   ]
  },
  {
   "cell_type": "code",
   "execution_count": 27,
   "metadata": {},
   "outputs": [
    {
     "data": {
      "text/plain": [
       "<matplotlib.image.AxesImage at 0x7f2220cab550>"
      ]
     },
     "execution_count": 27,
     "metadata": {},
     "output_type": "execute_result"
    },
    {
     "data": {
      "image/png": "[encoded data removed]",
      "text/plain": [
       "<Figure size 432x288 with 1 Axes>"
      ]
     },
     "metadata": {
      "needs_background": "light"
     },
     "output_type": "display_data"
    }
   ],
   "source": [
    "plt.imshow(d1.reshape(100, 100))"
   ]
  },
  {
   "cell_type": "code",
   "execution_count": 30,
   "metadata": {},
   "outputs": [
    {
     "data": {
      "image/png": "[encoded data removed]",
      "text/plain": [
       "<Figure size 432x288 with 1 Axes>"
      ]
     },
     "metadata": {
      "needs_background": "light"
     },
     "output_type": "display_data"
    }
   ],
   "source": [
    "for p in chk.particles_list:\n",
    "    plt.scatter(np.arange(len(p[\"particle_id\"])), np.arange(len(p[\"particle_id\"]))-p[\"particle_id\"])"
   ]
  },
  {
   "cell_type": "code",
   "execution_count": 34,
   "metadata": {},
   "outputs": [],
   "source": [
    "import xpart as xp\n",
    "test_particles = xp.Particles.from_dict(chk.particles_list[0])\n",
    "test_particles_2 = xp.Particles.from_dict(chk.particles_list[0])"
   ]
  },
  {
   "cell_type": "code",
   "execution_count": 35,
   "metadata": {},
   "outputs": [],
   "source": [
    "test_particles_2.x += np.linspace(0, 1, len(test_particles_2.x))"
   ]
  },
  {
   "cell_type": "code",
   "execution_count": 36,
   "metadata": {},
   "outputs": [
    {
     "data": {
      "text/plain": [
       "[<matplotlib.lines.Line2D at 0x7fc4f89434f0>]"
      ]
     },
     "execution_count": 36,
     "metadata": {},
     "output_type": "execute_result"
    },
    {
     "data": {
      "image/png": "[encoded data removed]",
      "text/plain": [
       "<Figure size 432x288 with 1 Axes>"
      ]
     },
     "metadata": {
      "needs_background": "light"
     },
     "output_type": "display_data"
    }
   ],
   "source": [
    "plt.plot(np.arange(len(test_particles.x)), test_particles.x - test_particles_2.x)"
   ]
  },
  {
   "cell_type": "code",
   "execution_count": 15,
   "metadata": {},
   "outputs": [],
   "source": [
    "particles = intial_conditions.create_particles(context=context)\n",
    "particles_x = displacement_x.create_particles(context=context)\n",
    "particles_px = displacement_px.create_particles(context=context)\n",
    "particles_y = displacement_y.create_particles(context=context)\n",
    "particles_py = displacement_py.create_particles(context=context)\n",
    "particles_z = displacement_zeta.create_particles(context=context)\n",
    "particles_d = displacement_delta.create_particles(context=context)\n"
   ]
  },
  {
   "cell_type": "code",
   "execution_count": 16,
   "metadata": {},
   "outputs": [],
   "source": [
    "chk = xe.Checkpoint(\n",
    "    particles_config=particle_config,\n",
    "    lhc_config=lhc_config,\n",
    "    run_config=run_config,\n",
    "\n",
    "    particles_list = [\n",
    "        particles.to_dict(),\n",
    "        particles_x.to_dict(),\n",
    "        particles_px.to_dict(),\n",
    "        particles_y.to_dict(),\n",
    "        particles_py.to_dict(),\n",
    "        particles_z.to_dict(),\n",
    "        particles_d.to_dict()\n",
    "    ]\n",
    ")\n",
    "\n",
    "chk_nochk = xe.Checkpoint(\n",
    "    particles_config=particle_config,\n",
    "    lhc_config=lhc_config,\n",
    "    run_config=run_config_nochk,\n",
    "\n",
    "    particles_list=[\n",
    "        particles.to_dict(),\n",
    "        particles_x.to_dict(),\n",
    "        particles_px.to_dict(),\n",
    "        particles_y.to_dict(),\n",
    "        particles_py.to_dict(),\n",
    "        particles_z.to_dict(),\n",
    "        particles_d.to_dict()\n",
    "    ]\n",
    ")\n"
   ]
  },
  {
   "cell_type": "code",
   "execution_count": 17,
   "metadata": {},
   "outputs": [],
   "source": [
    "output = \"ofli_lyapunov.hdf5\"\n",
    "output_nochk = \"ofli_lyapunov_nochk.hdf5\""
   ]
  },
  {
   "cell_type": "code",
   "execution_count": 18,
   "metadata": {},
   "outputs": [],
   "source": [
    "# if output exists, remove it\n",
    "if os.path.exists(output):\n",
    "    os.remove(output)\n",
    "\n",
    "if os.path.exists(output_nochk):\n",
    "    os.remove(output_nochk)"
   ]
  },
  {
   "cell_type": "code",
   "execution_count": 19,
   "metadata": {},
   "outputs": [
    {
     "name": "stdout",
     "output_type": "stream",
     "text": [
      "generating ./4a45c536c2554469b46ad76e7668a802.c\n",
      "the current directory is '/home/camontan/Insync/carlo.montanari3@studio.unibo.it/OneDrive_Biz/projects/definitive_dyn_indicators/jobs/IPAC_LHC'\n",
      "running build_ext\n",
      "building '4a45c536c2554469b46ad76e7668a802' extension\n",
      "gcc -pthread -B /home/camontan/anaconda3/compiler_compat -Wl,--sysroot=/ -Wsign-compare -DNDEBUG -g -fwrapv -O3 -Wall -Wstrict-prototypes -fPIC -I/home/camontan/anaconda3/include/python3.8 -c 4a45c536c2554469b46ad76e7668a802.c -o ./4a45c536c2554469b46ad76e7668a802.o -std=c99 -O3 -Wno-unused-function -fopenmp\n",
      "gcc -pthread -shared -B /home/camontan/anaconda3/compiler_compat -L/home/camontan/anaconda3/lib -Wl,-rpath=/home/camontan/anaconda3/lib -Wl,--no-as-needed -Wl,--sysroot=/ ./4a45c536c2554469b46ad76e7668a802.o -o ./4a45c536c2554469b46ad76e7668a802.cpython-38-x86_64-linux-gnu.so -std=c99 -O3 -fopenmp\n"
     ]
    },
    {
     "name": "stderr",
     "output_type": "stream",
     "text": [
      " 50%|█████     | 2/4 [00:02<00:02,  1.45s/it]\n"
     ]
    },
    {
     "name": "stdout",
     "output_type": "stream",
     "text": [
      "generating ./d7711d08b45449eea7a3896e9cd738ae.c\n",
      "the current directory is '/home/camontan/Insync/carlo.montanari3@studio.unibo.it/OneDrive_Biz/projects/definitive_dyn_indicators/jobs/IPAC_LHC'\n",
      "running build_ext\n",
      "building 'd7711d08b45449eea7a3896e9cd738ae' extension\n",
      "gcc -pthread -B /home/camontan/anaconda3/compiler_compat -Wl,--sysroot=/ -Wsign-compare -DNDEBUG -g -fwrapv -O3 -Wall -Wstrict-prototypes -fPIC -I/home/camontan/anaconda3/include/python3.8 -c d7711d08b45449eea7a3896e9cd738ae.c -o ./d7711d08b45449eea7a3896e9cd738ae.o -std=c99 -O3 -Wno-unused-function -fopenmp\n",
      "gcc -pthread -shared -B /home/camontan/anaconda3/compiler_compat -L/home/camontan/anaconda3/lib -Wl,-rpath=/home/camontan/anaconda3/lib -Wl,--no-as-needed -Wl,--sysroot=/ ./d7711d08b45449eea7a3896e9cd738ae.o -o ./d7711d08b45449eea7a3896e9cd738ae.cpython-38-x86_64-linux-gnu.so -std=c99 -O3 -fopenmp\n"
     ]
    },
    {
     "name": "stderr",
     "output_type": "stream",
     "text": [
      "100%|██████████| 4/4 [00:02<00:00,  1.66it/s]\n"
     ]
    }
   ],
   "source": [
    "while not chk.completed:\n",
    "    chk = xe.track_ortho_lyapunov(chk, output, context)"
   ]
  },
  {
   "cell_type": "code",
   "execution_count": 20,
   "metadata": {},
   "outputs": [
    {
     "name": "stdout",
     "output_type": "stream",
     "text": [
      "generating ./f4a6258dc5274748abb283bc8e086beb.c\n",
      "the current directory is '/home/camontan/Insync/carlo.montanari3@studio.unibo.it/OneDrive_Biz/projects/definitive_dyn_indicators/jobs/IPAC_LHC'\n",
      "running build_ext\n",
      "building 'f4a6258dc5274748abb283bc8e086beb' extension\n",
      "gcc -pthread -B /home/camontan/anaconda3/compiler_compat -Wl,--sysroot=/ -Wsign-compare -DNDEBUG -g -fwrapv -O3 -Wall -Wstrict-prototypes -fPIC -I/home/camontan/anaconda3/include/python3.8 -c f4a6258dc5274748abb283bc8e086beb.c -o ./f4a6258dc5274748abb283bc8e086beb.o -std=c99 -O3 -Wno-unused-function -fopenmp\n",
      "gcc -pthread -shared -B /home/camontan/anaconda3/compiler_compat -L/home/camontan/anaconda3/lib -Wl,-rpath=/home/camontan/anaconda3/lib -Wl,--no-as-needed -Wl,--sysroot=/ ./f4a6258dc5274748abb283bc8e086beb.o -o ./f4a6258dc5274748abb283bc8e086beb.cpython-38-x86_64-linux-gnu.so -std=c99 -O3 -fopenmp\n"
     ]
    },
    {
     "name": "stderr",
     "output_type": "stream",
     "text": [
      "100%|██████████| 3/3 [00:05<00:00,  1.67s/it]\n"
     ]
    }
   ],
   "source": [
    "while not chk_nochk.completed:\n",
    "    chk_nochk = xe.track_ortho_lyapunov(chk_nochk, output_nochk, context)\n"
   ]
  },
  {
   "cell_type": "code",
   "execution_count": 21,
   "metadata": {},
   "outputs": [],
   "source": [
    "with h5py.File(output, \"r\") as file:\n",
    "    d0 = file[f\"lyapunov/{20}\"][:]\n",
    "\n",
    "with h5py.File(output_nochk, \"r\") as file:\n",
    "    d1 = file[f\"lyapunov/{20}\"][:]\n"
   ]
  },
  {
   "cell_type": "code",
   "execution_count": 22,
   "metadata": {},
   "outputs": [
    {
     "data": {
      "text/plain": [
       "array([[ 0.12657575,  0.08668738,  0.08534254,  0.06865556, -0.0047325 ,\n",
       "         0.39892632,         nan,         nan,         nan,         nan,\n",
       "         0.08561305,  0.0866918 ,  0.08714773,  0.11941399,  0.07558157,\n",
       "         0.23224121,         nan,         nan,         nan,         nan,\n",
       "         0.08480291,  0.21299905,  0.08478922,  0.09261236,  0.13590643,\n",
       "                nan,         nan,         nan,         nan,         nan,\n",
       "         0.16132914,  0.08008226,  0.07731466,  0.12920488,  0.20854882,\n",
       "                nan,         nan,         nan,         nan,         nan,\n",
       "         0.12792045,  0.12297476,  0.04546679,  0.0622045 ,  0.30090453,\n",
       "                nan,         nan,         nan,         nan,         nan,\n",
       "         0.07881321,  0.08541754,  0.04506236,  0.02365202,  0.21653126,\n",
       "                nan,         nan,         nan,         nan,         nan,\n",
       "         0.24374883,  0.34166668,  0.25724447,  0.52310204,         nan,\n",
       "                nan,         nan,         nan,         nan,         nan,\n",
       "                nan,         nan,         nan,         nan,         nan,\n",
       "                nan,         nan,         nan,         nan,         nan,\n",
       "                nan,         nan,         nan,         nan,         nan,\n",
       "                nan,         nan,         nan,         nan,         nan,\n",
       "                nan,         nan,         nan,         nan,         nan,\n",
       "                nan,         nan,         nan,         nan,         nan],\n",
       "       [ 0.45286424,  0.44917451,  0.4421809 ,  0.41750057,  0.42171635,\n",
       "         0.78498048,         nan,         nan,         nan,         nan,\n",
       "         0.45313917,  0.44945841,  0.44387469,  0.42898984,  0.36875974,\n",
       "         0.61737297,         nan,         nan,         nan,         nan,\n",
       "         0.4553597 ,  0.44937485,  0.44218977,  0.44458285,  0.50072145,\n",
       "                nan,         nan,         nan,         nan,         nan,\n",
       "         0.45571545,  0.44557505,  0.43027375,  0.43182561,  0.50585728,\n",
       "                nan,         nan,         nan,         nan,         nan,\n",
       "         0.45055075,  0.43685473,  0.38728355,  0.43724463,  0.65402326,\n",
       "                nan,         nan,         nan,         nan,         nan,\n",
       "         0.44952411,  0.46432696,  0.4507963 ,  0.4125198 ,  0.57730653,\n",
       "                nan,         nan,         nan,         nan,         nan,\n",
       "         0.56849106,  0.74123904,  0.62693665,  0.83039137,         nan,\n",
       "                nan,         nan,         nan,         nan,         nan,\n",
       "                nan,         nan,         nan,         nan,         nan,\n",
       "                nan,         nan,         nan,         nan,         nan,\n",
       "                nan,         nan,         nan,         nan,         nan,\n",
       "                nan,         nan,         nan,         nan,         nan,\n",
       "                nan,         nan,         nan,         nan,         nan,\n",
       "                nan,         nan,         nan,         nan,         nan],\n",
       "       [ 0.12802525,  0.08993237,  0.09908428,  0.10975248,  0.10211058,\n",
       "         0.21438357,         nan,         nan,         nan,         nan,\n",
       "         0.08899132,  0.09441832,  0.10335615,  0.14997005,  0.13272745,\n",
       "         0.21461417,         nan,         nan,         nan,         nan,\n",
       "         0.09600386,  0.10169862,  0.11045476,  0.1266806 ,  0.18489567,\n",
       "                nan,         nan,         nan,         nan,         nan,\n",
       "         0.18477838,  0.10686689,  0.11201739,  0.13498674,  0.05359363,\n",
       "                nan,         nan,         nan,         nan,         nan,\n",
       "         0.17547887,  0.12007964,  0.09447173,  0.24941715,  0.25993348,\n",
       "                nan,         nan,         nan,         nan,         nan,\n",
       "         0.11493771,  0.23623915,  0.11279324,  0.27126328,  0.29596478,\n",
       "                nan,         nan,         nan,         nan,         nan,\n",
       "         0.32598164,  0.42735701,  0.28852536,  0.55383968,         nan,\n",
       "                nan,         nan,         nan,         nan,         nan,\n",
       "                nan,         nan,         nan,         nan,         nan,\n",
       "                nan,         nan,         nan,         nan,         nan,\n",
       "                nan,         nan,         nan,         nan,         nan,\n",
       "                nan,         nan,         nan,         nan,         nan,\n",
       "                nan,         nan,         nan,         nan,         nan,\n",
       "                nan,         nan,         nan,         nan,         nan],\n",
       "       [ 0.50994298,  0.51262711,  0.5186867 ,  0.52734471,  0.50969116,\n",
       "         0.63323517,         nan,         nan,         nan,         nan,\n",
       "         0.51672148,  0.51767039,  0.5240452 ,  0.53678211,  0.550171  ,\n",
       "         0.64698175,         nan,         nan,         nan,         nan,\n",
       "         0.52607677,  0.52885898,  0.53409966,  0.54987511,  0.60984967,\n",
       "                nan,         nan,         nan,         nan,         nan,\n",
       "         0.5358173 ,  0.53859666,  0.54008677,  0.53982051,  0.50245489,\n",
       "                nan,         nan,         nan,         nan,         nan,\n",
       "         0.52891643,  0.53290623,  0.53367449,  0.52450887,  0.61677275,\n",
       "                nan,         nan,         nan,         nan,         nan,\n",
       "         0.52929438,  0.52387408,  0.50426528,  0.52492855,  0.73258584,\n",
       "                nan,         nan,         nan,         nan,         nan,\n",
       "         0.74456671,  0.84552261,  0.72895603,  0.97952633,         nan,\n",
       "                nan,         nan,         nan,         nan,         nan,\n",
       "                nan,         nan,         nan,         nan,         nan,\n",
       "                nan,         nan,         nan,         nan,         nan,\n",
       "                nan,         nan,         nan,         nan,         nan,\n",
       "                nan,         nan,         nan,         nan,         nan,\n",
       "                nan,         nan,         nan,         nan,         nan,\n",
       "                nan,         nan,         nan,         nan,         nan],\n",
       "       [ 0.23882882,  0.08385769,  0.2935573 ,  0.04708469,  0.08919464,\n",
       "         0.12595609,         nan,         nan,         nan,         nan,\n",
       "         0.33068033,  0.0200754 ,  0.09037257,  0.12442424,  0.08615433,\n",
       "         0.30730283,         nan,         nan,         nan,         nan,\n",
       "         0.30636958,  0.23064895,  0.16780573,  0.22331277,  0.22508178,\n",
       "                nan,         nan,         nan,         nan,         nan,\n",
       "         0.26712149,  0.23729894,  0.25580384,  0.11737018,  0.19029074,\n",
       "                nan,         nan,         nan,         nan,         nan,\n",
       "         0.27328713,  0.27299126,  0.29744269,  0.07984004,  0.31190742,\n",
       "                nan,         nan,         nan,         nan,         nan,\n",
       "         0.25624576,  0.25374362,  0.22695553,  0.31025735,  0.1570021 ,\n",
       "                nan,         nan,         nan,         nan,         nan,\n",
       "         0.23389009,  0.20190734,  0.26034413,  0.07782864,         nan,\n",
       "                nan,         nan,         nan,         nan,         nan,\n",
       "                nan,         nan,         nan,         nan,         nan,\n",
       "                nan,         nan,         nan,         nan,         nan,\n",
       "                nan,         nan,         nan,         nan,         nan,\n",
       "                nan,         nan,         nan,         nan,         nan,\n",
       "                nan,         nan,         nan,         nan,         nan,\n",
       "                nan,         nan,         nan,         nan,         nan],\n",
       "       [ 0.48934261,  0.48803605,  0.4830803 ,  0.47084632,  0.48952001,\n",
       "         0.48181195,         nan,         nan,         nan,         nan,\n",
       "         0.49268897,  0.4882452 ,  0.48678132,  0.49780523,  0.48468431,\n",
       "         0.48385816,         nan,         nan,         nan,         nan,\n",
       "         0.49400313,  0.48632661,  0.48153973,  0.47741552,  0.49680084,\n",
       "                nan,         nan,         nan,         nan,         nan,\n",
       "         0.48136449,  0.48802193,  0.48158496,  0.49106774,  0.48151593,\n",
       "                nan,         nan,         nan,         nan,         nan,\n",
       "                nan,         nan,         nan,         nan,         nan,\n",
       "                nan,         nan,         nan,         nan,         nan,\n",
       "                nan,         nan,         nan,         nan,         nan,\n",
       "                nan,         nan,         nan,         nan,         nan,\n",
       "                nan,         nan,         nan,         nan,         nan,\n",
       "                nan,         nan,         nan,         nan,         nan,\n",
       "                nan,         nan,         nan,         nan,         nan,\n",
       "                nan,         nan,         nan,         nan,         nan,\n",
       "                nan,         nan,         nan,         nan,         nan,\n",
       "                nan,         nan,         nan,         nan,         nan,\n",
       "                nan,         nan,         nan,         nan,         nan,\n",
       "                nan,         nan,         nan,         nan,         nan]])"
      ]
     },
     "execution_count": 22,
     "metadata": {},
     "output_type": "execute_result"
    }
   ],
   "source": [
    "d0"
   ]
  },
  {
   "cell_type": "code",
   "execution_count": 23,
   "metadata": {},
   "outputs": [
    {
     "data": {
      "text/plain": [
       "array([[ 0.12657575,  0.08668738,  0.08534254,  0.06865556, -0.0047325 ,\n",
       "         0.39892632,         nan,         nan,         nan,         nan,\n",
       "         0.08561305,  0.0866918 ,  0.08714773,  0.11941399,  0.07558157,\n",
       "         0.23224121,         nan,         nan,         nan,         nan,\n",
       "         0.08480291,  0.21299905,  0.08478922,  0.09261236,  0.13590643,\n",
       "                nan,         nan,         nan,         nan,         nan,\n",
       "         0.16132914,  0.08008226,  0.07731466,  0.12920488,  0.20854882,\n",
       "                nan,         nan,         nan,         nan,         nan,\n",
       "         0.12792045,  0.12297476,  0.04546679,  0.0622045 ,  0.30090453,\n",
       "                nan,         nan,         nan,         nan,         nan,\n",
       "         0.07881321,  0.08541754,  0.04506236,  0.02365202,  0.21653126,\n",
       "                nan,         nan,         nan,         nan,         nan,\n",
       "         0.24374883,  0.34166668,  0.25724447,  0.52310204,         nan,\n",
       "                nan,         nan,         nan,         nan,         nan,\n",
       "                nan,         nan,         nan,         nan,         nan,\n",
       "                nan,         nan,         nan,         nan,         nan,\n",
       "                nan,         nan,         nan,         nan,         nan,\n",
       "                nan,         nan,         nan,         nan,         nan,\n",
       "                nan,         nan,         nan,         nan,         nan,\n",
       "                nan,         nan,         nan,         nan,         nan],\n",
       "       [ 0.45286424,  0.44917451,  0.4421809 ,  0.41750057,  0.42171635,\n",
       "         0.78498048,         nan,         nan,         nan,         nan,\n",
       "         0.45313917,  0.44945841,  0.44387469,  0.42898984,  0.36875974,\n",
       "         0.61737297,         nan,         nan,         nan,         nan,\n",
       "         0.4553597 ,  0.44937485,  0.44218977,  0.44458285,  0.50072145,\n",
       "                nan,         nan,         nan,         nan,         nan,\n",
       "         0.45571545,  0.44557505,  0.43027375,  0.43182561,  0.50585728,\n",
       "                nan,         nan,         nan,         nan,         nan,\n",
       "         0.45055075,  0.43685473,  0.38728355,  0.43724463,  0.65402326,\n",
       "                nan,         nan,         nan,         nan,         nan,\n",
       "         0.44952411,  0.46432696,  0.4507963 ,  0.4125198 ,  0.57730653,\n",
       "                nan,         nan,         nan,         nan,         nan,\n",
       "         0.56849106,  0.74123904,  0.62693665,  0.83039137,         nan,\n",
       "                nan,         nan,         nan,         nan,         nan,\n",
       "                nan,         nan,         nan,         nan,         nan,\n",
       "                nan,         nan,         nan,         nan,         nan,\n",
       "                nan,         nan,         nan,         nan,         nan,\n",
       "                nan,         nan,         nan,         nan,         nan,\n",
       "                nan,         nan,         nan,         nan,         nan,\n",
       "                nan,         nan,         nan,         nan,         nan],\n",
       "       [ 0.12802525,  0.08993237,  0.09908428,  0.10975248,  0.10211058,\n",
       "         0.21438357,         nan,         nan,         nan,         nan,\n",
       "         0.08899132,  0.09441832,  0.10335615,  0.14997005,  0.13272745,\n",
       "         0.21461417,         nan,         nan,         nan,         nan,\n",
       "         0.09600386,  0.10169862,  0.11045476,  0.1266806 ,  0.18489567,\n",
       "                nan,         nan,         nan,         nan,         nan,\n",
       "         0.18477838,  0.10686689,  0.11201739,  0.13498674,  0.05359363,\n",
       "                nan,         nan,         nan,         nan,         nan,\n",
       "         0.17547887,  0.12007964,  0.09447173,  0.24941715,  0.25993348,\n",
       "                nan,         nan,         nan,         nan,         nan,\n",
       "         0.11493771,  0.23623915,  0.11279324,  0.27126328,  0.29596478,\n",
       "                nan,         nan,         nan,         nan,         nan,\n",
       "         0.32598164,  0.42735701,  0.28852536,  0.55383968,         nan,\n",
       "                nan,         nan,         nan,         nan,         nan,\n",
       "                nan,         nan,         nan,         nan,         nan,\n",
       "                nan,         nan,         nan,         nan,         nan,\n",
       "                nan,         nan,         nan,         nan,         nan,\n",
       "                nan,         nan,         nan,         nan,         nan,\n",
       "                nan,         nan,         nan,         nan,         nan,\n",
       "                nan,         nan,         nan,         nan,         nan],\n",
       "       [ 0.50994298,  0.51262711,  0.5186867 ,  0.52734471,  0.50969116,\n",
       "         0.63323517,         nan,         nan,         nan,         nan,\n",
       "         0.51672148,  0.51767039,  0.5240452 ,  0.53678211,  0.550171  ,\n",
       "         0.64698175,         nan,         nan,         nan,         nan,\n",
       "         0.52607677,  0.52885898,  0.53409966,  0.54987511,  0.60984967,\n",
       "                nan,         nan,         nan,         nan,         nan,\n",
       "         0.5358173 ,  0.53859666,  0.54008677,  0.53982051,  0.50245489,\n",
       "                nan,         nan,         nan,         nan,         nan,\n",
       "         0.52891643,  0.53290623,  0.53367449,  0.52450887,  0.61677275,\n",
       "                nan,         nan,         nan,         nan,         nan,\n",
       "         0.52929438,  0.52387408,  0.50426528,  0.52492855,  0.73258584,\n",
       "                nan,         nan,         nan,         nan,         nan,\n",
       "         0.74456671,  0.84552261,  0.72895603,  0.97952633,         nan,\n",
       "                nan,         nan,         nan,         nan,         nan,\n",
       "                nan,         nan,         nan,         nan,         nan,\n",
       "                nan,         nan,         nan,         nan,         nan,\n",
       "                nan,         nan,         nan,         nan,         nan,\n",
       "                nan,         nan,         nan,         nan,         nan,\n",
       "                nan,         nan,         nan,         nan,         nan,\n",
       "                nan,         nan,         nan,         nan,         nan],\n",
       "       [ 0.23882882,  0.08385769,  0.2935573 ,  0.04708469,  0.08919464,\n",
       "         0.12595609,         nan,         nan,         nan,         nan,\n",
       "         0.33068033,  0.0200754 ,  0.09037257,  0.12442424,  0.08615433,\n",
       "         0.30730283,         nan,         nan,         nan,         nan,\n",
       "         0.30636958,  0.23064895,  0.16780573,  0.22331277,  0.22508178,\n",
       "                nan,         nan,         nan,         nan,         nan,\n",
       "         0.26712149,  0.23729894,  0.25580384,  0.11737018,  0.19029074,\n",
       "                nan,         nan,         nan,         nan,         nan,\n",
       "         0.27328713,  0.27299126,  0.29744269,  0.07984004,  0.31190742,\n",
       "                nan,         nan,         nan,         nan,         nan,\n",
       "         0.25624576,  0.25374362,  0.22695553,  0.31025735,  0.1570021 ,\n",
       "                nan,         nan,         nan,         nan,         nan,\n",
       "         0.23389009,  0.20190734,  0.26034413,  0.07782864,         nan,\n",
       "                nan,         nan,         nan,         nan,         nan,\n",
       "                nan,         nan,         nan,         nan,         nan,\n",
       "                nan,         nan,         nan,         nan,         nan,\n",
       "                nan,         nan,         nan,         nan,         nan,\n",
       "                nan,         nan,         nan,         nan,         nan,\n",
       "                nan,         nan,         nan,         nan,         nan,\n",
       "                nan,         nan,         nan,         nan,         nan],\n",
       "       [ 0.48934261,  0.48803605,  0.4830803 ,  0.47084632,  0.48952001,\n",
       "         0.48181195,         nan,         nan,         nan,         nan,\n",
       "         0.49268897,  0.4882452 ,  0.48678132,  0.49780523,  0.48468431,\n",
       "         0.48385816,         nan,         nan,         nan,         nan,\n",
       "         0.49400313,  0.48632661,  0.48153973,  0.47741552,  0.49680084,\n",
       "                nan,         nan,         nan,         nan,         nan,\n",
       "         0.48136449,  0.48802193,  0.48158496,  0.49106774,  0.48151593,\n",
       "                nan,         nan,         nan,         nan,         nan,\n",
       "                nan,         nan,         nan,         nan,         nan,\n",
       "                nan,         nan,         nan,         nan,         nan,\n",
       "                nan,         nan,         nan,         nan,         nan,\n",
       "                nan,         nan,         nan,         nan,         nan,\n",
       "                nan,         nan,         nan,         nan,         nan,\n",
       "                nan,         nan,         nan,         nan,         nan,\n",
       "                nan,         nan,         nan,         nan,         nan,\n",
       "                nan,         nan,         nan,         nan,         nan,\n",
       "                nan,         nan,         nan,         nan,         nan,\n",
       "                nan,         nan,         nan,         nan,         nan,\n",
       "                nan,         nan,         nan,         nan,         nan,\n",
       "                nan,         nan,         nan,         nan,         nan]])"
      ]
     },
     "execution_count": 23,
     "metadata": {},
     "output_type": "execute_result"
    }
   ],
   "source": [
    "d1"
   ]
  },
  {
   "cell_type": "code",
   "execution_count": 24,
   "metadata": {},
   "outputs": [],
   "source": [
    "particles = intial_conditions.create_particles(context=context)\n"
   ]
  },
  {
   "cell_type": "code",
   "execution_count": 25,
   "metadata": {},
   "outputs": [],
   "source": [
    "chk = xe.Checkpoint(\n",
    "    particles_config=particle_config,\n",
    "    lhc_config=lhc_config,\n",
    "    run_config=run_config,\n",
    "\n",
    "    particles_list = [\n",
    "        particles.to_dict()\n",
    "    ]\n",
    ")\n",
    "\n",
    "chk_nochk = xe.Checkpoint(\n",
    "    particles_config=particle_config,\n",
    "    lhc_config=lhc_config,\n",
    "    run_config=run_config_nochk,\n",
    "\n",
    "    particles_list=[\n",
    "        particles.to_dict()\n",
    "    ]\n",
    ")\n"
   ]
  },
  {
   "cell_type": "code",
   "execution_count": 26,
   "metadata": {},
   "outputs": [],
   "source": [
    "output = \"rem.hdf5\"\n",
    "output_nochk = \"rem_nochk.hdf5\""
   ]
  },
  {
   "cell_type": "code",
   "execution_count": 27,
   "metadata": {},
   "outputs": [],
   "source": [
    "# if output exists, remove it\n",
    "if os.path.exists(output):\n",
    "    os.remove(output)\n",
    "\n",
    "if os.path.exists(output_nochk):\n",
    "    os.remove(output_nochk)"
   ]
  },
  {
   "cell_type": "code",
   "execution_count": 28,
   "metadata": {},
   "outputs": [
    {
     "name": "stdout",
     "output_type": "stream",
     "text": [
      "generating ./16f47b9cf3b840ae8bc50eeeb4a8d6ec.c\n",
      "the current directory is '/home/camontan/Insync/carlo.montanari3@studio.unibo.it/OneDrive_Biz/projects/definitive_dyn_indicators/jobs/IPAC_LHC'\n",
      "running build_ext\n",
      "building '16f47b9cf3b840ae8bc50eeeb4a8d6ec' extension\n",
      "gcc -pthread -B /home/camontan/anaconda3/compiler_compat -Wl,--sysroot=/ -Wsign-compare -DNDEBUG -g -fwrapv -O3 -Wall -Wstrict-prototypes -fPIC -I/home/camontan/anaconda3/include/python3.8 -c 16f47b9cf3b840ae8bc50eeeb4a8d6ec.c -o ./16f47b9cf3b840ae8bc50eeeb4a8d6ec.o -std=c99 -O3 -Wno-unused-function -fopenmp\n",
      "gcc -pthread -shared -B /home/camontan/anaconda3/compiler_compat -L/home/camontan/anaconda3/lib -Wl,-rpath=/home/camontan/anaconda3/lib -Wl,--no-as-needed -Wl,--sysroot=/ ./16f47b9cf3b840ae8bc50eeeb4a8d6ec.o -o ./16f47b9cf3b840ae8bc50eeeb4a8d6ec.cpython-38-x86_64-linux-gnu.so -std=c99 -O3 -fopenmp\n"
     ]
    },
    {
     "name": "stderr",
     "output_type": "stream",
     "text": [
      " 33%|███▎      | 1/3 [00:00<00:01,  1.35it/s]\n"
     ]
    },
    {
     "name": "stdout",
     "output_type": "stream",
     "text": [
      "generating ./34908fe6e6bc4d20913ce4eb8d067c96.c\n",
      "the current directory is '/home/camontan/Insync/carlo.montanari3@studio.unibo.it/OneDrive_Biz/projects/definitive_dyn_indicators/jobs/IPAC_LHC'\n",
      "running build_ext\n",
      "building '34908fe6e6bc4d20913ce4eb8d067c96' extension\n",
      "gcc -pthread -B /home/camontan/anaconda3/compiler_compat -Wl,--sysroot=/ -Wsign-compare -DNDEBUG -g -fwrapv -O3 -Wall -Wstrict-prototypes -fPIC -I/home/camontan/anaconda3/include/python3.8 -c 34908fe6e6bc4d20913ce4eb8d067c96.c -o ./34908fe6e6bc4d20913ce4eb8d067c96.o -std=c99 -O3 -Wno-unused-function -fopenmp\n",
      "gcc -pthread -shared -B /home/camontan/anaconda3/compiler_compat -L/home/camontan/anaconda3/lib -Wl,-rpath=/home/camontan/anaconda3/lib -Wl,--no-as-needed -Wl,--sysroot=/ ./34908fe6e6bc4d20913ce4eb8d067c96.o -o ./34908fe6e6bc4d20913ce4eb8d067c96.cpython-38-x86_64-linux-gnu.so -std=c99 -O3 -fopenmp\n"
     ]
    },
    {
     "name": "stderr",
     "output_type": "stream",
     "text": [
      "100%|██████████| 3/3 [00:01<00:00,  2.84it/s]\n"
     ]
    }
   ],
   "source": [
    "while not chk.completed:\n",
    "    chk = xe.track_reverse(chk, output, context)"
   ]
  },
  {
   "cell_type": "code",
   "execution_count": 29,
   "metadata": {},
   "outputs": [
    {
     "name": "stdout",
     "output_type": "stream",
     "text": [
      "generating ./be9ddd3490e04ea8ae8f65f351817f02.c\n",
      "the current directory is '/home/camontan/Insync/carlo.montanari3@studio.unibo.it/OneDrive_Biz/projects/definitive_dyn_indicators/jobs/IPAC_LHC'\n",
      "running build_ext\n",
      "building 'be9ddd3490e04ea8ae8f65f351817f02' extension\n",
      "gcc -pthread -B /home/camontan/anaconda3/compiler_compat -Wl,--sysroot=/ -Wsign-compare -DNDEBUG -g -fwrapv -O3 -Wall -Wstrict-prototypes -fPIC -I/home/camontan/anaconda3/include/python3.8 -c be9ddd3490e04ea8ae8f65f351817f02.c -o ./be9ddd3490e04ea8ae8f65f351817f02.o -std=c99 -O3 -Wno-unused-function -fopenmp\n",
      "gcc -pthread -shared -B /home/camontan/anaconda3/compiler_compat -L/home/camontan/anaconda3/lib -Wl,-rpath=/home/camontan/anaconda3/lib -Wl,--no-as-needed -Wl,--sysroot=/ ./be9ddd3490e04ea8ae8f65f351817f02.o -o ./be9ddd3490e04ea8ae8f65f351817f02.cpython-38-x86_64-linux-gnu.so -std=c99 -O3 -fopenmp\n"
     ]
    },
    {
     "name": "stderr",
     "output_type": "stream",
     "text": [
      "100%|██████████| 2/2 [00:01<00:00,  1.11it/s]\n"
     ]
    }
   ],
   "source": [
    "while not chk_nochk.completed:\n",
    "    chk_nochk = xe.track_reverse(chk_nochk, output_nochk, context)\n"
   ]
  },
  {
   "cell_type": "code",
   "execution_count": 30,
   "metadata": {},
   "outputs": [],
   "source": [
    "with h5py.File(output, \"r\") as file:\n",
    "    d0 = file[f\"reverse/{20}\"][:]\n",
    "\n",
    "with h5py.File(output_nochk, \"r\") as file:\n",
    "    d1 = file[f\"reverse/{20}\"][:]\n"
   ]
  },
  {
   "cell_type": "code",
   "execution_count": 31,
   "metadata": {},
   "outputs": [
    {
     "data": {
      "text/plain": [
       "array([4.23915857e-15, 3.16970112e-15, 4.01050542e-15, 2.03560210e-15,\n",
       "       2.21681822e-15, 9.02113025e-15,            nan,            nan,\n",
       "                  nan,            nan, 4.09946505e-15, 4.07936323e-15,\n",
       "       5.38914807e-15, 2.61656243e-15, 5.93631919e-15, 3.44922912e-15,\n",
       "                  nan,            nan,            nan,            nan,\n",
       "       3.23804170e-15, 1.14203091e-15, 8.11263951e-15, 4.78308818e-15,\n",
       "       6.77779858e-15,            nan,            nan,            nan,\n",
       "                  nan,            nan, 4.42550190e-15, 8.95034769e-15,\n",
       "       9.71309201e-15, 7.33069728e-15, 1.49131771e-14,            nan,\n",
       "                  nan,            nan,            nan,            nan,\n",
       "       7.97727719e-15, 6.07757689e-15, 7.41186363e-15, 2.14717231e-15,\n",
       "       2.46109480e-14,            nan,            nan,            nan,\n",
       "                  nan,            nan, 7.47367343e-15, 1.09541789e-14,\n",
       "       4.27417592e-15, 5.89385702e-12, 2.39884206e-14,            nan,\n",
       "                  nan,            nan,            nan,            nan,\n",
       "       8.10271430e-14, 4.09137900e-14, 6.35780022e-14, 2.84086804e-12,\n",
       "                  nan,            nan,            nan,            nan,\n",
       "                  nan,            nan,            nan,            nan,\n",
       "                  nan,            nan,            nan,            nan,\n",
       "                  nan,            nan,            nan,            nan,\n",
       "                  nan,            nan,            nan,            nan,\n",
       "                  nan,            nan,            nan,            nan,\n",
       "                  nan,            nan,            nan,            nan,\n",
       "                  nan,            nan,            nan,            nan,\n",
       "                  nan,            nan,            nan,            nan])"
      ]
     },
     "execution_count": 31,
     "metadata": {},
     "output_type": "execute_result"
    }
   ],
   "source": [
    "d0"
   ]
  },
  {
   "cell_type": "code",
   "execution_count": 32,
   "metadata": {},
   "outputs": [
    {
     "data": {
      "text/plain": [
       "array([4.23915857e-15, 3.16970112e-15, 4.01050542e-15, 2.03560210e-15,\n",
       "       2.21681822e-15, 9.02113025e-15,            nan,            nan,\n",
       "                  nan,            nan, 4.09946505e-15, 4.07936323e-15,\n",
       "       5.38914807e-15, 2.61656243e-15, 5.93631919e-15, 3.44922912e-15,\n",
       "                  nan,            nan,            nan,            nan,\n",
       "       3.23804170e-15, 1.14203091e-15, 8.11263951e-15, 4.78308818e-15,\n",
       "       6.77779858e-15,            nan,            nan,            nan,\n",
       "                  nan,            nan, 4.42550190e-15, 8.95034769e-15,\n",
       "       9.71309201e-15, 7.33069728e-15, 1.49131771e-14,            nan,\n",
       "                  nan,            nan,            nan,            nan,\n",
       "       7.97727719e-15, 6.07757689e-15, 7.41186363e-15, 2.14717231e-15,\n",
       "       2.46109480e-14,            nan,            nan,            nan,\n",
       "                  nan,            nan, 7.47367343e-15, 1.09541789e-14,\n",
       "       4.27417592e-15, 5.89385702e-12, 2.39884206e-14,            nan,\n",
       "                  nan,            nan,            nan,            nan,\n",
       "       8.10271430e-14, 4.09137900e-14, 6.35780022e-14, 2.84086804e-12,\n",
       "                  nan,            nan,            nan,            nan,\n",
       "                  nan,            nan,            nan,            nan,\n",
       "                  nan,            nan,            nan,            nan,\n",
       "                  nan,            nan,            nan,            nan,\n",
       "                  nan,            nan,            nan,            nan,\n",
       "                  nan,            nan,            nan,            nan,\n",
       "                  nan,            nan,            nan,            nan,\n",
       "                  nan,            nan,            nan,            nan,\n",
       "                  nan,            nan,            nan,            nan])"
      ]
     },
     "execution_count": 32,
     "metadata": {},
     "output_type": "execute_result"
    }
   ],
   "source": [
    "d1"
   ]
  },
  {
   "cell_type": "code",
   "execution_count": 33,
   "metadata": {},
   "outputs": [],
   "source": [
    "particles = intial_conditions.create_particles(context=context)\n",
    "particles_x = displacement_x.create_particles(context=context)\n",
    "particles_y = displacement_y.create_particles(context=context)\n"
   ]
  },
  {
   "cell_type": "code",
   "execution_count": 34,
   "metadata": {},
   "outputs": [],
   "source": [
    "chk = xe.Checkpoint(\n",
    "    particles_config=particle_config,\n",
    "    lhc_config=lhc_config,\n",
    "    run_config=run_config,\n",
    "\n",
    "    particles_list = [\n",
    "        particles.to_dict(),\n",
    "        particles_x.to_dict(),\n",
    "        particles_y.to_dict(),\n",
    "    ]\n",
    ")\n",
    "\n",
    "chk_nochk = xe.Checkpoint(\n",
    "    particles_config=particle_config,\n",
    "    lhc_config=lhc_config,\n",
    "    run_config=run_config_nochk,\n",
    "\n",
    "    particles_list=[\n",
    "        particles.to_dict(),\n",
    "        particles_x.to_dict(),\n",
    "        particles_y.to_dict(),\n",
    "    ]\n",
    ")\n"
   ]
  },
  {
   "cell_type": "code",
   "execution_count": 35,
   "metadata": {},
   "outputs": [],
   "source": [
    "output = \"sali.hdf5\"\n",
    "output_nochk = \"sali_nochk.hdf5\""
   ]
  },
  {
   "cell_type": "code",
   "execution_count": 36,
   "metadata": {},
   "outputs": [],
   "source": [
    "# if output exists, remove it\n",
    "if os.path.exists(output):\n",
    "    os.remove(output)\n",
    "\n",
    "if os.path.exists(output_nochk):\n",
    "    os.remove(output_nochk)"
   ]
  },
  {
   "cell_type": "code",
   "execution_count": 37,
   "metadata": {},
   "outputs": [
    {
     "name": "stdout",
     "output_type": "stream",
     "text": [
      "generating ./4a2c8ceec6664e7ebef5dd75813e20c2.c\n",
      "the current directory is '/home/camontan/Insync/carlo.montanari3@studio.unibo.it/OneDrive_Biz/projects/definitive_dyn_indicators/jobs/IPAC_LHC'\n",
      "running build_ext\n",
      "building '4a2c8ceec6664e7ebef5dd75813e20c2' extension\n",
      "gcc -pthread -B /home/camontan/anaconda3/compiler_compat -Wl,--sysroot=/ -Wsign-compare -DNDEBUG -g -fwrapv -O3 -Wall -Wstrict-prototypes -fPIC -I/home/camontan/anaconda3/include/python3.8 -c 4a2c8ceec6664e7ebef5dd75813e20c2.c -o ./4a2c8ceec6664e7ebef5dd75813e20c2.o -std=c99 -O3 -Wno-unused-function -fopenmp\n",
      "gcc -pthread -shared -B /home/camontan/anaconda3/compiler_compat -L/home/camontan/anaconda3/lib -Wl,-rpath=/home/camontan/anaconda3/lib -Wl,--no-as-needed -Wl,--sysroot=/ ./4a2c8ceec6664e7ebef5dd75813e20c2.o -o ./4a2c8ceec6664e7ebef5dd75813e20c2.cpython-38-x86_64-linux-gnu.so -std=c99 -O3 -fopenmp\n"
     ]
    },
    {
     "name": "stderr",
     "output_type": "stream",
     "text": [
      " 50%|█████     | 2/4 [00:01<00:01,  1.57it/s]\n"
     ]
    },
    {
     "name": "stdout",
     "output_type": "stream",
     "text": [
      "generating ./55853c42acc04bd0b5ca79de4b630b11.c\n",
      "the current directory is '/home/camontan/Insync/carlo.montanari3@studio.unibo.it/OneDrive_Biz/projects/definitive_dyn_indicators/jobs/IPAC_LHC'\n",
      "running build_ext\n",
      "building '55853c42acc04bd0b5ca79de4b630b11' extension\n",
      "gcc -pthread -B /home/camontan/anaconda3/compiler_compat -Wl,--sysroot=/ -Wsign-compare -DNDEBUG -g -fwrapv -O3 -Wall -Wstrict-prototypes -fPIC -I/home/camontan/anaconda3/include/python3.8 -c 55853c42acc04bd0b5ca79de4b630b11.c -o ./55853c42acc04bd0b5ca79de4b630b11.o -std=c99 -O3 -Wno-unused-function -fopenmp\n",
      "gcc -pthread -shared -B /home/camontan/anaconda3/compiler_compat -L/home/camontan/anaconda3/lib -Wl,-rpath=/home/camontan/anaconda3/lib -Wl,--no-as-needed -Wl,--sysroot=/ ./55853c42acc04bd0b5ca79de4b630b11.o -o ./55853c42acc04bd0b5ca79de4b630b11.cpython-38-x86_64-linux-gnu.so -std=c99 -O3 -fopenmp\n"
     ]
    },
    {
     "name": "stderr",
     "output_type": "stream",
     "text": [
      "100%|██████████| 4/4 [00:01<00:00,  3.96it/s]\n"
     ]
    }
   ],
   "source": [
    "while not chk.completed:\n",
    "    chk = xe.track_sali(chk, output, context)"
   ]
  },
  {
   "cell_type": "code",
   "execution_count": 38,
   "metadata": {},
   "outputs": [
    {
     "name": "stdout",
     "output_type": "stream",
     "text": [
      "generating ./1c375aab9ebc4c2f8600143bc751c32c.c\n",
      "the current directory is '/home/camontan/Insync/carlo.montanari3@studio.unibo.it/OneDrive_Biz/projects/definitive_dyn_indicators/jobs/IPAC_LHC'\n",
      "running build_ext\n",
      "building '1c375aab9ebc4c2f8600143bc751c32c' extension\n",
      "gcc -pthread -B /home/camontan/anaconda3/compiler_compat -Wl,--sysroot=/ -Wsign-compare -DNDEBUG -g -fwrapv -O3 -Wall -Wstrict-prototypes -fPIC -I/home/camontan/anaconda3/include/python3.8 -c 1c375aab9ebc4c2f8600143bc751c32c.c -o ./1c375aab9ebc4c2f8600143bc751c32c.o -std=c99 -O3 -Wno-unused-function -fopenmp\n",
      "gcc -pthread -shared -B /home/camontan/anaconda3/compiler_compat -L/home/camontan/anaconda3/lib -Wl,-rpath=/home/camontan/anaconda3/lib -Wl,--no-as-needed -Wl,--sysroot=/ ./1c375aab9ebc4c2f8600143bc751c32c.o -o ./1c375aab9ebc4c2f8600143bc751c32c.cpython-38-x86_64-linux-gnu.so -std=c99 -O3 -fopenmp\n"
     ]
    },
    {
     "name": "stderr",
     "output_type": "stream",
     "text": [
      "100%|██████████| 3/3 [00:02<00:00,  1.39it/s]\n"
     ]
    }
   ],
   "source": [
    "while not chk_nochk.completed:\n",
    "    chk_nochk = xe.track_sali(chk_nochk, output_nochk, context)\n"
   ]
  },
  {
   "cell_type": "code",
   "execution_count": 39,
   "metadata": {},
   "outputs": [],
   "source": [
    "with h5py.File(output, \"r\") as file:\n",
    "    d0 = file[f\"sali/{20}\"][:]\n",
    "\n",
    "with h5py.File(output_nochk, \"r\") as file:\n",
    "    d1 = file[f\"sali/{20}\"][:]\n"
   ]
  },
  {
   "cell_type": "code",
   "execution_count": 40,
   "metadata": {},
   "outputs": [
    {
     "data": {
      "text/plain": [
       "array([0.29331355, 1.39718972, 1.40380148, 1.37555624, 1.32158718,\n",
       "       0.19277663,        nan,        nan,        nan,        nan,\n",
       "       1.40049046, 1.36775998, 1.35014068, 0.32068767, 1.08633083,\n",
       "       1.24557504,        nan,        nan,        nan,        nan,\n",
       "       1.40638219, 1.39281484, 1.2518883 , 1.15638448, 1.2159181 ,\n",
       "              nan,        nan,        nan,        nan,        nan,\n",
       "       0.1344216 , 1.29362541, 1.00230807, 0.24154999, 1.207007  ,\n",
       "              nan,        nan,        nan,        nan,        nan,\n",
       "              nan,        nan,        nan,        nan,        nan,\n",
       "              nan,        nan,        nan,        nan,        nan,\n",
       "              nan,        nan,        nan,        nan,        nan,\n",
       "              nan,        nan,        nan,        nan,        nan,\n",
       "              nan,        nan,        nan,        nan,        nan,\n",
       "              nan,        nan,        nan,        nan,        nan,\n",
       "              nan,        nan,        nan,        nan,        nan,\n",
       "              nan,        nan,        nan,        nan,        nan,\n",
       "              nan,        nan,        nan,        nan,        nan,\n",
       "              nan,        nan,        nan,        nan,        nan,\n",
       "              nan,        nan,        nan,        nan,        nan,\n",
       "              nan,        nan,        nan,        nan,        nan])"
      ]
     },
     "execution_count": 40,
     "metadata": {},
     "output_type": "execute_result"
    }
   ],
   "source": [
    "d0"
   ]
  },
  {
   "cell_type": "code",
   "execution_count": 41,
   "metadata": {},
   "outputs": [
    {
     "data": {
      "text/plain": [
       "array([0.29331355, 1.39718972, 1.40380148, 1.37555624, 1.32158718,\n",
       "       0.19277663,        nan,        nan,        nan,        nan,\n",
       "       1.40049046, 1.36775998, 1.35014068, 0.32068767, 1.08633083,\n",
       "       1.24557504,        nan,        nan,        nan,        nan,\n",
       "       1.40638219, 1.39281484, 1.2518883 , 1.15638448, 1.2159181 ,\n",
       "              nan,        nan,        nan,        nan,        nan,\n",
       "       0.1344216 , 1.29362541, 1.00230807, 0.24154999, 1.207007  ,\n",
       "              nan,        nan,        nan,        nan,        nan,\n",
       "              nan,        nan,        nan,        nan,        nan,\n",
       "              nan,        nan,        nan,        nan,        nan,\n",
       "              nan,        nan,        nan,        nan,        nan,\n",
       "              nan,        nan,        nan,        nan,        nan,\n",
       "              nan,        nan,        nan,        nan,        nan,\n",
       "              nan,        nan,        nan,        nan,        nan,\n",
       "              nan,        nan,        nan,        nan,        nan,\n",
       "              nan,        nan,        nan,        nan,        nan,\n",
       "              nan,        nan,        nan,        nan,        nan,\n",
       "              nan,        nan,        nan,        nan,        nan,\n",
       "              nan,        nan,        nan,        nan,        nan,\n",
       "              nan,        nan,        nan,        nan,        nan])"
      ]
     },
     "execution_count": 41,
     "metadata": {},
     "output_type": "execute_result"
    }
   ],
   "source": [
    "d1"
   ]
  },
  {
   "cell_type": "code",
   "execution_count": 7,
   "metadata": {},
   "outputs": [],
   "source": [
    "particles = intial_conditions.create_particles(context=context)\n",
    "particles_x = displacement_x.create_particles(context=context)\n",
    "particles_px = displacement_px.create_particles(context=context)\n",
    "particles_y = displacement_y.create_particles(context=context)\n",
    "particles_py = displacement_py.create_particles(context=context)\n"
   ]
  },
  {
   "cell_type": "code",
   "execution_count": 8,
   "metadata": {},
   "outputs": [],
   "source": [
    "chk = xe.Checkpoint(\n",
    "    particles_config=particle_config,\n",
    "    lhc_config=lhc_config,\n",
    "    run_config=run_config,\n",
    "\n",
    "    particles_list = [\n",
    "        particles.to_dict(),\n",
    "        particles_x.to_dict(),\n",
    "        particles_px.to_dict(),\n",
    "        particles_y.to_dict(),\n",
    "        particles_py.to_dict(),\n",
    "    ]\n",
    ")\n",
    "\n",
    "chk_nochk = xe.Checkpoint(\n",
    "    particles_config=particle_config,\n",
    "    lhc_config=lhc_config,\n",
    "    run_config=run_config_nochk,\n",
    "\n",
    "    particles_list=[\n",
    "        particles.to_dict(),\n",
    "        particles_x.to_dict(),\n",
    "        particles_px.to_dict(),\n",
    "        particles_y.to_dict(),\n",
    "        particles_py.to_dict(),\n",
    "    ]\n",
    ")\n"
   ]
  },
  {
   "cell_type": "code",
   "execution_count": 9,
   "metadata": {},
   "outputs": [],
   "source": [
    "output = \"gali4.hdf5\"\n",
    "output_nochk = \"gali4_nochk.hdf5\""
   ]
  },
  {
   "cell_type": "code",
   "execution_count": 10,
   "metadata": {},
   "outputs": [],
   "source": [
    "# if output exists, remove it\n",
    "if os.path.exists(output):\n",
    "    os.remove(output)\n",
    "\n",
    "if os.path.exists(output_nochk):\n",
    "    os.remove(output_nochk)"
   ]
  },
  {
   "cell_type": "code",
   "execution_count": 11,
   "metadata": {},
   "outputs": [
    {
     "name": "stdout",
     "output_type": "stream",
     "text": [
      "generating ./699d77a5926b463f8b6b7b34f1410322.c\n",
      "the current directory is '/home/camontan/Insync/carlo.montanari3@studio.unibo.it/OneDrive_Biz/projects/definitive_dyn_indicators/jobs/IPAC_LHC'\n",
      "running build_ext\n",
      "building '699d77a5926b463f8b6b7b34f1410322' extension\n",
      "gcc -pthread -B /home/camontan/anaconda3/compiler_compat -Wl,--sysroot=/ -Wsign-compare -DNDEBUG -g -fwrapv -O3 -Wall -Wstrict-prototypes -fPIC -I/home/camontan/anaconda3/include/python3.8 -c 699d77a5926b463f8b6b7b34f1410322.c -o ./699d77a5926b463f8b6b7b34f1410322.o -std=c99 -O3 -Wno-unused-function -fopenmp\n",
      "gcc -pthread -shared -B /home/camontan/anaconda3/compiler_compat -L/home/camontan/anaconda3/lib -Wl,-rpath=/home/camontan/anaconda3/lib -Wl,--no-as-needed -Wl,--sysroot=/ ./699d77a5926b463f8b6b7b34f1410322.o -o ./699d77a5926b463f8b6b7b34f1410322.cpython-38-x86_64-linux-gnu.so -std=c99 -O3 -fopenmp\n"
     ]
    },
    {
     "name": "stderr",
     "output_type": "stream",
     "text": [
      " 50%|█████     | 2/4 [00:02<00:02,  1.05s/it]\n"
     ]
    },
    {
     "name": "stdout",
     "output_type": "stream",
     "text": [
      "generating ./612da4e4fd614f07b6c26f7eba0aea8c.c\n",
      "the current directory is '/home/camontan/Insync/carlo.montanari3@studio.unibo.it/OneDrive_Biz/projects/definitive_dyn_indicators/jobs/IPAC_LHC'\n",
      "running build_ext\n",
      "building '612da4e4fd614f07b6c26f7eba0aea8c' extension\n",
      "gcc -pthread -B /home/camontan/anaconda3/compiler_compat -Wl,--sysroot=/ -Wsign-compare -DNDEBUG -g -fwrapv -O3 -Wall -Wstrict-prototypes -fPIC -I/home/camontan/anaconda3/include/python3.8 -c 612da4e4fd614f07b6c26f7eba0aea8c.c -o ./612da4e4fd614f07b6c26f7eba0aea8c.o -std=c99 -O3 -Wno-unused-function -fopenmp\n",
      "gcc -pthread -shared -B /home/camontan/anaconda3/compiler_compat -L/home/camontan/anaconda3/lib -Wl,-rpath=/home/camontan/anaconda3/lib -Wl,--no-as-needed -Wl,--sysroot=/ ./612da4e4fd614f07b6c26f7eba0aea8c.o -o ./612da4e4fd614f07b6c26f7eba0aea8c.cpython-38-x86_64-linux-gnu.so -std=c99 -O3 -fopenmp\n"
     ]
    },
    {
     "name": "stderr",
     "output_type": "stream",
     "text": [
      "100%|██████████| 4/4 [00:01<00:00,  2.63it/s]\n"
     ]
    }
   ],
   "source": [
    "while not chk.completed:\n",
    "    chk = xe.track_gali_4(chk, output, context)"
   ]
  },
  {
   "cell_type": "code",
   "execution_count": 12,
   "metadata": {},
   "outputs": [
    {
     "name": "stdout",
     "output_type": "stream",
     "text": [
      "generating ./3f0c88732fa14a7896676206ae4aa950.c\n",
      "the current directory is '/home/camontan/Insync/carlo.montanari3@studio.unibo.it/OneDrive_Biz/projects/definitive_dyn_indicators/jobs/IPAC_LHC'\n",
      "running build_ext\n",
      "building '3f0c88732fa14a7896676206ae4aa950' extension\n",
      "gcc -pthread -B /home/camontan/anaconda3/compiler_compat -Wl,--sysroot=/ -Wsign-compare -DNDEBUG -g -fwrapv -O3 -Wall -Wstrict-prototypes -fPIC -I/home/camontan/anaconda3/include/python3.8 -c 3f0c88732fa14a7896676206ae4aa950.c -o ./3f0c88732fa14a7896676206ae4aa950.o -std=c99 -O3 -Wno-unused-function -fopenmp\n",
      "gcc -pthread -shared -B /home/camontan/anaconda3/compiler_compat -L/home/camontan/anaconda3/lib -Wl,-rpath=/home/camontan/anaconda3/lib -Wl,--no-as-needed -Wl,--sysroot=/ ./3f0c88732fa14a7896676206ae4aa950.o -o ./3f0c88732fa14a7896676206ae4aa950.cpython-38-x86_64-linux-gnu.so -std=c99 -O3 -fopenmp\n"
     ]
    },
    {
     "name": "stderr",
     "output_type": "stream",
     "text": [
      "100%|██████████| 3/3 [00:03<00:00,  1.19s/it]\n"
     ]
    }
   ],
   "source": [
    "while not chk_nochk.completed:\n",
    "    chk_nochk = xe.track_gali_4(chk_nochk, output_nochk, context)\n"
   ]
  },
  {
   "cell_type": "code",
   "execution_count": 13,
   "metadata": {},
   "outputs": [],
   "source": [
    "with h5py.File(output, \"r\") as file:\n",
    "    d0 = file[f\"gali/{20}\"][:]\n",
    "\n",
    "with h5py.File(output_nochk, \"r\") as file:\n",
    "    d1 = file[f\"gali/{20}\"][:]\n"
   ]
  },
  {
   "cell_type": "code",
   "execution_count": 14,
   "metadata": {},
   "outputs": [
    {
     "data": {
      "text/plain": [
       "array([3.84467742e-05, 4.98220692e-05, 3.83668646e-06, 4.24936131e-05,\n",
       "       1.54854373e-04, 8.53725122e-09,            nan,            nan,\n",
       "                  nan,            nan, 1.07866264e-06, 9.78126098e-04,\n",
       "       1.33304394e-05, 7.69254723e-05, 1.09798117e-03, 5.30519293e-06,\n",
       "                  nan,            nan,            nan,            nan,\n",
       "       1.06586447e-04, 2.05710361e-03, 6.77735262e-05, 8.08913084e-06,\n",
       "       6.78154423e-05,            nan,            nan,            nan,\n",
       "                  nan,            nan, 3.00482547e-05, 1.62623559e-04,\n",
       "       1.01736439e-03, 2.37339822e-05, 9.89648639e-07,            nan,\n",
       "                  nan,            nan,            nan,            nan,\n",
       "                  nan,            nan,            nan,            nan,\n",
       "                  nan,            nan,            nan,            nan,\n",
       "                  nan,            nan,            nan,            nan,\n",
       "                  nan,            nan,            nan,            nan,\n",
       "                  nan,            nan,            nan,            nan,\n",
       "                  nan,            nan,            nan,            nan,\n",
       "                  nan,            nan,            nan,            nan,\n",
       "                  nan,            nan,            nan,            nan,\n",
       "                  nan,            nan,            nan,            nan,\n",
       "                  nan,            nan,            nan,            nan,\n",
       "                  nan,            nan,            nan,            nan,\n",
       "                  nan,            nan,            nan,            nan,\n",
       "                  nan,            nan,            nan,            nan,\n",
       "                  nan,            nan,            nan,            nan,\n",
       "                  nan,            nan,            nan,            nan])"
      ]
     },
     "execution_count": 14,
     "metadata": {},
     "output_type": "execute_result"
    }
   ],
   "source": [
    "d0"
   ]
  },
  {
   "cell_type": "code",
   "execution_count": 15,
   "metadata": {},
   "outputs": [
    {
     "data": {
      "text/plain": [
       "array([3.84467742e-05, 4.98220692e-05, 3.83668646e-06, 4.24936131e-05,\n",
       "       1.54854373e-04, 8.53725122e-09,            nan,            nan,\n",
       "                  nan,            nan, 1.07866264e-06, 9.78126098e-04,\n",
       "       1.33304394e-05, 7.69254723e-05, 1.09798117e-03, 5.30519293e-06,\n",
       "                  nan,            nan,            nan,            nan,\n",
       "       1.06586447e-04, 2.05710361e-03, 6.77735262e-05, 8.08913084e-06,\n",
       "       6.78154423e-05,            nan,            nan,            nan,\n",
       "                  nan,            nan, 3.00482547e-05, 1.62623559e-04,\n",
       "       1.01736439e-03, 2.37339822e-05, 9.89648639e-07,            nan,\n",
       "                  nan,            nan,            nan,            nan,\n",
       "                  nan,            nan,            nan,            nan,\n",
       "                  nan,            nan,            nan,            nan,\n",
       "                  nan,            nan,            nan,            nan,\n",
       "                  nan,            nan,            nan,            nan,\n",
       "                  nan,            nan,            nan,            nan,\n",
       "                  nan,            nan,            nan,            nan,\n",
       "                  nan,            nan,            nan,            nan,\n",
       "                  nan,            nan,            nan,            nan,\n",
       "                  nan,            nan,            nan,            nan,\n",
       "                  nan,            nan,            nan,            nan,\n",
       "                  nan,            nan,            nan,            nan,\n",
       "                  nan,            nan,            nan,            nan,\n",
       "                  nan,            nan,            nan,            nan,\n",
       "                  nan,            nan,            nan,            nan,\n",
       "                  nan,            nan,            nan,            nan])"
      ]
     },
     "execution_count": 15,
     "metadata": {},
     "output_type": "execute_result"
    }
   ],
   "source": [
    "d1"
   ]
  },
  {
   "cell_type": "code",
   "execution_count": 16,
   "metadata": {},
   "outputs": [],
   "source": [
    "particles = intial_conditions.create_particles(context=context)\n",
    "particles_x = displacement_x.create_particles(context=context)\n",
    "particles_px = displacement_px.create_particles(context=context)\n",
    "particles_y = displacement_y.create_particles(context=context)\n",
    "particles_py = displacement_py.create_particles(context=context)\n",
    "particles_z = displacement_zeta.create_particles(context=context)\n",
    "particles_d = displacement_delta.create_particles(context=context)\n"
   ]
  },
  {
   "cell_type": "code",
   "execution_count": 17,
   "metadata": {},
   "outputs": [],
   "source": [
    "chk = xe.Checkpoint(\n",
    "    particles_config=particle_config,\n",
    "    lhc_config=lhc_config,\n",
    "    run_config=run_config,\n",
    "\n",
    "    particles_list = [\n",
    "        particles.to_dict(),\n",
    "        particles_x.to_dict(),\n",
    "        particles_px.to_dict(),\n",
    "        particles_y.to_dict(),\n",
    "        particles_py.to_dict(),\n",
    "        particles_z.to_dict(),\n",
    "        particles_d.to_dict()\n",
    "    ]\n",
    ")\n",
    "\n",
    "chk_nochk = xe.Checkpoint(\n",
    "    particles_config=particle_config,\n",
    "    lhc_config=lhc_config,\n",
    "    run_config=run_config_nochk,\n",
    "\n",
    "    particles_list=[\n",
    "        particles.to_dict(),\n",
    "        particles_x.to_dict(),\n",
    "        particles_px.to_dict(),\n",
    "        particles_y.to_dict(),\n",
    "        particles_py.to_dict(),\n",
    "        particles_z.to_dict(),\n",
    "        particles_d.to_dict()\n",
    "    ]\n",
    ")\n"
   ]
  },
  {
   "cell_type": "code",
   "execution_count": 18,
   "metadata": {},
   "outputs": [],
   "source": [
    "output = \"gali.hdf5\"\n",
    "output_nochk = \"gali_nochk.hdf5\""
   ]
  },
  {
   "cell_type": "code",
   "execution_count": 19,
   "metadata": {},
   "outputs": [],
   "source": [
    "# if output exists, remove it\n",
    "if os.path.exists(output):\n",
    "    os.remove(output)\n",
    "\n",
    "if os.path.exists(output_nochk):\n",
    "    os.remove(output_nochk)"
   ]
  },
  {
   "cell_type": "code",
   "execution_count": 20,
   "metadata": {},
   "outputs": [
    {
     "name": "stdout",
     "output_type": "stream",
     "text": [
      "generating ./2e20dd1026f249f29f1034f5709e3b80.c\n",
      "the current directory is '/home/camontan/Insync/carlo.montanari3@studio.unibo.it/OneDrive_Biz/projects/definitive_dyn_indicators/jobs/IPAC_LHC'\n",
      "running build_ext\n",
      "building '2e20dd1026f249f29f1034f5709e3b80' extension\n",
      "gcc -pthread -B /home/camontan/anaconda3/compiler_compat -Wl,--sysroot=/ -Wsign-compare -DNDEBUG -g -fwrapv -O3 -Wall -Wstrict-prototypes -fPIC -I/home/camontan/anaconda3/include/python3.8 -c 2e20dd1026f249f29f1034f5709e3b80.c -o ./2e20dd1026f249f29f1034f5709e3b80.o -std=c99 -O3 -Wno-unused-function -fopenmp\n",
      "gcc -pthread -shared -B /home/camontan/anaconda3/compiler_compat -L/home/camontan/anaconda3/lib -Wl,-rpath=/home/camontan/anaconda3/lib -Wl,--no-as-needed -Wl,--sysroot=/ ./2e20dd1026f249f29f1034f5709e3b80.o -o ./2e20dd1026f249f29f1034f5709e3b80.cpython-38-x86_64-linux-gnu.so -std=c99 -O3 -fopenmp\n"
     ]
    },
    {
     "name": "stderr",
     "output_type": "stream",
     "text": [
      " 50%|█████     | 2/4 [00:03<00:03,  1.58s/it]\n"
     ]
    },
    {
     "name": "stdout",
     "output_type": "stream",
     "text": [
      "generating ./5cc5adcf7244475a9c87a7c8c5c54969.c\n",
      "the current directory is '/home/camontan/Insync/carlo.montanari3@studio.unibo.it/OneDrive_Biz/projects/definitive_dyn_indicators/jobs/IPAC_LHC'\n",
      "running build_ext\n",
      "building '5cc5adcf7244475a9c87a7c8c5c54969' extension\n",
      "gcc -pthread -B /home/camontan/anaconda3/compiler_compat -Wl,--sysroot=/ -Wsign-compare -DNDEBUG -g -fwrapv -O3 -Wall -Wstrict-prototypes -fPIC -I/home/camontan/anaconda3/include/python3.8 -c 5cc5adcf7244475a9c87a7c8c5c54969.c -o ./5cc5adcf7244475a9c87a7c8c5c54969.o -std=c99 -O3 -Wno-unused-function -fopenmp\n",
      "gcc -pthread -shared -B /home/camontan/anaconda3/compiler_compat -L/home/camontan/anaconda3/lib -Wl,-rpath=/home/camontan/anaconda3/lib -Wl,--no-as-needed -Wl,--sysroot=/ ./5cc5adcf7244475a9c87a7c8c5c54969.o -o ./5cc5adcf7244475a9c87a7c8c5c54969.cpython-38-x86_64-linux-gnu.so -std=c99 -O3 -fopenmp\n"
     ]
    },
    {
     "name": "stderr",
     "output_type": "stream",
     "text": [
      "100%|██████████| 4/4 [00:02<00:00,  1.92it/s]\n"
     ]
    }
   ],
   "source": [
    "while not chk.completed:\n",
    "    chk = xe.track_gali_6(chk, output, context)"
   ]
  },
  {
   "cell_type": "code",
   "execution_count": 21,
   "metadata": {},
   "outputs": [
    {
     "name": "stdout",
     "output_type": "stream",
     "text": [
      "generating ./d489ec17c7fd45f6b7038d886b01d79c.c\n",
      "the current directory is '/home/camontan/Insync/carlo.montanari3@studio.unibo.it/OneDrive_Biz/projects/definitive_dyn_indicators/jobs/IPAC_LHC'\n",
      "running build_ext\n",
      "building 'd489ec17c7fd45f6b7038d886b01d79c' extension\n",
      "gcc -pthread -B /home/camontan/anaconda3/compiler_compat -Wl,--sysroot=/ -Wsign-compare -DNDEBUG -g -fwrapv -O3 -Wall -Wstrict-prototypes -fPIC -I/home/camontan/anaconda3/include/python3.8 -c d489ec17c7fd45f6b7038d886b01d79c.c -o ./d489ec17c7fd45f6b7038d886b01d79c.o -std=c99 -O3 -Wno-unused-function -fopenmp\n",
      "gcc -pthread -shared -B /home/camontan/anaconda3/compiler_compat -L/home/camontan/anaconda3/lib -Wl,-rpath=/home/camontan/anaconda3/lib -Wl,--no-as-needed -Wl,--sysroot=/ ./d489ec17c7fd45f6b7038d886b01d79c.o -o ./d489ec17c7fd45f6b7038d886b01d79c.cpython-38-x86_64-linux-gnu.so -std=c99 -O3 -fopenmp\n"
     ]
    },
    {
     "name": "stderr",
     "output_type": "stream",
     "text": [
      "100%|██████████| 3/3 [00:04<00:00,  1.59s/it]\n"
     ]
    }
   ],
   "source": [
    "while not chk_nochk.completed:\n",
    "    chk_nochk = xe.track_gali_6(chk_nochk, output_nochk, context)\n"
   ]
  },
  {
   "cell_type": "code",
   "execution_count": 25,
   "metadata": {},
   "outputs": [],
   "source": [
    "with h5py.File(output, \"r\") as file:\n",
    "    d0 = file[f\"gali/{20}\"][:]\n",
    "\n",
    "with h5py.File(output_nochk, \"r\") as file:\n",
    "    d1 = file[f\"gali/{10}\"][:]\n"
   ]
  },
  {
   "cell_type": "code",
   "execution_count": 26,
   "metadata": {},
   "outputs": [
    {
     "data": {
      "text/plain": [
       "array([1.25228798e-11, 1.02206861e-11, 1.97666354e-13, 6.97007690e-12,\n",
       "       3.82256152e-11, 2.04994244e-16,            nan,            nan,\n",
       "                  nan,            nan, 2.82774119e-14, 7.03939408e-10,\n",
       "       7.47239035e-12, 8.22095718e-12, 2.36845637e-10, 4.19628648e-14,\n",
       "                  nan,            nan,            nan,            nan,\n",
       "       1.04012995e-10, 3.57324291e-10, 5.87099808e-11, 1.89970446e-13,\n",
       "       6.26766103e-13,            nan,            nan,            nan,\n",
       "                  nan,            nan, 4.75426447e-12, 5.90821313e-09,\n",
       "       3.09775060e-10, 2.11096685e-12, 1.91486530e-12,            nan,\n",
       "                  nan,            nan,            nan,            nan,\n",
       "                  nan,            nan,            nan,            nan,\n",
       "                  nan,            nan,            nan,            nan,\n",
       "                  nan,            nan,            nan,            nan,\n",
       "                  nan,            nan,            nan,            nan,\n",
       "                  nan,            nan,            nan,            nan,\n",
       "                  nan,            nan,            nan,            nan,\n",
       "                  nan,            nan,            nan,            nan,\n",
       "                  nan,            nan,            nan,            nan,\n",
       "                  nan,            nan,            nan,            nan,\n",
       "                  nan,            nan,            nan,            nan,\n",
       "                  nan,            nan,            nan,            nan,\n",
       "                  nan,            nan,            nan,            nan,\n",
       "                  nan,            nan,            nan,            nan,\n",
       "                  nan,            nan,            nan,            nan,\n",
       "                  nan,            nan,            nan,            nan])"
      ]
     },
     "execution_count": 26,
     "metadata": {},
     "output_type": "execute_result"
    }
   ],
   "source": [
    "d0"
   ]
  },
  {
   "cell_type": "code",
   "execution_count": 27,
   "metadata": {},
   "outputs": [
    {
     "data": {
      "text/plain": [
       "array([1.45938661e-07, 1.38679437e-07, 1.54911878e-07, 2.44095672e-07,\n",
       "       3.17420934e-07, 1.72531201e-11,            nan,            nan,\n",
       "                  nan,            nan, 1.23945829e-07, 1.22661887e-07,\n",
       "       1.36925463e-07, 1.11717452e-07, 7.71432679e-07, 1.08859036e-09,\n",
       "                  nan,            nan,            nan,            nan,\n",
       "       1.20318622e-07, 4.16298108e-08, 1.40401102e-07, 1.03123043e-07,\n",
       "       6.75081579e-09,            nan,            nan,            nan,\n",
       "                  nan,            nan, 1.61228300e-07, 1.67215587e-07,\n",
       "       2.43146889e-07, 3.49030952e-07, 3.64963277e-08,            nan,\n",
       "                  nan,            nan,            nan,            nan,\n",
       "       3.58918933e-07, 4.41068461e-07, 1.67163335e-06, 9.31276135e-08,\n",
       "       1.96552111e-10,            nan,            nan,            nan,\n",
       "                  nan,            nan, 1.25303639e-07, 5.22906909e-08,\n",
       "       3.15310025e-07, 1.10463581e-08, 2.06515376e-09,            nan,\n",
       "                  nan,            nan,            nan,            nan,\n",
       "       3.44773958e-10, 1.92970194e-11, 5.10746711e-10, 1.95859079e-09,\n",
       "                  nan,            nan,            nan,            nan,\n",
       "                  nan,            nan,            nan,            nan,\n",
       "                  nan,            nan,            nan,            nan,\n",
       "                  nan,            nan,            nan,            nan,\n",
       "                  nan,            nan,            nan,            nan,\n",
       "                  nan,            nan,            nan,            nan,\n",
       "                  nan,            nan,            nan,            nan,\n",
       "                  nan,            nan,            nan,            nan,\n",
       "                  nan,            nan,            nan,            nan])"
      ]
     },
     "execution_count": 27,
     "metadata": {},
     "output_type": "execute_result"
    }
   ],
   "source": [
    "d1"
   ]
  },
  {
   "cell_type": "code",
   "execution_count": null,
   "metadata": {},
   "outputs": [],
   "source": []
  }
 ],
 "metadata": {
  "interpreter": {
   "hash": "871aeb43e99df445217f8150e40694afb64d0600c0573b6bac502dee120165de"
  },
  "kernelspec": {
   "display_name": "Python 3.8.12 ('base')",
   "language": "python",
   "name": "python3"
  },
  "language_info": {
   "codemirror_mode": {
    "name": "ipython",
    "version": 3
   },
   "file_extension": ".py",
   "mimetype": "text/x-python",
   "name": "python",
   "nbconvert_exporter": "python",
   "pygments_lexer": "ipython3",
   "version": "3.9.12"
  },
  "orig_nbformat": 4
 },
 "nbformat": 4,
 "nbformat_minor": 2
}
