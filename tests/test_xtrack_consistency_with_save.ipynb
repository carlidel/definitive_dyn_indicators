{
 "cells": [
  {
   "cell_type": "code",
   "execution_count": 2,
   "metadata": {},
   "outputs": [],
   "source": [
    "import numpy as np\n",
    "import matplotlib.pyplot as plt\n",
    "import pickle\n",
    "import os\n",
    "\n",
    "from definitive_dyn_indicators.utils.xtrack_engine import get_lhc_mask, xtrack_engine"
   ]
  },
  {
   "cell_type": "code",
   "execution_count": null,
   "metadata": {},
   "outputs": [],
   "source": [
    "OUTDIR = '../tmp'"
   ]
  },
  {
   "cell_type": "code",
   "execution_count": 4,
   "metadata": {},
   "outputs": [],
   "source": [
    "samples = 10\n",
    "n_turns = 100\n",
    "\n",
    "extent = (1e-3, 2e-3)\n",
    "x = np.linspace(*extent, samples)\n",
    "xx, yy = np.meshgrid(x, x)\n",
    "x_f = xx.flatten()\n",
    "y_f = yy.flatten()\n",
    "px_f = np.zeros_like(x_f)\n",
    "py_f = np.zeros_like(x_f)"
   ]
  },
  {
   "cell_type": "code",
   "execution_count": 3,
   "metadata": {},
   "outputs": [
    {
     "name": "stdout",
     "output_type": "stream",
     "text": [
      "generating ./31563af6cdaf4d4db29b8d341711a259.c\n",
      "the current directory is '/home/camontan/Insync/carlo.montanari3@studio.unibo.it/OneDrive_Biz/projects/definitive_dyn_indicators/tests'\n",
      "running build_ext\n",
      "building '31563af6cdaf4d4db29b8d341711a259' extension\n",
      "gcc -pthread -B /home/camontan/anaconda3/compiler_compat -Wl,--sysroot=/ -Wsign-compare -DNDEBUG -g -fwrapv -O3 -Wall -Wstrict-prototypes -fPIC -I/home/camontan/Insync/carlo.montanari3@studio.unibo.it/OneDrive_Biz/projects/definitive_dyn_indicators/venv/include -I/home/camontan/anaconda3/include/python3.8 -c 31563af6cdaf4d4db29b8d341711a259.c -o ./31563af6cdaf4d4db29b8d341711a259.o -std=c99 -O3 -Wno-unused-function\n",
      "gcc -pthread -shared -B /home/camontan/anaconda3/compiler_compat -L/home/camontan/anaconda3/lib -Wl,-rpath=/home/camontan/anaconda3/lib -Wl,--no-as-needed -Wl,--sysroot=/ ./31563af6cdaf4d4db29b8d341711a259.o -o ./31563af6cdaf4d4db29b8d341711a259.cpython-38-x86_64-linux-gnu.so -std=c99 -O3\n"
     ]
    }
   ],
   "source": [
    "engine = xtrack_engine()"
   ]
  },
  {
   "cell_type": "code",
   "execution_count": null,
   "metadata": {},
   "outputs": [],
   "source": [
    "data_true = engine.track(x_f, px_f, y_f, py_f, n_turns*2)"
   ]
  },
  {
   "cell_type": "code",
   "execution_count": null,
   "metadata": {},
   "outputs": [
    {
     "name": "stdout",
     "output_type": "stream",
     "text": [
      "generating ./31563af6cdaf4d4db29b8d341711a259.c\n",
      "the current directory is '/home/camontan/Insync/carlo.montanari3@studio.unibo.it/OneDrive_Biz/projects/definitive_dyn_indicators/tests'\n",
      "running build_ext\n",
      "building '31563af6cdaf4d4db29b8d341711a259' extension\n",
      "gcc -pthread -B /home/camontan/anaconda3/compiler_compat -Wl,--sysroot=/ -Wsign-compare -DNDEBUG -g -fwrapv -O3 -Wall -Wstrict-prototypes -fPIC -I/home/camontan/Insync/carlo.montanari3@studio.unibo.it/OneDrive_Biz/projects/definitive_dyn_indicators/venv/include -I/home/camontan/anaconda3/include/python3.8 -c 31563af6cdaf4d4db29b8d341711a259.c -o ./31563af6cdaf4d4db29b8d341711a259.o -std=c99 -O3 -Wno-unused-function\n",
      "gcc -pthread -shared -B /home/camontan/anaconda3/compiler_compat -L/home/camontan/anaconda3/lib -Wl,-rpath=/home/camontan/anaconda3/lib -Wl,--no-as-needed -Wl,--sysroot=/ ./31563af6cdaf4d4db29b8d341711a259.o -o ./31563af6cdaf4d4db29b8d341711a259.cpython-38-x86_64-linux-gnu.so -std=c99 -O3\n"
     ]
    }
   ],
   "source": [
    "engine = xtrack_engine()"
   ]
  },
  {
   "cell_type": "code",
   "execution_count": null,
   "metadata": {},
   "outputs": [],
   "source": [
    "data_half = engine.track(x_f, px_f, y_f, py_f, n_turns)"
   ]
  },
  {
   "cell_type": "code",
   "execution_count": null,
   "metadata": {},
   "outputs": [],
   "source": [
    "with open(os.path.join(OUTDIR, 'engine.pkl'), 'wb') as f:\n",
    "    pickle.dump(engine, f)"
   ]
  },
  {
   "cell_type": "code",
   "execution_count": null,
   "metadata": {},
   "outputs": [],
   "source": [
    "with open(os.path.join(OUTDIR, 'engine.pkl'), 'rb') as f:\n",
    "    engine = pickle.load(f)"
   ]
  },
  {
   "cell_type": "code",
   "execution_count": null,
   "metadata": {},
   "outputs": [],
   "source": [
    "data_maybe = engine.keep_tracking(n_turns)"
   ]
  }
 ],
 "metadata": {
  "interpreter": {
   "hash": "39e24c7b453a8531b1af69fac99c2733bf33f4c0e3efde00044b9636f7b2f9ae"
  },
  "kernelspec": {
   "display_name": "Python 3.8.12 64-bit ('venv': venv)",
   "language": "python",
   "name": "python3"
  },
  "language_info": {
   "codemirror_mode": {
    "name": "ipython",
    "version": 3
   },
   "file_extension": ".py",
   "mimetype": "text/x-python",
   "name": "python",
   "nbconvert_exporter": "python",
   "pygments_lexer": "ipython3",
   "version": "3.8.12"
  },
  "orig_nbformat": 4
 },
 "nbformat": 4,
 "nbformat_minor": 2
}
