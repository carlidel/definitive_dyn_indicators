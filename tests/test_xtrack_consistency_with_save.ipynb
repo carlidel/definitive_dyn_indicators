{
 "cells": [
  {
   "cell_type": "code",
   "execution_count": 1,
   "metadata": {},
   "outputs": [],
   "source": [
    "import numpy as np\n",
    "import matplotlib.pyplot as plt\n",
    "import pickle\n",
    "import os\n",
    "from tqdm.auto import tqdm\n",
    "\n",
    "from definitive_dyn_indicators.utils.xtrack_engine import get_lhc_mask, xtrack_engine"
   ]
  },
  {
   "cell_type": "code",
   "execution_count": 2,
   "metadata": {},
   "outputs": [],
   "source": [
    "OUTDIR = '../tmp'"
   ]
  },
  {
   "cell_type": "code",
   "execution_count": 3,
   "metadata": {},
   "outputs": [],
   "source": [
    "samples = 3\n",
    "n_turns = 10\n",
    "\n",
    "extent = (0.1e-3, 1e-3)\n",
    "x = np.linspace(*extent, samples)\n",
    "xx, yy = np.meshgrid(x, x)\n",
    "x_f = xx.flatten()\n",
    "y_f = yy.flatten()\n",
    "px_f = np.zeros_like(x_f)\n",
    "py_f = np.zeros_like(x_f)"
   ]
  },
  {
   "cell_type": "code",
   "execution_count": 4,
   "metadata": {},
   "outputs": [
    {
     "name": "stderr",
     "output_type": "stream",
     "text": [
      "/home/camontan/anaconda3/lib/python3.8/site-packages/pyopencl/__init__.py:266: CompilerWarning: Non-empty compiler output encountered. Set the environment variable PYOPENCL_COMPILER_OUTPUT=1 to see more.\n",
      "  warn(\"Non-empty compiler output encountered. Set the \"\n"
     ]
    }
   ],
   "source": [
    "engine = xtrack_engine(context=\"OPENCL\")\n"
   ]
  },
  {
   "cell_type": "code",
   "execution_count": 5,
   "metadata": {},
   "outputs": [],
   "source": [
    "data_true = engine.track(x_f, px_f, y_f, py_f, n_turns*10)"
   ]
  },
  {
   "cell_type": "code",
   "execution_count": 6,
   "metadata": {},
   "outputs": [],
   "source": [
    "engine = xtrack_engine(context=\"OPENCL\")"
   ]
  },
  {
   "cell_type": "code",
   "execution_count": 7,
   "metadata": {},
   "outputs": [
    {
     "name": "stderr",
     "output_type": "stream",
     "text": [
      "  0%|          | 0/9 [00:00<?, ?it/s]"
     ]
    },
    {
     "name": "stdout",
     "output_type": "stream",
     "text": [
      "Here!\n",
      "after save partcles to dict...\n",
      "convert\n",
      "<class 'dict'>\n",
      "Return?\n"
     ]
    },
    {
     "name": "stderr",
     "output_type": "stream",
     "text": [
      " 11%|█         | 1/9 [00:04<00:39,  4.94s/it]"
     ]
    },
    {
     "name": "stdout",
     "output_type": "stream",
     "text": [
      "Here!\n",
      "after save partcles to dict...\n",
      "convert\n",
      "<class 'dict'>\n",
      "Return?\n"
     ]
    },
    {
     "name": "stderr",
     "output_type": "stream",
     "text": [
      " 22%|██▏       | 2/9 [00:09<00:34,  4.97s/it]"
     ]
    },
    {
     "name": "stdout",
     "output_type": "stream",
     "text": [
      "Here!\n",
      "after save partcles to dict...\n",
      "convert\n",
      "<class 'dict'>\n",
      "Return?\n"
     ]
    },
    {
     "name": "stderr",
     "output_type": "stream",
     "text": [
      " 33%|███▎      | 3/9 [00:14<00:29,  4.99s/it]"
     ]
    },
    {
     "name": "stdout",
     "output_type": "stream",
     "text": [
      "Here!\n",
      "after save partcles to dict...\n",
      "convert\n",
      "<class 'dict'>\n",
      "Return?\n"
     ]
    },
    {
     "name": "stderr",
     "output_type": "stream",
     "text": [
      " 44%|████▍     | 4/9 [00:19<00:24,  4.93s/it]"
     ]
    },
    {
     "name": "stdout",
     "output_type": "stream",
     "text": [
      "Here!\n",
      "after save partcles to dict...\n",
      "convert\n",
      "<class 'dict'>\n",
      "Return?\n"
     ]
    },
    {
     "name": "stderr",
     "output_type": "stream",
     "text": [
      " 56%|█████▌    | 5/9 [00:24<00:19,  4.90s/it]"
     ]
    },
    {
     "name": "stdout",
     "output_type": "stream",
     "text": [
      "Here!\n",
      "after save partcles to dict...\n",
      "convert\n",
      "<class 'dict'>\n",
      "Return?\n"
     ]
    },
    {
     "name": "stderr",
     "output_type": "stream",
     "text": [
      " 67%|██████▋   | 6/9 [00:29<00:14,  4.89s/it]"
     ]
    },
    {
     "name": "stdout",
     "output_type": "stream",
     "text": [
      "Here!\n",
      "after save partcles to dict...\n",
      "convert\n",
      "<class 'dict'>\n",
      "Return?\n"
     ]
    },
    {
     "name": "stderr",
     "output_type": "stream",
     "text": [
      " 78%|███████▊  | 7/9 [00:34<00:09,  4.89s/it]"
     ]
    },
    {
     "name": "stdout",
     "output_type": "stream",
     "text": [
      "Here!\n",
      "after save partcles to dict...\n",
      "convert\n",
      "<class 'dict'>\n",
      "Return?\n"
     ]
    },
    {
     "name": "stderr",
     "output_type": "stream",
     "text": [
      " 89%|████████▉ | 8/9 [00:39<00:04,  4.94s/it]"
     ]
    },
    {
     "name": "stdout",
     "output_type": "stream",
     "text": [
      "Here!\n",
      "after save partcles to dict...\n",
      "convert\n",
      "<class 'dict'>\n",
      "Return?\n"
     ]
    },
    {
     "name": "stderr",
     "output_type": "stream",
     "text": [
      "100%|██████████| 9/9 [00:44<00:00,  4.90s/it]\n"
     ]
    }
   ],
   "source": [
    "data_half = engine.track(x_f, px_f, y_f, py_f, n_turns)\n",
    "\n",
    "for i in tqdm(range(9)):\n",
    "    with open(os.path.join(OUTDIR, 'engine.pkl'), 'wb') as f:\n",
    "        pickle.dump(engine, f)\n",
    "\n",
    "    with open(os.path.join(OUTDIR, 'engine.pkl'), 'rb') as f:\n",
    "        engine = pickle.load(f)\n",
    "\n",
    "    data_maybe = engine.keep_tracking(n_turns)\n"
   ]
  },
  {
   "cell_type": "code",
   "execution_count": 8,
   "metadata": {},
   "outputs": [
    {
     "data": {
      "text/plain": [
       "<matplotlib.image.AxesImage at 0x7f49408de0a0>"
      ]
     },
     "execution_count": 8,
     "metadata": {},
     "output_type": "execute_result"
    },
    {
     "data": {
      "image/png": "[encoded data removed]",
      "text/plain": [
       "<Figure size 1080x360 with 3 Axes>"
      ]
     },
     "metadata": {
      "needs_background": "light"
     },
     "output_type": "display_data"
    }
   ],
   "source": [
    "fig, (ax1, ax2, ax3) = plt.subplots(1, 3, figsize=(15, 5))\n",
    "\n",
    "ax1.imshow(data_true[4].reshape(samples, samples),\n",
    "           extent=extent + extent, origin='lower')\n",
    "ax2.imshow(data_maybe[4].reshape(samples, samples),\n",
    "           extent=extent + extent, origin='lower')\n",
    "ax3.imshow((data_true[4]-data_maybe[4]).reshape(samples, samples),\n",
    "           extent=extent + extent, origin='lower')\n"
   ]
  },
  {
   "cell_type": "code",
   "execution_count": 9,
   "metadata": {},
   "outputs": [
    {
     "data": {
      "text/plain": [
       "array([[0, 0, 0],\n",
       "       [0, 0, 0],\n",
       "       [0, 0, 0]])"
      ]
     },
     "execution_count": 9,
     "metadata": {},
     "output_type": "execute_result"
    }
   ],
   "source": [
    "(data_true[4]-data_maybe[4]).reshape(samples, samples)"
   ]
  },
  {
   "cell_type": "code",
   "execution_count": 10,
   "metadata": {},
   "outputs": [
    {
     "name": "stderr",
     "output_type": "stream",
     "text": [
      "/tmp/ipykernel_49763/3373771070.py:3: RuntimeWarning: divide by zero encountered in log10\n",
      "  plt.imshow(np.log10(np.absolute((data_true[0]-data_maybe[0])/data_true[0])).reshape(samples, samples),\n"
     ]
    },
    {
     "data": {
      "text/plain": [
       "<matplotlib.colorbar.Colorbar at 0x7f4940c66be0>"
      ]
     },
     "execution_count": 10,
     "metadata": {},
     "output_type": "execute_result"
    },
    {
     "data": {
      "image/png": "[encoded data removed]",
      "text/plain": [
       "<Figure size 432x288 with 2 Axes>"
      ]
     },
     "metadata": {
      "needs_background": "light"
     },
     "output_type": "display_data"
    }
   ],
   "source": [
    "plt.figure()\n",
    "\n",
    "plt.imshow(np.log10(np.absolute((data_true[0]-data_maybe[0])/data_true[0])).reshape(samples, samples),\n",
    "           extent=extent + extent, origin='lower')\n",
    "\n",
    "plt.colorbar(label=\"Relative error [log10]\")"
   ]
  },
  {
   "cell_type": "code",
   "execution_count": null,
   "metadata": {},
   "outputs": [],
   "source": []
  }
 ],
 "metadata": {
  "interpreter": {
   "hash": "39e24c7b453a8531b1af69fac99c2733bf33f4c0e3efde00044b9636f7b2f9ae"
  },
  "kernelspec": {
   "display_name": "Python 3.8.12 64-bit ('venv': venv)",
   "language": "python",
   "name": "python3"
  },
  "language_info": {
   "codemirror_mode": {
    "name": "ipython",
    "version": 3
   },
   "file_extension": ".py",
   "mimetype": "text/x-python",
   "name": "python",
   "nbconvert_exporter": "python",
   "pygments_lexer": "ipython3",
   "version": "3.8.12"
  },
  "orig_nbformat": 4
 },
 "nbformat": 4,
 "nbformat_minor": 2
}
